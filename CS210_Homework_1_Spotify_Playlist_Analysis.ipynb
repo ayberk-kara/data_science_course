{
  "cells": [
    {
      "cell_type": "code",
      "source": [],
      "metadata": {
        "id": "R5RPscmS7-9A"
      },
      "id": "R5RPscmS7-9A",
      "execution_count": null,
      "outputs": []
    },
    {
      "cell_type": "code",
      "source": [
        "from google.colab import drive\n",
        "drive.mount('/content/drive')"
      ],
      "metadata": {
        "colab": {
          "base_uri": "https://localhost:8080/"
        },
        "id": "nzSTcGy57_U3",
        "outputId": "63e275b9-e3c9-42c3-8ca2-11e755a5d465"
      },
      "id": "nzSTcGy57_U3",
      "execution_count": null,
      "outputs": [
        {
          "output_type": "stream",
          "name": "stdout",
          "text": [
            "Mounted at /content/drive\n"
          ]
        }
      ]
    },
    {
      "cell_type": "markdown",
      "id": "25bcef74",
      "metadata": {
        "id": "25bcef74"
      },
      "source": [
        "# CS210 - Homework #1: Spotify Playlist Analysis\n"
      ]
    },
    {
      "cell_type": "markdown",
      "id": "9b102f0d",
      "metadata": {
        "id": "9b102f0d"
      },
      "source": [
        "Exploratory Data Analysis is a fundamental process in the field of data science that helps us gain insights into a dataset by summarizing its main characteristics and identifying patterns and relationships within the data. In this assignment, we will be applying exploratory data analysis techniques to a Spotify playlist to better understand the characteristics of the songs in the playlist. Through this exercise, we will learn how to clean and transform data, visualize distributions, and uncover insights that can help us make informed decisions about the playlist's content and structure. Whether you are a music lover, aspiring data scientist, or simply interested in exploring the power of data, this assignment will provide you with a hands-on experience in exploratory data analysis that you can apply to any dataset.\n",
        "\n",
        "For this homework, you will use the provided file `Spotify_Playlist_Analysis.csv`.\n",
        "\n",
        "Below, you can find all the set of features, provided in the dataset:\n",
        "\n",
        "\n",
        "  1.   **Track Name:** The name of the track.\n",
        "  \n",
        "  2.   **Album Name:** The name of the album that the track belongs.\n",
        "\n",
        "  3.   **Artist Name(s):** The name of the artists who released the track.\n",
        "\n",
        "  4.   **Release Date:** The release date of the track.\n",
        "  \n",
        "  5.   **Duration (ms):** Numerical, the duration of the track in milliseconds.\n",
        "  \n",
        "  6.   **Popularity:** Numerical, the popularity of a track is a value between 0 and 100, with 100 being the most popular. The popularity is calculated by algorithm and is based, in the most part, on the total number of plays the track has had and how recent those plays are.\n",
        "  \n",
        "  7.   **Genres:** The genres of the album that the track has.\n",
        "\n",
        "  8.   **Danceability:** Numerical, danceability describes how suitable a track is for dancing based on a combination of musical elements including tempo, rhythm stability, beat strength, and overall regularity. A value of 0.0 is least danceable and 1.0 is most danceable.\n",
        "\n",
        "  9.   **Energy** Numerical, Energy is a measure from 0.0 to 1.0 and represents a perceptual measure of intensity and activity. Typically, energetic tracks feel fast, loud, and noisy. For example, death metal has high energy, while a Bach prelude scores low on the scale. Perceptual features contributing to this attribute include dynamic range, perceived loudness, timbre, onset rate, and general entropy.\n",
        "  \n",
        "  10.   **Key:** Numerical, the estimated overall key of the track. Integers map to pitches using standard Pitch Class notation . E.g. 0 = C, 1 = C#/Db, 2 = D, and so on. If no key was detected, the value is -1.\n",
        "  \n",
        "  11.   **Loudness:** Numerical, Overall loudness of a track in decibels (dB). Loudness values are averaged across the entire track and are useful for comparing relative loudness of tracks. Loudness is the quality of a sound that is the primary psychological correlate of physical strength (amplitude). Values typical range between -60 and 0 db.\n",
        "  \n",
        "  12.   **Mode:** Numerical, mode indicates the modality (major or minor) of a track, the type of scale from which its melodic content is derived. Major is represented by 1 and minor is 0.\n",
        "  \n",
        "  13.   **Speechiness:**  Numerical, speechiness detects the presence of spoken words in a track. The more exclusively speech-like the recording (e.g. talk show, audio book, poetry), the closer to 1.0 the attribute value. Values above 0.66 describe tracks that are probably made entirely of spoken words. Values between 0.33 and 0.66 describe tracks that may contain both music and speech, either in sections or layered, including such cases as rap music. Values below 0.33 most likely represent music and other non-speech-like tracks.\n",
        "\n",
        "  14.   **Acousticness:**  Numerical, Confidence measure from 0.0 to 1.0 of whether the track is acoustic. 1.0 represents high confidence the track is acoustic.\n",
        "\n",
        "  15.   **Instrumentalness** Numerical, predicts whether a track contains no vocals. “Ooh” and “aah” sounds are treated as instrumental in this context. Rap or spoken word tracks are clearly “vocal”. The closer the instrumentalness value is to 1.0, the greater likelihood the track contains no vocal content. Values above 0.5 are intended to represent instrumental tracks, but confidence is higher as the value approaches 1.0.\n",
        "  \n",
        "  16.   **Liveness:** Numerical, detects the presence of an audience in the recording. Higher liveness values represent an increased probability that the track was performed live. A value above 0.8 provides strong likelihood that the track is live.\n",
        "  \n",
        "  17.   **Valence:** Numerical, Measure from 0.0 to 1.0 describing the musical positiveness conveyed by a track. Tracks with high valence sound more positive (e.g. happy, cheerful, euphoric), while tracks with low valence sound more negative (e.g. sad, depressed, angry).\n",
        "  \n",
        "  18.   **Tempo:**  Numerical, Overall estimated tempo of a track in beats per minute (BPM). In musical terminology, tempo is the speed or pace of a given piece and derives directly from the average beat duration.\n",
        "\n"
      ]
    },
    {
      "cell_type": "code",
      "execution_count": null,
      "id": "358bd436",
      "metadata": {
        "id": "358bd436"
      },
      "outputs": [],
      "source": [
        "import pandas as pd\n",
        "import numpy as np\n",
        "import matplotlib.pyplot as plt\n",
        "import seaborn as sns\n",
        "from collections import Counter"
      ]
    },
    {
      "cell_type": "markdown",
      "id": "1a0403bd",
      "metadata": {
        "id": "1a0403bd"
      },
      "source": [
        "## Q1: Data Cleaning (15 points)"
      ]
    },
    {
      "cell_type": "markdown",
      "id": "ad730258",
      "metadata": {
        "id": "ad730258"
      },
      "source": [
        "It is not possible to find a perfect dataset. During data collection, some values can be lost or some values can be duplicated. These lost values are called as missing values. In the DataFrame, missing values are usually labelled as `NaN`. Before starting to work on our dataset, it is very important to clean the dataset. For this, we need to look at how many missing values we have in the data set, how many duplicates there are.\n",
        "\n",
        "In this question;\n",
        "* First, print the shape (Number of rows and columns) of the dataset.\n",
        "* Secondly, you should show info of the dataset (#,column, non_null count, Dtype of columns) , this will also help to understand if dataframe has any missing values.\n",
        "* Lastly, you should check if dataframe has any duplicates, and you should drop the duplicates if any."
      ]
    },
    {
      "cell_type": "code",
      "execution_count": null,
      "id": "f44b54d7",
      "metadata": {
        "id": "f44b54d7",
        "colab": {
          "base_uri": "https://localhost:8080/"
        },
        "outputId": "b0d4d69c-2ae5-4e8f-db06-5fcf4a1828ca"
      },
      "outputs": [
        {
          "output_type": "execute_result",
          "data": {
            "text/plain": [
              "(607, 18)"
            ]
          },
          "metadata": {},
          "execution_count": 3
        }
      ],
      "source": [
        "#3pts\n",
        "\n",
        "#read the file.\n",
        "#print number of the rows and columns.\n",
        "\n",
        "\n",
        "fname = \"/content/drive/MyDrive/Colab Notebooks/Spotify_Playlist_Analysis.csv\"\n",
        "df = pd.read_csv(fname)\n",
        "df.shape\n",
        "#with open('/content/drive/MyDrive/Colab Notebooks/Spotify_Playlist_Analysis.csv') as f\n"
      ]
    },
    {
      "cell_type": "code",
      "execution_count": null,
      "id": "1718dfa6",
      "metadata": {
        "id": "1718dfa6",
        "colab": {
          "base_uri": "https://localhost:8080/"
        },
        "outputId": "7f1b7766-230b-4bd9-d7c1-a6f14a186330"
      },
      "outputs": [
        {
          "output_type": "stream",
          "name": "stdout",
          "text": [
            "<class 'pandas.core.frame.DataFrame'>\n",
            "RangeIndex: 607 entries, 0 to 606\n",
            "Data columns (total 18 columns):\n",
            " #   Column            Non-Null Count  Dtype  \n",
            "---  ------            --------------  -----  \n",
            " 0   Track Name        607 non-null    object \n",
            " 1   Album Name        607 non-null    object \n",
            " 2   Artist Name(s)    607 non-null    object \n",
            " 3   Release Date      607 non-null    object \n",
            " 4   Duration (ms)     607 non-null    int64  \n",
            " 5   Popularity        607 non-null    int64  \n",
            " 6   Genres            603 non-null    object \n",
            " 7   Danceability      607 non-null    float64\n",
            " 8   Energy            607 non-null    float64\n",
            " 9   Key               607 non-null    int64  \n",
            " 10  Loudness          607 non-null    float64\n",
            " 11  Mode              607 non-null    int64  \n",
            " 12  Speechiness       607 non-null    float64\n",
            " 13  Acousticness      607 non-null    float64\n",
            " 14  Instrumentalness  607 non-null    float64\n",
            " 15  Liveness          607 non-null    float64\n",
            " 16  Valence           607 non-null    float64\n",
            " 17  Tempo             607 non-null    float64\n",
            "dtypes: float64(9), int64(4), object(5)\n",
            "memory usage: 85.5+ KB\n"
          ]
        }
      ],
      "source": [
        "#2pts\n",
        "df.info()\n",
        "#show the info of the playlist_df.\n"
      ]
    },
    {
      "cell_type": "markdown",
      "id": "30287f22",
      "metadata": {
        "id": "30287f22"
      },
      "source": [
        "When we control the result, number of non-null objects is equals to number of rows. This means there are no missing rows in our dataset, so don't need to do any operation here. Now let's filter the duplicate rows."
      ]
    },
    {
      "cell_type": "code",
      "execution_count": null,
      "id": "938abd6d",
      "metadata": {
        "id": "938abd6d",
        "colab": {
          "base_uri": "https://localhost:8080/"
        },
        "outputId": "66d2c343-b1c5-465c-c4cf-99c0b9324101"
      },
      "outputs": [
        {
          "output_type": "stream",
          "name": "stdout",
          "text": [
            "                                Track Name  \\\n",
            "540                             Simple Man   \n",
            "541                        Battle Symphony   \n",
            "542             we fell in love in october   \n",
            "543                     Moaning Lisa Smile   \n",
            "544                            zombie girl   \n",
            "545                              Otherside   \n",
            "546                 Somewhere Only We Know   \n",
            "586                               Concorde   \n",
            "588                               Good Day   \n",
            "590  The Place Where He Inserted the Blade   \n",
            "591                        Posing For Cars   \n",
            "595                       Four Out Of Five   \n",
            "596                         Savior Complex   \n",
            "\n",
            "                                            Album Name  \\\n",
            "540  (Pronounced 'Leh-'Nérd 'Skin-'Nérd) [Expanded ...   \n",
            "541                                     One More Light   \n",
            "542            we fell in love in october / forget her   \n",
            "543                   My Love Is Cool (Deluxe Edition)   \n",
            "544                                              songs   \n",
            "545                   Californication (Deluxe Edition)   \n",
            "546                                    Hopes And Fears   \n",
            "586                                 Ants From Up There   \n",
            "588                     Everything Else Has Gone Wrong   \n",
            "590                                 Ants From Up There   \n",
            "591                                            Jubilee   \n",
            "595                    Tranquility Base Hotel & Casino   \n",
            "596                                           Punisher   \n",
            "\n",
            "              Artist Name(s) Release Date  Duration (ms)  Popularity  \\\n",
            "540           Lynyrd Skynyrd         1973         357933           0   \n",
            "541              Linkin Park   2017-05-19         216281          62   \n",
            "542              girl in red   2018-11-21         184153          32   \n",
            "543               Wolf Alice   2016-02-05         160747          48   \n",
            "544          Adrianne Lenker   2020-10-23         164224          48   \n",
            "545    Red Hot Chili Peppers   1999-06-08         255373          77   \n",
            "546                    Keane   2004-05-10         237146          82   \n",
            "586  Black Country, New Road   2022-02-04         363773          56   \n",
            "588      Bombay Bicycle Club   2020-01-17         232080          42   \n",
            "590  Black Country, New Road   2022-02-04         433360          57   \n",
            "591       Japanese Breakfast   2021-06-04         398783          48   \n",
            "595           Arctic Monkeys   2018-05-10         312346          56   \n",
            "596          Phoebe Bridgers   2020-06-18         241640          67   \n",
            "\n",
            "                                                Genres  Danceability  Energy  \\\n",
            "540  album rock,blues rock,classic rock,country roc...         0.461   0.734   \n",
            "541   alternative metal,nu metal,post-grunge,rap metal         0.653   0.839   \n",
            "542          bedroom pop,indie pop,norwegian indie,pop         0.566   0.366   \n",
            "543  indie pop,indie rock,modern alternative rock,m...         0.470   0.806   \n",
            "544  art pop,chamber pop,indie folk,indie pop,indie...         0.538   0.103   \n",
            "545  alternative rock,funk metal,funk rock,permanen...         0.458   0.795   \n",
            "546                     neo mellow,piano rock,pop rock         0.448   0.665   \n",
            "586  crank wave,indie rock,london indie,uk post-pun...         0.565   0.284   \n",
            "588  alternative dance,british indie rock,indie roc...         0.816   0.501   \n",
            "590  crank wave,indie rock,london indie,uk post-pun...         0.376   0.451   \n",
            "591        art pop,eugene indie,indie pop,philly indie         0.298   0.266   \n",
            "595  garage rock,modern rock,permanent wave,rock,sh...         0.601   0.863   \n",
            "596                                 indie pop,la indie         0.377   0.440   \n",
            "\n",
            "     Key  Loudness  Mode  Speechiness  Acousticness  Instrumentalness  \\\n",
            "540    1    -9.379     1       0.0374      0.000790          0.005540   \n",
            "541   10    -5.077     1       0.0685      0.036900          0.000000   \n",
            "542    7   -12.808     1       0.0280      0.113000          0.181000   \n",
            "543    2    -2.920     1       0.0505      0.000575          0.056400   \n",
            "544    8   -19.380     1       0.0462      0.914000          0.000053   \n",
            "545    0    -3.265     1       0.0574      0.003160          0.000202   \n",
            "546    9    -4.203     1       0.0260      0.060000          0.000025   \n",
            "586    9   -11.881     1       0.0286      0.023000          0.098000   \n",
            "588    1   -11.557     1       0.0574      0.198000          0.082600   \n",
            "590   11    -8.276     1       0.0327      0.402000          0.000041   \n",
            "591    7    -9.113     1       0.0321      0.301000          0.050400   \n",
            "595    0    -4.310     1       0.0685      0.062600          0.000000   \n",
            "596    4   -11.878     1       0.0325      0.931000          0.019600   \n",
            "\n",
            "     Liveness  Valence    Tempo  \n",
            "540    0.2200    0.423  120.550  \n",
            "541    0.0680    0.669  149.034  \n",
            "542    0.1550    0.237  129.959  \n",
            "543    0.0917    0.339   98.046  \n",
            "544    0.1370    0.383  128.424  \n",
            "545    0.0756    0.513  123.229  \n",
            "546    0.0828    0.304  172.004  \n",
            "586    0.1130    0.314  131.309  \n",
            "588    0.0948    0.153  121.979  \n",
            "590    0.1280    0.164  123.344  \n",
            "591    0.1340    0.129  115.954  \n",
            "595    0.0717    0.676  130.189  \n",
            "596    0.1050    0.224  128.999  \n"
          ]
        }
      ],
      "source": [
        "#5pts\n",
        "df2 = df[df[['Track Name', 'Album Name','Artist Name(s)','Release Date','Duration (ms)','Popularity','Genres','Danceability','Energy','Key','Loudness','Mode','Speechiness','Acousticness','Instrumentalness','Liveness','Valence','Tempo']].duplicated() == True]\n",
        "print(df2)\n",
        "#filter the duplicate rows and show the head."
      ]
    },
    {
      "cell_type": "markdown",
      "id": "62cda7b3",
      "metadata": {
        "id": "62cda7b3"
      },
      "source": [
        "As you see above, there are some duplicate rows in our dataset. The duplicate values can be an issue in our analysis, so it's important to get rid of them. In below cell, first drop the duplicates then print the shape and see if the shape at the start changed or not."
      ]
    },
    {
      "cell_type": "code",
      "execution_count": null,
      "id": "f54efab1",
      "metadata": {
        "id": "f54efab1"
      },
      "outputs": [],
      "source": [
        "#5pts\n",
        "df3 = df.drop_duplicates(keep='first')\n",
        "#drop the duplicates.\n",
        "#print number of the rows and columns after dropping duplicates."
      ]
    },
    {
      "cell_type": "markdown",
      "id": "a7b79210",
      "metadata": {
        "id": "a7b79210"
      },
      "source": [
        "Sometimes, you may fail to drop the duplicates. Double-check is important in these kind of cases therefore in the cell below, filter the duplicate rows again. If you see anything, then you did something wrong."
      ]
    },
    {
      "cell_type": "code",
      "execution_count": null,
      "id": "1c6fcee3",
      "metadata": {
        "id": "1c6fcee3",
        "colab": {
          "base_uri": "https://localhost:8080/"
        },
        "outputId": "aa42d7ef-a481-41d6-9149-b72920169a25"
      },
      "outputs": [
        {
          "output_type": "stream",
          "name": "stdout",
          "text": [
            "           Track Name                                 Album Name  \\\n",
            "0    Crying Lightning                                     Humbug   \n",
            "1     Ode To The Mets                           The New Abnormal   \n",
            "2      Buzzcut Season                               Pure Heroine   \n",
            "3      I Know The End                                   Punisher   \n",
            "4    Simulation Swarm  Dragon New Warm Mountain I Believe In You   \n",
            "..                ...                                        ...   \n",
            "602       Do Not Wait                            Nothing Happens   \n",
            "603         Wild Time                             Titanic Rising   \n",
            "604      Leif Erikson                  Turn On The Bright Lights   \n",
            "605   Oceanic Feeling                                Solar Power   \n",
            "606          Supercut                                  Melodrama   \n",
            "\n",
            "      Artist Name(s) Release Date  Duration (ms)  Popularity  \\\n",
            "0     Arctic Monkeys   2009-08-20         224826          67   \n",
            "1        The Strokes   2020-04-10         351786          64   \n",
            "2              Lorde   2013-09-27         246755          68   \n",
            "3    Phoebe Bridgers   2020-06-18         344692           0   \n",
            "4          Big Thief   2022-02-11         252733          62   \n",
            "..               ...          ...            ...         ...   \n",
            "602          Wallows   2019-03-22         390880          49   \n",
            "603      Weyes Blood   2019-04-05         369265          47   \n",
            "604         Interpol   2002-08-20         240093          50   \n",
            "605            Lorde   2021-08-20         399583          47   \n",
            "606            Lorde   2017-06-16         277506          67   \n",
            "\n",
            "                                                Genres  Danceability  Energy  \\\n",
            "0    garage rock,modern rock,permanent wave,rock,sh...         0.498   0.885   \n",
            "1    alternative rock,garage rock,modern rock,perma...         0.426   0.617   \n",
            "2                      art pop,metropopolis,nz pop,pop         0.733   0.620   \n",
            "3                                   indie pop,la indie         0.328   0.320   \n",
            "4    art pop,brooklyn indie,indie pop,indie rock,sm...         0.703   0.578   \n",
            "..                                                 ...           ...     ...   \n",
            "602                          indie pop,modern rock,pop         0.230   0.473   \n",
            "603                art pop,experimental folk,indie pop         0.382   0.423   \n",
            "604       alternative rock,indie rock,modern rock,rock         0.525   0.739   \n",
            "605                    art pop,metropopolis,nz pop,pop         0.473   0.359   \n",
            "606                    art pop,metropopolis,nz pop,pop         0.562   0.437   \n",
            "\n",
            "     Key  Loudness  Mode  Speechiness  Acousticness  Instrumentalness  \\\n",
            "0      4    -4.423     0       0.0461        0.0148          0.000410   \n",
            "1      1    -5.423     0       0.0289        0.3410          0.181000   \n",
            "2      1   -10.525     1       0.0750        0.6060          0.305000   \n",
            "3      1   -10.282     1       0.0350        0.3240          0.019000   \n",
            "4      1    -9.103     1       0.0728        0.4460          0.002400   \n",
            "..   ...       ...   ...          ...           ...               ...   \n",
            "602    4    -9.583     1       0.0303        0.0305          0.013300   \n",
            "603    7    -9.929     1       0.0269        0.5510          0.006500   \n",
            "604    7    -7.521     1       0.0246        0.0554          0.584000   \n",
            "605    0   -13.094     1       0.0431        0.8500          0.001150   \n",
            "606    0   -10.229     1       0.0520        0.2190          0.000022   \n",
            "\n",
            "     Liveness  Valence    Tempo  \n",
            "0      0.2390   0.6700  106.719  \n",
            "1      0.1010   0.2010   92.002  \n",
            "2      0.1170   0.2470  111.039  \n",
            "3      0.2340   0.2590  111.453  \n",
            "4      0.1020   0.6700  105.204  \n",
            "..        ...      ...      ...  \n",
            "602    0.1610   0.0715   99.832  \n",
            "603    0.2100   0.2330  141.359  \n",
            "604    0.0872   0.6510  108.568  \n",
            "605    0.1200   0.1850  113.364  \n",
            "606    0.0806   0.1500  124.852  \n",
            "\n",
            "[594 rows x 18 columns]\n"
          ]
        }
      ],
      "source": [
        "#filter the duplicate rows.\n",
        "print(df3)\n"
      ]
    },
    {
      "cell_type": "markdown",
      "id": "cd16bd0e",
      "metadata": {
        "id": "cd16bd0e"
      },
      "source": [
        "## Q2: Exploring the Dataset (40 points)"
      ]
    },
    {
      "cell_type": "markdown",
      "id": "5062af49",
      "metadata": {
        "id": "5062af49"
      },
      "source": [
        "Since we complete the cleaning, we can finally start deep-diving into the dataset. First let's look at the 5 rows of our dataframe, and see the statistical summaries of columns with describe."
      ]
    },
    {
      "cell_type": "code",
      "execution_count": null,
      "id": "40473551",
      "metadata": {
        "id": "40473551",
        "colab": {
          "base_uri": "https://localhost:8080/",
          "height": 513
        },
        "outputId": "5a1d0822-1495-4fff-cb8f-024fc76669ee"
      },
      "outputs": [
        {
          "output_type": "execute_result",
          "data": {
            "text/plain": [
              "         Track Name                                 Album Name  \\\n",
              "0  Crying Lightning                                     Humbug   \n",
              "1   Ode To The Mets                           The New Abnormal   \n",
              "2    Buzzcut Season                               Pure Heroine   \n",
              "3    I Know The End                                   Punisher   \n",
              "4  Simulation Swarm  Dragon New Warm Mountain I Believe In You   \n",
              "\n",
              "    Artist Name(s) Release Date  Duration (ms)  Popularity  \\\n",
              "0   Arctic Monkeys   2009-08-20         224826          67   \n",
              "1      The Strokes   2020-04-10         351786          64   \n",
              "2            Lorde   2013-09-27         246755          68   \n",
              "3  Phoebe Bridgers   2020-06-18         344692           0   \n",
              "4        Big Thief   2022-02-11         252733          62   \n",
              "\n",
              "                                              Genres  Danceability  Energy  \\\n",
              "0  garage rock,modern rock,permanent wave,rock,sh...         0.498   0.885   \n",
              "1  alternative rock,garage rock,modern rock,perma...         0.426   0.617   \n",
              "2                    art pop,metropopolis,nz pop,pop         0.733   0.620   \n",
              "3                                 indie pop,la indie         0.328   0.320   \n",
              "4  art pop,brooklyn indie,indie pop,indie rock,sm...         0.703   0.578   \n",
              "\n",
              "   Key  Loudness  Mode  Speechiness  Acousticness  Instrumentalness  Liveness  \\\n",
              "0    4    -4.423     0       0.0461        0.0148           0.00041     0.239   \n",
              "1    1    -5.423     0       0.0289        0.3410           0.18100     0.101   \n",
              "2    1   -10.525     1       0.0750        0.6060           0.30500     0.117   \n",
              "3    1   -10.282     1       0.0350        0.3240           0.01900     0.234   \n",
              "4    1    -9.103     1       0.0728        0.4460           0.00240     0.102   \n",
              "\n",
              "   Valence    Tempo  \n",
              "0    0.670  106.719  \n",
              "1    0.201   92.002  \n",
              "2    0.247  111.039  \n",
              "3    0.259  111.453  \n",
              "4    0.670  105.204  "
            ],
            "text/html": [
              "\n",
              "  <div id=\"df-8fc9c94e-3a03-4c16-b928-25478892ab75\">\n",
              "    <div class=\"colab-df-container\">\n",
              "      <div>\n",
              "<style scoped>\n",
              "    .dataframe tbody tr th:only-of-type {\n",
              "        vertical-align: middle;\n",
              "    }\n",
              "\n",
              "    .dataframe tbody tr th {\n",
              "        vertical-align: top;\n",
              "    }\n",
              "\n",
              "    .dataframe thead th {\n",
              "        text-align: right;\n",
              "    }\n",
              "</style>\n",
              "<table border=\"1\" class=\"dataframe\">\n",
              "  <thead>\n",
              "    <tr style=\"text-align: right;\">\n",
              "      <th></th>\n",
              "      <th>Track Name</th>\n",
              "      <th>Album Name</th>\n",
              "      <th>Artist Name(s)</th>\n",
              "      <th>Release Date</th>\n",
              "      <th>Duration (ms)</th>\n",
              "      <th>Popularity</th>\n",
              "      <th>Genres</th>\n",
              "      <th>Danceability</th>\n",
              "      <th>Energy</th>\n",
              "      <th>Key</th>\n",
              "      <th>Loudness</th>\n",
              "      <th>Mode</th>\n",
              "      <th>Speechiness</th>\n",
              "      <th>Acousticness</th>\n",
              "      <th>Instrumentalness</th>\n",
              "      <th>Liveness</th>\n",
              "      <th>Valence</th>\n",
              "      <th>Tempo</th>\n",
              "    </tr>\n",
              "  </thead>\n",
              "  <tbody>\n",
              "    <tr>\n",
              "      <th>0</th>\n",
              "      <td>Crying Lightning</td>\n",
              "      <td>Humbug</td>\n",
              "      <td>Arctic Monkeys</td>\n",
              "      <td>2009-08-20</td>\n",
              "      <td>224826</td>\n",
              "      <td>67</td>\n",
              "      <td>garage rock,modern rock,permanent wave,rock,sh...</td>\n",
              "      <td>0.498</td>\n",
              "      <td>0.885</td>\n",
              "      <td>4</td>\n",
              "      <td>-4.423</td>\n",
              "      <td>0</td>\n",
              "      <td>0.0461</td>\n",
              "      <td>0.0148</td>\n",
              "      <td>0.00041</td>\n",
              "      <td>0.239</td>\n",
              "      <td>0.670</td>\n",
              "      <td>106.719</td>\n",
              "    </tr>\n",
              "    <tr>\n",
              "      <th>1</th>\n",
              "      <td>Ode To The Mets</td>\n",
              "      <td>The New Abnormal</td>\n",
              "      <td>The Strokes</td>\n",
              "      <td>2020-04-10</td>\n",
              "      <td>351786</td>\n",
              "      <td>64</td>\n",
              "      <td>alternative rock,garage rock,modern rock,perma...</td>\n",
              "      <td>0.426</td>\n",
              "      <td>0.617</td>\n",
              "      <td>1</td>\n",
              "      <td>-5.423</td>\n",
              "      <td>0</td>\n",
              "      <td>0.0289</td>\n",
              "      <td>0.3410</td>\n",
              "      <td>0.18100</td>\n",
              "      <td>0.101</td>\n",
              "      <td>0.201</td>\n",
              "      <td>92.002</td>\n",
              "    </tr>\n",
              "    <tr>\n",
              "      <th>2</th>\n",
              "      <td>Buzzcut Season</td>\n",
              "      <td>Pure Heroine</td>\n",
              "      <td>Lorde</td>\n",
              "      <td>2013-09-27</td>\n",
              "      <td>246755</td>\n",
              "      <td>68</td>\n",
              "      <td>art pop,metropopolis,nz pop,pop</td>\n",
              "      <td>0.733</td>\n",
              "      <td>0.620</td>\n",
              "      <td>1</td>\n",
              "      <td>-10.525</td>\n",
              "      <td>1</td>\n",
              "      <td>0.0750</td>\n",
              "      <td>0.6060</td>\n",
              "      <td>0.30500</td>\n",
              "      <td>0.117</td>\n",
              "      <td>0.247</td>\n",
              "      <td>111.039</td>\n",
              "    </tr>\n",
              "    <tr>\n",
              "      <th>3</th>\n",
              "      <td>I Know The End</td>\n",
              "      <td>Punisher</td>\n",
              "      <td>Phoebe Bridgers</td>\n",
              "      <td>2020-06-18</td>\n",
              "      <td>344692</td>\n",
              "      <td>0</td>\n",
              "      <td>indie pop,la indie</td>\n",
              "      <td>0.328</td>\n",
              "      <td>0.320</td>\n",
              "      <td>1</td>\n",
              "      <td>-10.282</td>\n",
              "      <td>1</td>\n",
              "      <td>0.0350</td>\n",
              "      <td>0.3240</td>\n",
              "      <td>0.01900</td>\n",
              "      <td>0.234</td>\n",
              "      <td>0.259</td>\n",
              "      <td>111.453</td>\n",
              "    </tr>\n",
              "    <tr>\n",
              "      <th>4</th>\n",
              "      <td>Simulation Swarm</td>\n",
              "      <td>Dragon New Warm Mountain I Believe In You</td>\n",
              "      <td>Big Thief</td>\n",
              "      <td>2022-02-11</td>\n",
              "      <td>252733</td>\n",
              "      <td>62</td>\n",
              "      <td>art pop,brooklyn indie,indie pop,indie rock,sm...</td>\n",
              "      <td>0.703</td>\n",
              "      <td>0.578</td>\n",
              "      <td>1</td>\n",
              "      <td>-9.103</td>\n",
              "      <td>1</td>\n",
              "      <td>0.0728</td>\n",
              "      <td>0.4460</td>\n",
              "      <td>0.00240</td>\n",
              "      <td>0.102</td>\n",
              "      <td>0.670</td>\n",
              "      <td>105.204</td>\n",
              "    </tr>\n",
              "  </tbody>\n",
              "</table>\n",
              "</div>\n",
              "      <button class=\"colab-df-convert\" onclick=\"convertToInteractive('df-8fc9c94e-3a03-4c16-b928-25478892ab75')\"\n",
              "              title=\"Convert this dataframe to an interactive table.\"\n",
              "              style=\"display:none;\">\n",
              "        \n",
              "  <svg xmlns=\"http://www.w3.org/2000/svg\" height=\"24px\"viewBox=\"0 0 24 24\"\n",
              "       width=\"24px\">\n",
              "    <path d=\"M0 0h24v24H0V0z\" fill=\"none\"/>\n",
              "    <path d=\"M18.56 5.44l.94 2.06.94-2.06 2.06-.94-2.06-.94-.94-2.06-.94 2.06-2.06.94zm-11 1L8.5 8.5l.94-2.06 2.06-.94-2.06-.94L8.5 2.5l-.94 2.06-2.06.94zm10 10l.94 2.06.94-2.06 2.06-.94-2.06-.94-.94-2.06-.94 2.06-2.06.94z\"/><path d=\"M17.41 7.96l-1.37-1.37c-.4-.4-.92-.59-1.43-.59-.52 0-1.04.2-1.43.59L10.3 9.45l-7.72 7.72c-.78.78-.78 2.05 0 2.83L4 21.41c.39.39.9.59 1.41.59.51 0 1.02-.2 1.41-.59l7.78-7.78 2.81-2.81c.8-.78.8-2.07 0-2.86zM5.41 20L4 18.59l7.72-7.72 1.47 1.35L5.41 20z\"/>\n",
              "  </svg>\n",
              "      </button>\n",
              "      \n",
              "  <style>\n",
              "    .colab-df-container {\n",
              "      display:flex;\n",
              "      flex-wrap:wrap;\n",
              "      gap: 12px;\n",
              "    }\n",
              "\n",
              "    .colab-df-convert {\n",
              "      background-color: #E8F0FE;\n",
              "      border: none;\n",
              "      border-radius: 50%;\n",
              "      cursor: pointer;\n",
              "      display: none;\n",
              "      fill: #1967D2;\n",
              "      height: 32px;\n",
              "      padding: 0 0 0 0;\n",
              "      width: 32px;\n",
              "    }\n",
              "\n",
              "    .colab-df-convert:hover {\n",
              "      background-color: #E2EBFA;\n",
              "      box-shadow: 0px 1px 2px rgba(60, 64, 67, 0.3), 0px 1px 3px 1px rgba(60, 64, 67, 0.15);\n",
              "      fill: #174EA6;\n",
              "    }\n",
              "\n",
              "    [theme=dark] .colab-df-convert {\n",
              "      background-color: #3B4455;\n",
              "      fill: #D2E3FC;\n",
              "    }\n",
              "\n",
              "    [theme=dark] .colab-df-convert:hover {\n",
              "      background-color: #434B5C;\n",
              "      box-shadow: 0px 1px 3px 1px rgba(0, 0, 0, 0.15);\n",
              "      filter: drop-shadow(0px 1px 2px rgba(0, 0, 0, 0.3));\n",
              "      fill: #FFFFFF;\n",
              "    }\n",
              "  </style>\n",
              "\n",
              "      <script>\n",
              "        const buttonEl =\n",
              "          document.querySelector('#df-8fc9c94e-3a03-4c16-b928-25478892ab75 button.colab-df-convert');\n",
              "        buttonEl.style.display =\n",
              "          google.colab.kernel.accessAllowed ? 'block' : 'none';\n",
              "\n",
              "        async function convertToInteractive(key) {\n",
              "          const element = document.querySelector('#df-8fc9c94e-3a03-4c16-b928-25478892ab75');\n",
              "          const dataTable =\n",
              "            await google.colab.kernel.invokeFunction('convertToInteractive',\n",
              "                                                     [key], {});\n",
              "          if (!dataTable) return;\n",
              "\n",
              "          const docLinkHtml = 'Like what you see? Visit the ' +\n",
              "            '<a target=\"_blank\" href=https://colab.research.google.com/notebooks/data_table.ipynb>data table notebook</a>'\n",
              "            + ' to learn more about interactive tables.';\n",
              "          element.innerHTML = '';\n",
              "          dataTable['output_type'] = 'display_data';\n",
              "          await google.colab.output.renderOutput(dataTable, element);\n",
              "          const docLink = document.createElement('div');\n",
              "          docLink.innerHTML = docLinkHtml;\n",
              "          element.appendChild(docLink);\n",
              "        }\n",
              "      </script>\n",
              "    </div>\n",
              "  </div>\n",
              "  "
            ]
          },
          "metadata": {},
          "execution_count": 8
        }
      ],
      "source": [
        "#2pts\n",
        "df3.head()\n",
        "#show the first 5 rows"
      ]
    },
    {
      "cell_type": "code",
      "execution_count": null,
      "id": "b7dac89e",
      "metadata": {
        "id": "b7dac89e",
        "colab": {
          "base_uri": "https://localhost:8080/"
        },
        "outputId": "d4879630-d557-488a-86c4-91bb882a1195"
      },
      "outputs": [
        {
          "output_type": "stream",
          "name": "stdout",
          "text": [
            "<class 'pandas.core.frame.DataFrame'>\n",
            "Int64Index: 594 entries, 0 to 606\n",
            "Data columns (total 18 columns):\n",
            " #   Column            Non-Null Count  Dtype  \n",
            "---  ------            --------------  -----  \n",
            " 0   Track Name        594 non-null    object \n",
            " 1   Album Name        594 non-null    object \n",
            " 2   Artist Name(s)    594 non-null    object \n",
            " 3   Release Date      594 non-null    object \n",
            " 4   Duration (ms)     594 non-null    int64  \n",
            " 5   Popularity        594 non-null    int64  \n",
            " 6   Genres            590 non-null    object \n",
            " 7   Danceability      594 non-null    float64\n",
            " 8   Energy            594 non-null    float64\n",
            " 9   Key               594 non-null    int64  \n",
            " 10  Loudness          594 non-null    float64\n",
            " 11  Mode              594 non-null    int64  \n",
            " 12  Speechiness       594 non-null    float64\n",
            " 13  Acousticness      594 non-null    float64\n",
            " 14  Instrumentalness  594 non-null    float64\n",
            " 15  Liveness          594 non-null    float64\n",
            " 16  Valence           594 non-null    float64\n",
            " 17  Tempo             594 non-null    float64\n",
            "dtypes: float64(9), int64(4), object(5)\n",
            "memory usage: 88.2+ KB\n"
          ]
        }
      ],
      "source": [
        "#3pts\n",
        "df3.describe()\n",
        "#show the statistical summary of columns.\n",
        "df3.info()"
      ]
    },
    {
      "cell_type": "markdown",
      "id": "9b3155c1",
      "metadata": {
        "id": "9b3155c1"
      },
      "source": [
        "Let's learn more about our dataset. There are various artists in playlists but some of them are more frequent than others. Find the most frequent 10 artists in the playlist."
      ]
    },
    {
      "cell_type": "code",
      "execution_count": null,
      "id": "9be5e29f",
      "metadata": {
        "id": "9be5e29f",
        "colab": {
          "base_uri": "https://localhost:8080/"
        },
        "outputId": "ed814953-986e-4553-80d4-a96ad70b5137"
      },
      "outputs": [
        {
          "output_type": "execute_result",
          "data": {
            "text/plain": [
              "Arctic Monkeys     48\n",
              "Lorde              21\n",
              "Nilüfer Yanya      20\n",
              "Wolf Alice         18\n",
              "Phoebe Bridgers    13\n",
              "The Strokes        13\n",
              "Big Thief          12\n",
              "Alvvays            12\n",
              "alt-J              12\n",
              "girl in red        12\n",
              "Name: Artist Name(s), dtype: int64"
            ]
          },
          "metadata": {},
          "execution_count": 10
        }
      ],
      "source": [
        "#5pts\n",
        "df3['Artist Name(s)'].value_counts().nlargest(10)\n",
        "#show the most frequent 10 artists in the playlist."
      ]
    },
    {
      "cell_type": "markdown",
      "id": "4540c67a",
      "metadata": {
        "id": "4540c67a"
      },
      "source": [
        "If you completed the previous cell correctly, Arctic Monkeys should be the most frequent artist in the playlist. We also want to learn more about the genres in this playlist. The problem is most of the songs have more than one genre, so it's hard to use same method that you used above. Try to find a different approach, and show the most frequent genre in the playlist."
      ]
    },
    {
      "cell_type": "code",
      "execution_count": null,
      "id": "3424e8f4",
      "metadata": {
        "id": "3424e8f4",
        "colab": {
          "base_uri": "https://localhost:8080/"
        },
        "outputId": "c384f997-e3f8-443e-e536-9d1343f49e6b"
      },
      "outputs": [
        {
          "output_type": "stream",
          "name": "stdout",
          "text": [
            "['garage rock,modern rock,permanent wave,rock,sheffield indie', 'alternative rock,garage rock,modern rock,permanent wave,rock', 'art pop,metropopolis,nz pop,pop', 'indie pop,la indie', 'art pop,brooklyn indie,indie pop,indie rock,small room', 'garage rock,modern rock,permanent wave,rock,sheffield indie', 'crank wave,indie rock', 'alternative rock,art rock,melancholia,oxford indie,permanent wave,rock', 'indie pop,philly indie', 'stomp and holler', 'art pop,indie rock,uk alternative pop', 'alternative dance,experimental pop,indie rock,modern alternative rock,modern rock,new rave', 'garage rock,modern rock,permanent wave,rock,sheffield indie', 'alternative rock,blues rock,garage rock,modern blues rock,modern rock,punk blues,rock,roots rock', 'art pop,metropopolis,nz pop,pop', 'neo-progressive,progressive metal,progressive rock,symphonic rock', 'indie pop,la pop,modern rock', 'garage rock,modern rock,permanent wave,rock,sheffield indie', 'art pop,metropopolis,nz pop,pop', 'bedroom pop,indie pop,norwegian indie,pop', 'austindie,indie rock,modern rock', 'british singer-songwriter,folk-pop,indie folk,neo mellow,stomp and holler', 'irish rock', 'indie rock,modern alternative rock,modern rock,rock', 'britpop revival,english indie rock,indie rock,indie surf,liverpool indie,modern alternative rock,modern rock,rock', 'art pop,bubblegrunge,indie pop,indie rock,small room', 'album rock,classic rock,rock,soft rock,yacht rock', 'indie pop,indie rock,modern alternative rock,modern rock,rock', 'alternative dance,experimental pop,indie rock,modern alternative rock,modern rock,new rave', 'alternative rock,blues rock,garage rock,modern blues rock,modern rock,punk blues,rock,roots rock', 'art pop,indie rock,uk alternative pop', 'beatlesque,british invasion,classic rock,merseybeat,psychedelic rock,rock', 'alternative rock,indie pop,indie rock,rock', 'modern rock,permanent wave,rock', 'alternative dance,indietronica,modern rock,rock', 'album rock,art rock,beatlesque,classic rock,glam rock,mellow gold,rock,soft rock,symphonic rock', 'beatlesque,britpop,madchester,permanent wave,pop rock,rock', 'indie pop,philly indie', 'art pop,chamber psych,crank wave,escape room,experimental pop,indie rock,london indie', 'garage rock,modern rock,permanent wave,rock,sheffield indie', 'alternative dance,art pop,brooklyn indie,chillwave,electropop,escape room,experimental pop,indie rock,indie surf,indietronica,modern rock,new rave,noise pop', 'alt z,indie pop,modern alternative rock,modern rock', 'alternative rock,garage rock,modern rock,permanent wave,rock', 'madchester,new wave,permanent wave,rock,uk post-punk', 'art rock,classic rock,glam rock,permanent wave,rock', 'modern rock,punk blues,rock', 'modern rock,punk blues,rock', 'crank wave,indie rock', 'alternative rock,garage rock,modern rock,permanent wave,rock', 'art punk,art rock,dance rock,funk rock,new wave,permanent wave,post-punk,rock,zolo', 'indie pop,indie rock,modern alternative rock,modern rock,rock', 'modern alternative rock,modern rock,rock,stomp pop,welsh rock', 'alternative rock,garage rock,modern rock,permanent wave,rock', 'alternative rock,indie pop,indie rock,rock', 'bossbeat', 'art pop,british folk,british singer-songwriter,chamber pop,indie folk,indie pop,singer-songwriter,stomp and holler', 'bedroom pop,indie pop', 'alternative dance,electronica,french indie pop,indie rock,indietronica,modern rock,new rave,socal pop punk,alternative r&b,indie r&b,indie soul,modern alternative pop', 'dance pop,pop,uk pop', 'indie pop,indie rock,modern alternative rock,modern rock,rock', 'art pop,indie rock,uk alternative pop', 'garage rock,modern rock,permanent wave,rock,sheffield indie', 'glam metal,hard rock,rock', 'album rock,classic rock,hard rock,rock', 'alternative rock,dance rock,indie rock,modern rock,rock,scottish rock', 'modern folk rock,stomp and holler,uk americana', 'alternative rock,dance rock,modern rock,permanent wave,rock', 'art pop,experimental folk,indie pop', 'chamber pop,folk,indie folk,indie pop,indie rock,seattle indie,stomp and holler', 'acoustic rock,alternative rock,rock', 'art pop,chamber pop,chamber psych,chillwave,electropop,experimental pop,indie pop,indie rock,seattle indie', 'art pop,indie rock,uk alternative pop', 'metalcore,pop punk,screamo', 'alternative rock,indie rock,modern rock,rock', 'indie rock,ok indie,stomp and holler', 'anti-folk,comic,geek rock,permanent wave,zolo', 'garage rock,modern rock,permanent wave,rock,sheffield indie', 'alternative rock,brooklyn indie,crank wave,denton tx indie,indie rock,modern rock,neo-psychedelic,noise pop', 'modern rock,neo mellow,pop punk,pop rock', 'folktronica,art pop,british folk,british singer-songwriter,chamber pop,indie folk,indie pop,singer-songwriter,stomp and holler', 'albuquerque indie,alternative rock,indie pop,indie rock,modern rock,portland indie,stomp and holler', 'art pop,metropopolis,nz pop,pop', 'modern alternative rock,modern rock,rock', 'alternative rock,dream pop,indie rock,melancholia,pop rock,rock,singer-songwriter', 'indie pop,indie rock,modern alternative rock,modern rock,rock', 'indie rock,modern alternative rock,modern rock,rock', 'bedroom pop,indie pop,norwegian indie,pop', 'madchester,new wave,permanent wave,rock,uk post-punk', 'baroque pop,indie rock,modern rock,rock,sheffield indie', 'alternative dance,alternative rock,austindie,indie rock,modern rock,pop rock,rock', 'alternative rock,grunge,permanent wave,rock', 'permanent wave,pop', 'indie pop,indie rock,modern alternative rock,modern rock,rock', 'indie rock,modern rock', 'art pop,chamber psych,crank wave,english indie rock,indie rock,uk post-punk revival', 'alternative dance,edm,indie poptimism,indietronica,nu disco,pop,tropical house,modern rock,rock', 'modern indie pop', 'alternative rock,funk metal,funk rock,permanent wave', 'indie pop,modern rock,psychedelic pop', 'baroque pop,canadian indie,indie rock,modern rock,new rave,permanent wave,quebec indie,rock', 'album rock,classic rock,mellow gold,rock,soft rock', 'crank wave,indie rock,london indie,uk post-punk revival', 'english indie rock', 'baroque pop,indie rock,modern rock,rock,sheffield indie,garage rock', 'album rock,classic rock,mellow gold,rock,soft rock', 'modern dream pop', 'garage rock,modern rock,permanent wave,rock,sheffield indie', 'modern rock,nottingham indie,rock', 'modern rock,rock', 'art pop,indie rock,uk alternative pop', 'album rock,classic rock,mellow gold,rock,soft rock,yacht rock', 'art pop,bubblegrunge,indie pop,indie rock,small room', 'bedroom pop,indie pop,norwegian indie,pop', 'art pop,bubblegrunge,indie pop,indie rock,small room', 'austindie', 'brooklyn indie,indie pop', 'belgian indie,belgian rock,dutch indie', 'album rock,classic rock,mellow gold,permanent wave,rock', 'chillwave,indie rock,kiwi rock,neo-psychedelic,portland hip hop,psychedelic pop', 'alternative rock,garage rock,modern rock,permanent wave,rock', 'alternative dance,british indie rock,indie rock,indietronica,modern rock,new rave,rock,stomp and holler', 'modern alternative rock,modern rock,pop,rock', 'art pop,bubblegrunge,indie pop,indie rock,small room', 'art pop,metropopolis,nz pop,pop', 'alternative rock,brighton indie,garage rock,modern alternative rock,modern blues rock,modern hard rock,modern rock,rock', 'alt z,pop', 'garage rock,modern rock,permanent wave,rock,sheffield indie', 'garage rock,modern rock,permanent wave,rock,sheffield indie', 'art pop,metropopolis,nz pop,pop', 'art pop,electropop,pop', 'modern rock,neo mellow,pop punk,pop rock', 'alternative rock,grunge,permanent wave,rock', 'australian psych,neo-psychedelic', 'modern rock,punk blues,rock', 'art pop,eugene indie,indie pop,philly indie', 'alternative metal,alternative rock,grunge,permanent wave,pop rock,rock,spacegrunge', 'folk-pop,metropopolis,modern rock,pop rock,stomp and holler', 'dublin indie,modern alternative rock,modern rock,rock', 'bedroom pop,indie pop,pop', 'art pop,brooklyn indie,indie pop,indie rock,small room', 'modern rock,rock', 'indie pop,indie rock,modern alternative rock,modern rock,rock', 'crank wave,indie rock,irish indie rock,modern alternative rock,modern rock', 'alternative r&b,indie r&b,indie soul,modern alternative pop', 'bedroom pop,indie pop,norwegian indie,pop', 'art pop,electropop,pop', 'alternative rock,garage rock,modern rock,permanent wave,rock', 'indie pop,philly indie', 'indie rock,modern rock', 'dreamo,indie pop,indie surf,surf punk,vegas indie', 'art pop,electropop,escape room,indie pop,indietronica,pop', 'garage rock,modern rock,permanent wave,rock,sheffield indie', 'art pop,indie pop,indie rock,indie surf,vermont indie', nan, 'austindie,indie rock,modern rock', 'alternative rock,boston rock,modern rock,permanent wave,rock', 'belgian indie,belgian rock,dutch indie,ghent indie', nan, 'art pop,indie rock,uk alternative pop', 'art pop,brooklyn indie,indie pop,indie rock,small room', 'dance pop,pop,uk pop', 'art pop,indie rock,uk alternative pop', 'beatlesque,britpop,madchester,permanent wave,pop rock,rock', 'glam metal,hard rock,rock', 'downtempo,electronica,trip hop', 'alternative dance,alternative rock,austindie,indie rock,modern rock,pop rock,rock', 'garage rock,modern rock,permanent wave,rock,sheffield indie', 'art pop,indie pop,indie rock,indie surf,vermont indie', 'alternative rock,garage rock,modern rock,permanent wave,rock', 'alternative dance,art pop,chamber psych,chillwave,dream pop,electronica,indie rock,la indie,modern alternative rock,modern dream pop,modern rock,new rave', 'acoustic pop,indie folk,neo mellow', 'modern rock,rock', 'alternative emo,anti-folk,bubblegrunge,emo,indie pop,indie rock,lo-fi emo,small room', 'gothic metal,progressive doom,progressive metal', 'folk-pop', 'indie pop,indie poptimism,indie rock,indietronica,la indie,modern alternative rock,modern rock,rock,stomp and holler', 'crank wave,indie rock', 'album rock,art rock,classic rock,progressive rock,psychedelic rock,rock,symphonic rock', 'indie pop,indie rock,modern alternative rock,modern rock,rock', 'neo-progressive,progressive metal,progressive rock,symphonic rock', 'modern alternative rock,modern rock,pop,rock', 'bedroom pop,indie pop,norwegian indie,pop', 'aussietronica,indie soul', 'art pop,brooklyn indie,indie pop,indie rock,small room', 'indie rock,modern rock,stomp and holler', 'art pop,electropop,pop', 'brooklyn indie,indie pop', 'alternative dance,alternative rock,austindie,indie rock,modern rock,pop rock,rock', 'garage rock,modern rock,permanent wave,rock,sheffield indie', 'art pop,experimental folk,indie pop', 'hard rock,metal,old school thrash,rock,thrash metal', 'crank wave,indie rock,london indie,uk post-punk revival', 'indie rock,modern rock', 'indie pop,la indie', 'alternative rock,funk metal,funk rock,permanent wave', 'alternative rock,art rock,melancholia,oxford indie,permanent wave,rock', 'alternative dance,alternative rock,austindie,indie rock,modern rock,pop rock,rock', 'pop', 'modern alternative rock,modern rock,post-grunge,rock', 'modern rock,rock,sheffield indie', 'indie pop,indie rock,modern alternative rock,modern rock,rock', 'modern alternative rock,modern rock,rock,stomp pop,welsh rock', 'album rock,art rock,classic rock,progressive rock,psychedelic rock,rock,symphonic rock', 'alternative dance,british indie rock,indie rock,indietronica,modern rock,new rave,rock,stomp and holler', 'bedroom pop,indie pop,norwegian indie,pop', 'indie pop,la indie', 'crank wave,indie rock,irish indie rock,modern alternative rock,modern rock', 'art pop,indie folk,indie pop,indie rock,sydney indie', 'baroque pop,pop,uk alternative pop', 'baroque pop,pop,uk alternative pop', 'indie pop,indie rock,modern alternative rock,modern rock,rock', 'baroque pop,canadian indie,indie rock,modern rock,new rave,permanent wave,quebec indie,rock', 'modern rock,rock,sheffield indie', 'album rock,classic rock,hard rock,rock', 'alternative rock,dance rock,modern rock,permanent wave,rock', 'alternative rock,britpop,madchester,modern rock,permanent wave,pop rock,rock', 'chillwave,indie rock,kiwi rock,neo-psychedelic,portland hip hop,psychedelic pop', 'alternative metal,alternative rock,grunge,hard rock,nu metal,rock', 'garage rock,modern rock,permanent wave,rock,sheffield indie', 'crank wave,indie rock', 'indie pop,indie rock,modern alternative rock,modern rock,rock', 'garage rock,modern rock,permanent wave,rock,sheffield indie', 'alternative rock,art pop,dream pop,nu gaze,reading indie,rock,shoegaze', 'indietronica,modern rock,rock', 'australian psych,neo-psychedelic', 'indie rock,modern rock', 'baroque pop,indie rock,modern rock,rock,sheffield indie', 'alternative rock,art pop,dream pop,melancholia,rock,shoegaze,slowcore', 'art pop,baltimore indie,bubblegrunge,indie pop,indie rock', 'bergen indie,melancholia,norwegian indie', 'art pop,indie folk,indie pop,indie rock,sydney indie', 'art pop,experimental folk,indie pop', 'baroque pop,canadian indie,indie rock,modern rock,new rave,permanent wave,quebec indie,rock', 'art pop,bubblegrunge,indie pop,indie rock,small room', 'crank wave,indie rock,noise rock,uk noise rock,uk post-punk revival', 'alternative hip hop', 'indie pop,la indie', 'auckland indie,bubblegrunge,indie pop,indie punk,indie rock,kiwi rock,modern power pop,nz indie', 'electropop,indie poptimism,indie rock,indietronica,la indie,modern alternative rock,modern rock,vapor soul', 'art pop,baltimore indie,bubblegrunge,indie pop,indie rock', 'chill pop,pop', 'crank wave,indie rock', 'modern psychedelic folk', 'crank wave,indie rock', 'garage rock,modern rock,permanent wave,rock,sheffield indie', 'indie pop,indie rock,modern rock,vancouver indie', 'modern alternative rock,modern rock,post-grunge,rock', 'auckland indie,bubblegrunge,indie pop,indie punk,indie rock,kiwi rock,modern power pop,nz indie', 'modern rock,rock', 'glam metal,hard rock,rock', 'alternative dance,experimental pop,indie rock,modern alternative rock,modern rock,new rave', 'modern dream pop', nan, 'dreamo,indie pop,indie rock,shoegaze,toronto indie', 'modern folk rock,stomp and holler,uk americana', 'alternative rock', 'indie pop,indie rock,modern rock,washington indie', 'indie rock,modern rock,stomp and holler', 'art pop,indie rock,uk alternative pop', 'garage rock,modern rock,permanent wave,rock,sheffield indie', 'art pop,metropopolis,nz pop,pop', 'dreamo,indie pop,indie rock,shoegaze,toronto indie', 'beatlesque,britpop,madchester,permanent wave,pop rock,rock', 'alternative rock,modern power pop,modern rock,permanent wave,rock', 'chamber pop,folk,indie folk,indie pop,indie rock,seattle indie,stomp and holler', 'bedroom pop,indie pop,norwegian indie,pop', 'art pop,indie folk,indie pop,indie rock,sydney indie', 'indie pop,la indie', 'britpop revival,english indie rock,indie rock,indie surf,liverpool indie,modern alternative rock,modern rock,rock', 'dreamo,indie pop,indie rock,shoegaze,toronto indie', 'art pop,metropopolis,nz pop,pop', 'alternative rock,art pop,dream pop,nu gaze,reading indie,rock,shoegaze', 'garage rock,modern rock,permanent wave,rock,sheffield indie', 'alternative metal,alternative rock,modern rock,permanent wave,post-grunge,rock', 'alternative dance,alternative rock,austindie,indie rock,modern rock,pop rock,rock', 'small room', 'art pop,metropopolis,nz pop,pop', 'bedroom pop,indie pop,norwegian indie,pop', 'folk-pop,metropopolis,modern rock,pop rock,stomp and holler', 'beatlesque,british invasion,classic rock,merseybeat,psychedelic rock,rock', 'indie pop,indie rock,modern alternative rock,modern rock,rock', 'indie rock,modern rock', 'dance pop,electropop,etherpop,indie poptimism,pop', 'folk-pop,neo-singer-songwriter', 'art pop,baltimore indie,bubblegrunge,indie pop,indie rock', 'dreamo,indie pop,indie rock,shoegaze,toronto indie', 'chamber pop', 'new romantic,new wave,new wave pop,permanent wave,pop rock,soft rock,synthpop', 'garage rock,modern rock,permanent wave,rock,sheffield indie', 'art pop,electropop,pop', 'baroque pop,indie rock,modern rock,rock,sheffield indie', 'dreamo,indie pop,indie rock,shoegaze,toronto indie', 'art pop,brooklyn indie,indie pop,indie rock,small room', 'alternative rock,garage rock,garage rock revival,indie rock,modern alternative rock,modern blues rock,modern rock,rock,supergroup', 'garage rock,modern rock,permanent wave,rock,sheffield indie', 'indie pop,la indie', 'alternative dance,experimental pop,indie rock,modern alternative rock,modern rock,new rave', 'garage rock,modern rock,permanent wave,rock,sheffield indie', 'modern rock,permanent wave,rock', 'modern alternative rock,modern rock,rock,stomp and holler', 'baroque pop,indie rock,modern rock,rock,sheffield indie,garage rock', 'indie anthem-folk,indie folk', 'permanent wave,pop', 'art pop,indie rock,uk alternative pop', 'art pop,bubblegrunge,indie pop,indie rock,small room', 'modern blues rock,modern hard rock,rock', 'alternative rock,garage rock,modern rock,permanent wave,rock', 'indie rock,modern rock,stomp and holler,eau claire indie,indie folk,melancholia', 'baroque pop,chamber pop,chicago indie,indie folk,indie pop,indie rock,melancholia,stomp and holler', 'belgian indie,belgian rock,dutch indie,ghent indie', 'art pop,experimental folk,indie pop', 'art pop,candy pop,dance pop,electropop,escape room,indie pop,la indie,metropopolis,neo-synthpop,pop', 'turkish alternative,turkish alternative rock,turkish rock', 'alternative metal,nu metal,post-grunge,rap metal', 'garage rock,modern rock,permanent wave,rock,sheffield indie', 'art pop,bubblegrunge,indie pop,indie rock,small room', 'alternative rock,funk metal,funk rock,permanent wave', 'art pop,electropop,pop', 'baroque pop,canadian indie,indie rock,modern rock,new rave,permanent wave,quebec indie,rock', 'indie rock,modern rock', 'chamber pop,folk,indie folk,indie pop,indie rock,seattle indie,stomp and holler', 'indie pop,indie rock,modern alternative rock,modern rock,rock', 'art pop,experimental folk,indie pop', 'alternative rock,britpop,madchester,modern rock,permanent wave,pop rock,rock', 'electropop,etherpop,indie pop,indie rock', 'indie rock,ok indie,stomp and holler', 'alternative rock,funk metal,funk rock,permanent wave', 'crank wave,indie rock', 'crank wave,indie rock,london indie,uk post-punk revival', 'indie pop,la indie', 'crank wave,indie rock', 'indie pop,la indie', 'garage rock,modern rock,permanent wave,rock,sheffield indie', 'canadian garage rock,garage rock,garage rock revival,modern alternative rock,modern blues rock,punk blues,vancouver indie', 'indie pop,lilith,piano rock', 'britpop,modern rock,pop rock,rock', 'britpop,modern rock,pop rock,rock', 'modern rock,permanent wave,rock', 'anti-folk,comic,geek rock,permanent wave,zolo', 'modern alternative rock,modern rock,post-grunge,rock', 'indie rock,modern rock', 'art pop,pop', 'indie pop,modern rock,pop', 'garage rock,modern rock,permanent wave,rock,sheffield indie', 'art pop,electropop,escape room,indie pop,indietronica,pop', 'indie rock,modern rock', 'art pop,pop', 'uk alternative pop', 'dance pop,electropop,etherpop,indie poptimism,pop', 'indie pop,la indie', 'folk-pop,neo-singer-songwriter', 'garage rock,modern rock,permanent wave,rock,sheffield indie', 'art pop,indie rock,uk alternative pop', 'bedroom pop,indie pop,norwegian indie,pop', 'baroque pop,indie rock,modern rock,rock,sheffield indie,garage rock', 'art pop,indie rock,uk alternative pop', 'garage rock,modern rock,permanent wave,rock,sheffield indie', 'modern rock,rock', 'indie pop', 'alternative dance,experimental pop,indie rock,modern alternative rock,modern rock,new rave', 'art pop,chamber psych,crank wave,escape room,experimental pop,indie rock,london indie', 'crank wave,indie rock,london indie,uk post-punk revival', 'alternative metal,nu metal,rap metal', 'baroque pop,indie rock,modern rock,rock,sheffield indie', 'crank wave,indie rock,london indie,uk post-punk revival', 'chamber pop', 'art pop,metropopolis,nz pop,pop', 'indie pop,indie rock,modern alternative rock,modern rock,rock', 'nz indie', 'electro,filter house,indie rock', 'crank wave,indie rock,london indie,uk post-punk revival', 'grunge,permanent wave,rock', 'baroque pop,indie rock,modern rock,rock', 'indie pop,indie rock,modern alternative rock,modern rock,rock', 'indie garage rock,neo-psychedelic', 'indie rock,modern rock', 'garage rock,modern rock,permanent wave,rock,sheffield indie', 'auckland indie,indie soul,vapor soul', 'indie rock,modern rock,stomp and holler', 'garage rock,modern rock,permanent wave,rock,sheffield indie', 'garage rock,modern rock,permanent wave,rock,sheffield indie', 'garage rock,modern rock,permanent wave,rock,sheffield indie', 'chamber pop', 'new romantic,new wave,new wave pop,permanent wave,pop rock,soft rock,synthpop', 'crank wave,indie rock,london indie,uk post-punk revival', 'dreamo,indie pop,indie rock,shoegaze,toronto indie', 'art pop,indie pop,indie rock,indie surf,vermont indie', 'folk-pop,pop,stomp and holler', 'art pop,metropopolis,nz pop,pop', 'crank wave,indie rock', 'bedroom pop,indie pop,norwegian indie,pop', 'modern folk rock,stomp and holler,uk americana', 'art pop,indie folk,indie pop,indie rock,sydney indie', 'album rock,blues rock,classic rock,country rock,hard rock,mellow gold,rock,southern rock', 'alternative metal,nu metal,post-grunge,rap metal', 'indie pop,indie rock,modern alternative rock,modern rock,rock', 'garage rock,modern rock,permanent wave,rock,sheffield indie', 'modern rock,rock,scottish rock', 'indie rock,modern rock', 'alternative rock,britpop,dance rock,madchester,modern rock,rock', 'album rock,art rock,classic rock,progressive rock,psychedelic rock,rock,symphonic rock', 'art pop,indie pop,modern dream pop,pop', 'alternative rock,indie pop,indie rock,rock', 'garage rock,modern rock,permanent wave,rock,sheffield indie', 'belgian indie,belgian rock,dutch indie,ghent indie', 'art pop,indie rock,uk alternative pop', 'art pop,brooklyn indie,indie pop,indie rock,small room', 'baroque pop,indie rock,modern rock,rock,sheffield indie,garage rock', 'garage rock,modern rock,permanent wave,rock,sheffield indie', 'alternative dance,art pop,baroque pop,brooklyn indie,chillwave,dream pop,indie rock,modern rock,new weird america,stomp and holler', 'alternative rock,garage rock,modern rock,permanent wave,rock', 'art pop,metropopolis,nz pop,pop', 'art pop,indie rock,uk alternative pop', 'alternative rock,indie rock,modern rock,rock', 'alternative dance,british indie rock,indie rock,indietronica,modern rock,new rave,rock,stomp and holler', 'art pop,eugene indie,indie pop,philly indie', 'indie pop', 'art pop,metropopolis,nz pop,pop', 'chamber pop', 'dance pop,pop,uk pop', 'dreamo,indie pop,indie rock,shoegaze,toronto indie', 'art pop,pop', 'indie pop,la indie', 'art pop,indie rock,uk alternative pop', 'garage rock,modern rock,permanent wave,rock,sheffield indie', 'garage rock,modern rock,permanent wave,rock,sheffield indie', 'alternative rock,art pop,art rock,chamber psych,dream pop,duluth indie,indie rock,melancholia,slowcore', 'alternative rock,indie pop,indie rock,rock', 'alternative dance,alternative rock,austindie,indie rock,modern rock,pop rock,rock', 'art pop,art rock,baroque pop,new wave pop,permanent wave,piano rock,singer-songwriter', 'dreamo,indie pop,indie rock,shoegaze,toronto indie', 'modern blues rock,modern hard rock,rock', 'art pop,eugene indie,indie pop,philly indie', 'art pop,metropopolis,nz pop,pop', 'alternative dance,experimental pop,indie rock,modern alternative rock,modern rock,new rave', 'alternative rock,blues rock,garage rock,modern blues rock,modern rock,punk blues,rock,roots rock', 'indie pop,indie rock,modern alternative rock,modern rock,rock', 'alternative rock,grunge,permanent wave,rock', 'baroque pop,indie rock,modern rock,rock,sheffield indie', 'art pop,baltimore indie,bubblegrunge,indie pop,indie rock', 'indie pop,pop,ambient folk,bubblegrunge,indie rock,la indie,art pop', 'ambient folk,indie folk', 'permanent wave,pop', 'art pop,baltimore indie,bubblegrunge,indie pop,indie rock', 'british invasion,classic rock,rock', 'art pop,metropopolis,nz pop,pop', 'modern dream pop', 'art pop,indie rock,uk alternative pop', 'garage rock,modern rock,permanent wave,rock,sheffield indie', 'baroque pop,canadian indie,indie rock,modern rock,new rave,permanent wave,quebec indie,rock', 'indie garage rock,neo-psychedelic', 'dance pop,pop,post-teen pop,talent show', 'alternative rock,funk metal,funk rock,permanent wave', 'dreamo,indie pop,indie rock,shoegaze,toronto indie', 'alternative dance,art pop,chamber psych,chillwave,dream pop,electronica,indie rock,la indie,modern alternative rock,modern dream pop,modern rock,new rave', 'art pop,pop', 'indie rock,modern rock', 'art pop,brooklyn indie,indie pop,indie rock,small room', 'permanent wave,pop', 'folk-pop,neo-singer-songwriter', 'candy pop,new wave,new wave pop,permanent wave,power pop,rock', 'art pop,indie rock,uk alternative pop', 'art pop,metropopolis,nz pop,pop', 'art pop,metropopolis,nz pop,pop', 'album rock,classic rock,rock,soft rock,yacht rock', 'bubblegrunge,chicago indie,indie pop,indie rock', 'indie pop,la indie', 'dreamo,indie pop,indie rock,shoegaze,toronto indie', 'garage rock,modern rock,permanent wave,rock,sheffield indie', 'art pop,brooklyn indie,indie pop,indie rock,small room', 'alternative rock,australian garage punk,bay area indie,garage pop,garage rock,indie garage rock,indie rock,neo-psychedelic,noise pop,oc indie,punk blues', 'garage rock,modern rock,permanent wave,rock,sheffield indie', \"folk,lilith,singer-songwriter,women's music\", 'art pop,brooklyn indie,indie pop,indie rock,small room', 'garage rock,modern rock,permanent wave,rock,sheffield indie', 'bedroom pop,indie pop,norwegian indie,pop', 'album rock,blues rock,classic rock,country rock,hard rock,mellow gold,rock,southern rock', 'brooklyn indie,chillwave,dreamo,indie garage rock,indie rock,indie surf,popgaze,shoegaze', 'alternative metal,nu metal,rap metal', 'phoenix indie', 'permanent wave,pop', 'garage rock,modern rock,permanent wave,rock,sheffield indie', 'bedroom pop,indie pop,norwegian indie,pop', 'art pop,indie folk,indie pop,indie rock,sydney indie', 'indie pop,indie rock,modern alternative rock,modern rock,rock', 'art pop,pop', 'garage rock,modern rock,permanent wave,rock,sheffield indie', 'glam rock,modern alternative rock,modern rock', 'modern rock,punk blues,rock', 'art pop,brooklyn indie,indie pop,indie rock,small room', 'garage rock,modern rock,permanent wave,rock,sheffield indie', 'art pop,indie rock,uk alternative pop', 'garage rock,modern rock,permanent wave,rock,sheffield indie', 'album rock,art rock,classic rock,progressive rock,psychedelic rock,rock,symphonic rock', 'baroque pop,canadian indie,indie rock,modern rock,new rave,permanent wave,quebec indie,rock', 'alternative dance,alternative rock,austindie,indie rock,modern rock,pop rock,rock', 'indie rock,modern folk rock,neo-psychedelic,philly indie', 'folk-pop,pop', 'art pop,bubblegrunge,indie pop,indie rock,small room', 'garage rock,modern rock,permanent wave,rock,sheffield indie', 'indie pop,indie rock,indietronica,modern rock,seattle indie', 'art pop,indie rock,uk alternative pop', 'dreamo,indie pop,indie rock,shoegaze,toronto indie', 'dance pop,pop,uk pop', 'baroque pop,indie rock,modern rock,rock,sheffield indie,garage rock', 'alternative dance,experimental pop,indie rock,modern alternative rock,modern rock,new rave', 'garage rock,modern rock,permanent wave,rock,sheffield indie', 'garage rock,modern rock,permanent wave,rock,sheffield indie', 'alternative dance,alternative rock,dance-punk,garage rock,indie rock,modern rock,new rave,rock', 'permanent wave,pop', 'anti-folk,comic,geek rock,permanent wave,zolo', 'ambient pop,dream pop,el paso indie,pop,shoegaze', 'beatlesque,british invasion,classic rock,merseybeat,psychedelic rock,rock', 'bergen indie,melancholia,norwegian indie', 'indie pop', 'alternative rock,grunge,permanent wave,rock', 'alternative rock,garage rock,modern rock,permanent wave,rock', 'modern rock,rock,sheffield indie', 'dreamo,indie pop,indie rock,shoegaze,toronto indie', 'belgian indie,belgian rock,dutch indie,ghent indie', 'art pop,brooklyn indie,indie pop,indie rock,small room', 'eau claire indie,indie folk,melancholia', 'permanent wave,pop', 'indie pop,south african alternative', 'art pop,indie rock,uk alternative pop', 'indie pop,indie rock,modern alternative rock,modern rock,rock', 'candy pop,new wave,new wave pop,permanent wave,power pop,rock', 'alternative dance,alternative rock,art pop,baltimore indie,chillwave,dream pop,experimental pop,freak folk,indie rock,modern rock,new rave,noise pop', 'irish indie', 'hard rock,metal,old school thrash,rock,thrash metal', 'modern alternative rock,modern rock,pop,rock', 'afropop,griot,guinean pop,mande pop,west african jazz,world', 'pop,eau claire indie,indie folk,melancholia', 'alternative rock,modern rock,rock', 'art pop,brooklyn indie,indie pop,indie rock,small room', 'art pop,chamber pop,indie folk,indie pop,indie rock,small room', 'album rock,beatlesque,classic rock,folk rock,mellow gold,rock,soft rock', 'belgian indie,belgian rock,dutch indie,ghent indie', 'alternative rock,funk metal,funk rock,permanent wave', 'neo mellow,piano rock,pop rock', 'pop', 'auckland indie,bubblegrunge,indie pop,indie punk,indie rock,kiwi rock,modern power pop,nz indie', 'alternative dance,british indie rock,indie rock,indietronica,modern rock,new rave,rock,stomp and holler', 'modern rock,punk blues,rock', 'acoustic pop,chamber pop,indie folk,indie pop,neo mellow,stomp and holler', 'modern rock,neo mellow,pop punk,pop rock', 'art pop,metropopolis,nz pop,pop', 'alternative rock,garage rock,modern rock,permanent wave,rock', 'indie pop,la indie', 'indie rock,modern rock', 'electropop,indie poptimism,indie rock,indietronica,la indie,modern alternative rock,modern rock,vapor soul', 'auckland indie,bubblegrunge,indie pop,indie punk,indie rock,kiwi rock,modern power pop,nz indie', 'art pop,indie rock,uk alternative pop', 'alternative rock,indie rock,modern rock,rock', 'modern rock', 'indie pop,la indie', 'art pop,metropopolis,nz pop,pop', 'modern rock,permanent wave,rock', 'alternative rock,art rock,melancholia,oxford indie,permanent wave,rock', 'garage rock,modern rock,permanent wave,rock,sheffield indie', nan, 'baltimore indie,dream pop,dreamo,modern dream pop', 'indie pop,modern rock,pop', 'garage rock,modern rock,permanent wave,rock,sheffield indie', 'alternative rock,art rock,melancholia,oxford indie,permanent wave,rock', 'chillwave,indie rock,kiwi rock,neo-psychedelic,portland hip hop,psychedelic pop', 'alternative rock,boston rock,modern rock,permanent wave,rock', 'alternative rock,art rock,madchester,new wave,post-punk,rock,uk post-punk', 'indie garage rock,indie pop,liverpool indie', 'deep new americana,indie pop,modern rock', 'art pop,baltimore indie,bubblegrunge,indie pop,indie rock', 'alternative rock,garage rock,modern rock,permanent wave,rock', 'alternative rock,art pop,art rock,dream pop,ethereal wave,melancholia,new wave,rock,scottish indie,shoegaze', 'alternative dance,indietronica,modern rock,rock', 'alternative rock,indie pop,indie rock,rock', 'modern dream pop', 'alternative rock,anti-folk,art rock,dream pop,indie rock,lo-fi,modern rock,pop rock,rock', 'alternative dance,alternative rock,dance-punk,garage rock,indie rock,modern rock,new rave,rock,art pop,chamber pop,chamber psych,chillwave,electropop,experimental pop,indie pop,seattle indie', 'indie pop,modern alternative rock,modern rock,rock', 'modern dream pop', 'alternative rock,indie pop,indie rock,rock', 'madchester,new wave,permanent wave,rock,uk post-punk', 'alternative rock,art pop,art rock,dream pop,ethereal wave,melancholia,new wave,rock,scottish indie,shoegaze', 'alternative dance,alternative rock,dance rock,dance-punk,electronic rock,electronica,indie rock,indietronica,modern rock,new rave,rock', 'art pop,baltimore indie,bubblegrunge,indie pop,indie rock', 'art pop,chamber pop,dark pop,indie pop,lilith,permanent wave,piano rock,singer-songwriter', 'alternative rock,garage rock,modern rock,permanent wave,rock', 'crank wave,indie rock,london indie,uk post-punk revival', 'indie pop', 'indie pop,modern rock,pop', 'art pop,experimental folk,indie pop', 'alternative rock,indie rock,modern rock,rock', 'art pop,metropopolis,nz pop,pop', 'art pop,metropopolis,nz pop,pop']\n",
            "//////////////////////////////////////////////////////////////\n",
            "garage rock,modern rock,permanent wave,rock,sheffield indiealternative rock,garage rock,modern rock,permanent wave,rockart pop,metropopolis,nz pop,popindie pop,la indieart pop,brooklyn indie,indie pop,indie rock,small roomgarage rock,modern rock,permanent wave,rock,sheffield indiecrank wave,indie rockalternative rock,art rock,melancholia,oxford indie,permanent wave,rockindie pop,philly indiestomp and hollerart pop,indie rock,uk alternative popalternative dance,experimental pop,indie rock,modern alternative rock,modern rock,new ravegarage rock,modern rock,permanent wave,rock,sheffield indiealternative rock,blues rock,garage rock,modern blues rock,modern rock,punk blues,rock,roots rockart pop,metropopolis,nz pop,popneo-progressive,progressive metal,progressive rock,symphonic rockindie pop,la pop,modern rockgarage rock,modern rock,permanent wave,rock,sheffield indieart pop,metropopolis,nz pop,popbedroom pop,indie pop,norwegian indie,popaustindie,indie rock,modern rockbritish singer-songwriter,folk-pop,indie folk,neo mellow,stomp and hollerirish rockindie rock,modern alternative rock,modern rock,rockbritpop revival,english indie rock,indie rock,indie surf,liverpool indie,modern alternative rock,modern rock,rockart pop,bubblegrunge,indie pop,indie rock,small roomalbum rock,classic rock,rock,soft rock,yacht rockindie pop,indie rock,modern alternative rock,modern rock,rockalternative dance,experimental pop,indie rock,modern alternative rock,modern rock,new ravealternative rock,blues rock,garage rock,modern blues rock,modern rock,punk blues,rock,roots rockart pop,indie rock,uk alternative popbeatlesque,british invasion,classic rock,merseybeat,psychedelic rock,rockalternative rock,indie pop,indie rock,rockmodern rock,permanent wave,rockalternative dance,indietronica,modern rock,rockalbum rock,art rock,beatlesque,classic rock,glam rock,mellow gold,rock,soft rock,symphonic rockbeatlesque,britpop,madchester,permanent wave,pop rock,rockindie pop,philly indieart pop,chamber psych,crank wave,escape room,experimental pop,indie rock,london indiegarage rock,modern rock,permanent wave,rock,sheffield indiealternative dance,art pop,brooklyn indie,chillwave,electropop,escape room,experimental pop,indie rock,indie surf,indietronica,modern rock,new rave,noise popalt z,indie pop,modern alternative rock,modern rockalternative rock,garage rock,modern rock,permanent wave,rockmadchester,new wave,permanent wave,rock,uk post-punkart rock,classic rock,glam rock,permanent wave,rockmodern rock,punk blues,rockmodern rock,punk blues,rockcrank wave,indie rockalternative rock,garage rock,modern rock,permanent wave,rockart punk,art rock,dance rock,funk rock,new wave,permanent wave,post-punk,rock,zoloindie pop,indie rock,modern alternative rock,modern rock,rockmodern alternative rock,modern rock,rock,stomp pop,welsh rockalternative rock,garage rock,modern rock,permanent wave,rockalternative rock,indie pop,indie rock,rockbossbeatart pop,british folk,british singer-songwriter,chamber pop,indie folk,indie pop,singer-songwriter,stomp and hollerbedroom pop,indie popalternative dance,electronica,french indie pop,indie rock,indietronica,modern rock,new rave,socal pop punk,alternative r&b,indie r&b,indie soul,modern alternative popdance pop,pop,uk popindie pop,indie rock,modern alternative rock,modern rock,rockart pop,indie rock,uk alternative popgarage rock,modern rock,permanent wave,rock,sheffield indieglam metal,hard rock,rockalbum rock,classic rock,hard rock,rockalternative rock,dance rock,indie rock,modern rock,rock,scottish rockmodern folk rock,stomp and holler,uk americanaalternative rock,dance rock,modern rock,permanent wave,rockart pop,experimental folk,indie popchamber pop,folk,indie folk,indie pop,indie rock,seattle indie,stomp and holleracoustic rock,alternative rock,rockart pop,chamber pop,chamber psych,chillwave,electropop,experimental pop,indie pop,indie rock,seattle indieart pop,indie rock,uk alternative popmetalcore,pop punk,screamoalternative rock,indie rock,modern rock,rockindie rock,ok indie,stomp and holleranti-folk,comic,geek rock,permanent wave,zologarage rock,modern rock,permanent wave,rock,sheffield indiealternative rock,brooklyn indie,crank wave,denton tx indie,indie rock,modern rock,neo-psychedelic,noise popmodern rock,neo mellow,pop punk,pop rockfolktronica,art pop,british folk,british singer-songwriter,chamber pop,indie folk,indie pop,singer-songwriter,stomp and holleralbuquerque indie,alternative rock,indie pop,indie rock,modern rock,portland indie,stomp and hollerart pop,metropopolis,nz pop,popmodern alternative rock,modern rock,rockalternative rock,dream pop,indie rock,melancholia,pop rock,rock,singer-songwriterindie pop,indie rock,modern alternative rock,modern rock,rockindie rock,modern alternative rock,modern rock,rockbedroom pop,indie pop,norwegian indie,popmadchester,new wave,permanent wave,rock,uk post-punkbaroque pop,indie rock,modern rock,rock,sheffield indiealternative dance,alternative rock,austindie,indie rock,modern rock,pop rock,rockalternative rock,grunge,permanent wave,rockpermanent wave,popindie pop,indie rock,modern alternative rock,modern rock,rockindie rock,modern rockart pop,chamber psych,crank wave,english indie rock,indie rock,uk post-punk revivalalternative dance,edm,indie poptimism,indietronica,nu disco,pop,tropical house,modern rock,rockmodern indie popalternative rock,funk metal,funk rock,permanent waveindie pop,modern rock,psychedelic popbaroque pop,canadian indie,indie rock,modern rock,new rave,permanent wave,quebec indie,rockalbum rock,classic rock,mellow gold,rock,soft rockcrank wave,indie rock,london indie,uk post-punk revivalenglish indie rockbaroque pop,indie rock,modern rock,rock,sheffield indie,garage rockalbum rock,classic rock,mellow gold,rock,soft rockmodern dream popgarage rock,modern rock,permanent wave,rock,sheffield indiemodern rock,nottingham indie,rockmodern rock,rockart pop,indie rock,uk alternative popalbum rock,classic rock,mellow gold,rock,soft rock,yacht rockart pop,bubblegrunge,indie pop,indie rock,small roombedroom pop,indie pop,norwegian indie,popart pop,bubblegrunge,indie pop,indie rock,small roomaustindiebrooklyn indie,indie popbelgian indie,belgian rock,dutch indiealbum rock,classic rock,mellow gold,permanent wave,rockchillwave,indie rock,kiwi rock,neo-psychedelic,portland hip hop,psychedelic popalternative rock,garage rock,modern rock,permanent wave,rockalternative dance,british indie rock,indie rock,indietronica,modern rock,new rave,rock,stomp and hollermodern alternative rock,modern rock,pop,rockart pop,bubblegrunge,indie pop,indie rock,small roomart pop,metropopolis,nz pop,popalternative rock,brighton indie,garage rock,modern alternative rock,modern blues rock,modern hard rock,modern rock,rockalt z,popgarage rock,modern rock,permanent wave,rock,sheffield indiegarage rock,modern rock,permanent wave,rock,sheffield indieart pop,metropopolis,nz pop,popart pop,electropop,popmodern rock,neo mellow,pop punk,pop rockalternative rock,grunge,permanent wave,rockaustralian psych,neo-psychedelicmodern rock,punk blues,rockart pop,eugene indie,indie pop,philly indiealternative metal,alternative rock,grunge,permanent wave,pop rock,rock,spacegrungefolk-pop,metropopolis,modern rock,pop rock,stomp and hollerdublin indie,modern alternative rock,modern rock,rockbedroom pop,indie pop,popart pop,brooklyn indie,indie pop,indie rock,small roommodern rock,rockindie pop,indie rock,modern alternative rock,modern rock,rockcrank wave,indie rock,irish indie rock,modern alternative rock,modern rockalternative r&b,indie r&b,indie soul,modern alternative popbedroom pop,indie pop,norwegian indie,popart pop,electropop,popalternative rock,garage rock,modern rock,permanent wave,rockindie pop,philly indieindie rock,modern rockdreamo,indie pop,indie surf,surf punk,vegas indieart pop,electropop,escape room,indie pop,indietronica,popgarage rock,modern rock,permanent wave,rock,sheffield indieart pop,indie pop,indie rock,indie surf,vermont indienanaustindie,indie rock,modern rockalternative rock,boston rock,modern rock,permanent wave,rockbelgian indie,belgian rock,dutch indie,ghent indienanart pop,indie rock,uk alternative popart pop,brooklyn indie,indie pop,indie rock,small roomdance pop,pop,uk popart pop,indie rock,uk alternative popbeatlesque,britpop,madchester,permanent wave,pop rock,rockglam metal,hard rock,rockdowntempo,electronica,trip hopalternative dance,alternative rock,austindie,indie rock,modern rock,pop rock,rockgarage rock,modern rock,permanent wave,rock,sheffield indieart pop,indie pop,indie rock,indie surf,vermont indiealternative rock,garage rock,modern rock,permanent wave,rockalternative dance,art pop,chamber psych,chillwave,dream pop,electronica,indie rock,la indie,modern alternative rock,modern dream pop,modern rock,new raveacoustic pop,indie folk,neo mellowmodern rock,rockalternative emo,anti-folk,bubblegrunge,emo,indie pop,indie rock,lo-fi emo,small roomgothic metal,progressive doom,progressive metalfolk-popindie pop,indie poptimism,indie rock,indietronica,la indie,modern alternative rock,modern rock,rock,stomp and hollercrank wave,indie rockalbum rock,art rock,classic rock,progressive rock,psychedelic rock,rock,symphonic rockindie pop,indie rock,modern alternative rock,modern rock,rockneo-progressive,progressive metal,progressive rock,symphonic rockmodern alternative rock,modern rock,pop,rockbedroom pop,indie pop,norwegian indie,popaussietronica,indie soulart pop,brooklyn indie,indie pop,indie rock,small roomindie rock,modern rock,stomp and hollerart pop,electropop,popbrooklyn indie,indie popalternative dance,alternative rock,austindie,indie rock,modern rock,pop rock,rockgarage rock,modern rock,permanent wave,rock,sheffield indieart pop,experimental folk,indie pophard rock,metal,old school thrash,rock,thrash metalcrank wave,indie rock,london indie,uk post-punk revivalindie rock,modern rockindie pop,la indiealternative rock,funk metal,funk rock,permanent wavealternative rock,art rock,melancholia,oxford indie,permanent wave,rockalternative dance,alternative rock,austindie,indie rock,modern rock,pop rock,rockpopmodern alternative rock,modern rock,post-grunge,rockmodern rock,rock,sheffield indieindie pop,indie rock,modern alternative rock,modern rock,rockmodern alternative rock,modern rock,rock,stomp pop,welsh rockalbum rock,art rock,classic rock,progressive rock,psychedelic rock,rock,symphonic rockalternative dance,british indie rock,indie rock,indietronica,modern rock,new rave,rock,stomp and hollerbedroom pop,indie pop,norwegian indie,popindie pop,la indiecrank wave,indie rock,irish indie rock,modern alternative rock,modern rockart pop,indie folk,indie pop,indie rock,sydney indiebaroque pop,pop,uk alternative popbaroque pop,pop,uk alternative popindie pop,indie rock,modern alternative rock,modern rock,rockbaroque pop,canadian indie,indie rock,modern rock,new rave,permanent wave,quebec indie,rockmodern rock,rock,sheffield indiealbum rock,classic rock,hard rock,rockalternative rock,dance rock,modern rock,permanent wave,rockalternative rock,britpop,madchester,modern rock,permanent wave,pop rock,rockchillwave,indie rock,kiwi rock,neo-psychedelic,portland hip hop,psychedelic popalternative metal,alternative rock,grunge,hard rock,nu metal,rockgarage rock,modern rock,permanent wave,rock,sheffield indiecrank wave,indie rockindie pop,indie rock,modern alternative rock,modern rock,rockgarage rock,modern rock,permanent wave,rock,sheffield indiealternative rock,art pop,dream pop,nu gaze,reading indie,rock,shoegazeindietronica,modern rock,rockaustralian psych,neo-psychedelicindie rock,modern rockbaroque pop,indie rock,modern rock,rock,sheffield indiealternative rock,art pop,dream pop,melancholia,rock,shoegaze,slowcoreart pop,baltimore indie,bubblegrunge,indie pop,indie rockbergen indie,melancholia,norwegian indieart pop,indie folk,indie pop,indie rock,sydney indieart pop,experimental folk,indie popbaroque pop,canadian indie,indie rock,modern rock,new rave,permanent wave,quebec indie,rockart pop,bubblegrunge,indie pop,indie rock,small roomcrank wave,indie rock,noise rock,uk noise rock,uk post-punk revivalalternative hip hopindie pop,la indieauckland indie,bubblegrunge,indie pop,indie punk,indie rock,kiwi rock,modern power pop,nz indieelectropop,indie poptimism,indie rock,indietronica,la indie,modern alternative rock,modern rock,vapor soulart pop,baltimore indie,bubblegrunge,indie pop,indie rockchill pop,popcrank wave,indie rockmodern psychedelic folkcrank wave,indie rockgarage rock,modern rock,permanent wave,rock,sheffield indieindie pop,indie rock,modern rock,vancouver indiemodern alternative rock,modern rock,post-grunge,rockauckland indie,bubblegrunge,indie pop,indie punk,indie rock,kiwi rock,modern power pop,nz indiemodern rock,rockglam metal,hard rock,rockalternative dance,experimental pop,indie rock,modern alternative rock,modern rock,new ravemodern dream popnandreamo,indie pop,indie rock,shoegaze,toronto indiemodern folk rock,stomp and holler,uk americanaalternative rockindie pop,indie rock,modern rock,washington indieindie rock,modern rock,stomp and hollerart pop,indie rock,uk alternative popgarage rock,modern rock,permanent wave,rock,sheffield indieart pop,metropopolis,nz pop,popdreamo,indie pop,indie rock,shoegaze,toronto indiebeatlesque,britpop,madchester,permanent wave,pop rock,rockalternative rock,modern power pop,modern rock,permanent wave,rockchamber pop,folk,indie folk,indie pop,indie rock,seattle indie,stomp and hollerbedroom pop,indie pop,norwegian indie,popart pop,indie folk,indie pop,indie rock,sydney indieindie pop,la indiebritpop revival,english indie rock,indie rock,indie surf,liverpool indie,modern alternative rock,modern rock,rockdreamo,indie pop,indie rock,shoegaze,toronto indieart pop,metropopolis,nz pop,popalternative rock,art pop,dream pop,nu gaze,reading indie,rock,shoegazegarage rock,modern rock,permanent wave,rock,sheffield indiealternative metal,alternative rock,modern rock,permanent wave,post-grunge,rockalternative dance,alternative rock,austindie,indie rock,modern rock,pop rock,rocksmall roomart pop,metropopolis,nz pop,popbedroom pop,indie pop,norwegian indie,popfolk-pop,metropopolis,modern rock,pop rock,stomp and hollerbeatlesque,british invasion,classic rock,merseybeat,psychedelic rock,rockindie pop,indie rock,modern alternative rock,modern rock,rockindie rock,modern rockdance pop,electropop,etherpop,indie poptimism,popfolk-pop,neo-singer-songwriterart pop,baltimore indie,bubblegrunge,indie pop,indie rockdreamo,indie pop,indie rock,shoegaze,toronto indiechamber popnew romantic,new wave,new wave pop,permanent wave,pop rock,soft rock,synthpopgarage rock,modern rock,permanent wave,rock,sheffield indieart pop,electropop,popbaroque pop,indie rock,modern rock,rock,sheffield indiedreamo,indie pop,indie rock,shoegaze,toronto indieart pop,brooklyn indie,indie pop,indie rock,small roomalternative rock,garage rock,garage rock revival,indie rock,modern alternative rock,modern blues rock,modern rock,rock,supergroupgarage rock,modern rock,permanent wave,rock,sheffield indieindie pop,la indiealternative dance,experimental pop,indie rock,modern alternative rock,modern rock,new ravegarage rock,modern rock,permanent wave,rock,sheffield indiemodern rock,permanent wave,rockmodern alternative rock,modern rock,rock,stomp and hollerbaroque pop,indie rock,modern rock,rock,sheffield indie,garage rockindie anthem-folk,indie folkpermanent wave,popart pop,indie rock,uk alternative popart pop,bubblegrunge,indie pop,indie rock,small roommodern blues rock,modern hard rock,rockalternative rock,garage rock,modern rock,permanent wave,rockindie rock,modern rock,stomp and holler,eau claire indie,indie folk,melancholiabaroque pop,chamber pop,chicago indie,indie folk,indie pop,indie rock,melancholia,stomp and hollerbelgian indie,belgian rock,dutch indie,ghent indieart pop,experimental folk,indie popart pop,candy pop,dance pop,electropop,escape room,indie pop,la indie,metropopolis,neo-synthpop,popturkish alternative,turkish alternative rock,turkish rockalternative metal,nu metal,post-grunge,rap metalgarage rock,modern rock,permanent wave,rock,sheffield indieart pop,bubblegrunge,indie pop,indie rock,small roomalternative rock,funk metal,funk rock,permanent waveart pop,electropop,popbaroque pop,canadian indie,indie rock,modern rock,new rave,permanent wave,quebec indie,rockindie rock,modern rockchamber pop,folk,indie folk,indie pop,indie rock,seattle indie,stomp and hollerindie pop,indie rock,modern alternative rock,modern rock,rockart pop,experimental folk,indie popalternative rock,britpop,madchester,modern rock,permanent wave,pop rock,rockelectropop,etherpop,indie pop,indie rockindie rock,ok indie,stomp and holleralternative rock,funk metal,funk rock,permanent wavecrank wave,indie rockcrank wave,indie rock,london indie,uk post-punk revivalindie pop,la indiecrank wave,indie rockindie pop,la indiegarage rock,modern rock,permanent wave,rock,sheffield indiecanadian garage rock,garage rock,garage rock revival,modern alternative rock,modern blues rock,punk blues,vancouver indieindie pop,lilith,piano rockbritpop,modern rock,pop rock,rockbritpop,modern rock,pop rock,rockmodern rock,permanent wave,rockanti-folk,comic,geek rock,permanent wave,zolomodern alternative rock,modern rock,post-grunge,rockindie rock,modern rockart pop,popindie pop,modern rock,popgarage rock,modern rock,permanent wave,rock,sheffield indieart pop,electropop,escape room,indie pop,indietronica,popindie rock,modern rockart pop,popuk alternative popdance pop,electropop,etherpop,indie poptimism,popindie pop,la indiefolk-pop,neo-singer-songwritergarage rock,modern rock,permanent wave,rock,sheffield indieart pop,indie rock,uk alternative popbedroom pop,indie pop,norwegian indie,popbaroque pop,indie rock,modern rock,rock,sheffield indie,garage rockart pop,indie rock,uk alternative popgarage rock,modern rock,permanent wave,rock,sheffield indiemodern rock,rockindie popalternative dance,experimental pop,indie rock,modern alternative rock,modern rock,new raveart pop,chamber psych,crank wave,escape room,experimental pop,indie rock,london indiecrank wave,indie rock,london indie,uk post-punk revivalalternative metal,nu metal,rap metalbaroque pop,indie rock,modern rock,rock,sheffield indiecrank wave,indie rock,london indie,uk post-punk revivalchamber popart pop,metropopolis,nz pop,popindie pop,indie rock,modern alternative rock,modern rock,rocknz indieelectro,filter house,indie rockcrank wave,indie rock,london indie,uk post-punk revivalgrunge,permanent wave,rockbaroque pop,indie rock,modern rock,rockindie pop,indie rock,modern alternative rock,modern rock,rockindie garage rock,neo-psychedelicindie rock,modern rockgarage rock,modern rock,permanent wave,rock,sheffield indieauckland indie,indie soul,vapor soulindie rock,modern rock,stomp and hollergarage rock,modern rock,permanent wave,rock,sheffield indiegarage rock,modern rock,permanent wave,rock,sheffield indiegarage rock,modern rock,permanent wave,rock,sheffield indiechamber popnew romantic,new wave,new wave pop,permanent wave,pop rock,soft rock,synthpopcrank wave,indie rock,london indie,uk post-punk revivaldreamo,indie pop,indie rock,shoegaze,toronto indieart pop,indie pop,indie rock,indie surf,vermont indiefolk-pop,pop,stomp and hollerart pop,metropopolis,nz pop,popcrank wave,indie rockbedroom pop,indie pop,norwegian indie,popmodern folk rock,stomp and holler,uk americanaart pop,indie folk,indie pop,indie rock,sydney indiealbum rock,blues rock,classic rock,country rock,hard rock,mellow gold,rock,southern rockalternative metal,nu metal,post-grunge,rap metalindie pop,indie rock,modern alternative rock,modern rock,rockgarage rock,modern rock,permanent wave,rock,sheffield indiemodern rock,rock,scottish rockindie rock,modern rockalternative rock,britpop,dance rock,madchester,modern rock,rockalbum rock,art rock,classic rock,progressive rock,psychedelic rock,rock,symphonic rockart pop,indie pop,modern dream pop,popalternative rock,indie pop,indie rock,rockgarage rock,modern rock,permanent wave,rock,sheffield indiebelgian indie,belgian rock,dutch indie,ghent indieart pop,indie rock,uk alternative popart pop,brooklyn indie,indie pop,indie rock,small roombaroque pop,indie rock,modern rock,rock,sheffield indie,garage rockgarage rock,modern rock,permanent wave,rock,sheffield indiealternative dance,art pop,baroque pop,brooklyn indie,chillwave,dream pop,indie rock,modern rock,new weird america,stomp and holleralternative rock,garage rock,modern rock,permanent wave,rockart pop,metropopolis,nz pop,popart pop,indie rock,uk alternative popalternative rock,indie rock,modern rock,rockalternative dance,british indie rock,indie rock,indietronica,modern rock,new rave,rock,stomp and hollerart pop,eugene indie,indie pop,philly indieindie popart pop,metropopolis,nz pop,popchamber popdance pop,pop,uk popdreamo,indie pop,indie rock,shoegaze,toronto indieart pop,popindie pop,la indieart pop,indie rock,uk alternative popgarage rock,modern rock,permanent wave,rock,sheffield indiegarage rock,modern rock,permanent wave,rock,sheffield indiealternative rock,art pop,art rock,chamber psych,dream pop,duluth indie,indie rock,melancholia,slowcorealternative rock,indie pop,indie rock,rockalternative dance,alternative rock,austindie,indie rock,modern rock,pop rock,rockart pop,art rock,baroque pop,new wave pop,permanent wave,piano rock,singer-songwriterdreamo,indie pop,indie rock,shoegaze,toronto indiemodern blues rock,modern hard rock,rockart pop,eugene indie,indie pop,philly indieart pop,metropopolis,nz pop,popalternative dance,experimental pop,indie rock,modern alternative rock,modern rock,new ravealternative rock,blues rock,garage rock,modern blues rock,modern rock,punk blues,rock,roots rockindie pop,indie rock,modern alternative rock,modern rock,rockalternative rock,grunge,permanent wave,rockbaroque pop,indie rock,modern rock,rock,sheffield indieart pop,baltimore indie,bubblegrunge,indie pop,indie rockindie pop,pop,ambient folk,bubblegrunge,indie rock,la indie,art popambient folk,indie folkpermanent wave,popart pop,baltimore indie,bubblegrunge,indie pop,indie rockbritish invasion,classic rock,rockart pop,metropopolis,nz pop,popmodern dream popart pop,indie rock,uk alternative popgarage rock,modern rock,permanent wave,rock,sheffield indiebaroque pop,canadian indie,indie rock,modern rock,new rave,permanent wave,quebec indie,rockindie garage rock,neo-psychedelicdance pop,pop,post-teen pop,talent showalternative rock,funk metal,funk rock,permanent wavedreamo,indie pop,indie rock,shoegaze,toronto indiealternative dance,art pop,chamber psych,chillwave,dream pop,electronica,indie rock,la indie,modern alternative rock,modern dream pop,modern rock,new raveart pop,popindie rock,modern rockart pop,brooklyn indie,indie pop,indie rock,small roompermanent wave,popfolk-pop,neo-singer-songwritercandy pop,new wave,new wave pop,permanent wave,power pop,rockart pop,indie rock,uk alternative popart pop,metropopolis,nz pop,popart pop,metropopolis,nz pop,popalbum rock,classic rock,rock,soft rock,yacht rockbubblegrunge,chicago indie,indie pop,indie rockindie pop,la indiedreamo,indie pop,indie rock,shoegaze,toronto indiegarage rock,modern rock,permanent wave,rock,sheffield indieart pop,brooklyn indie,indie pop,indie rock,small roomalternative rock,australian garage punk,bay area indie,garage pop,garage rock,indie garage rock,indie rock,neo-psychedelic,noise pop,oc indie,punk bluesgarage rock,modern rock,permanent wave,rock,sheffield indiefolk,lilith,singer-songwriter,women's musicart pop,brooklyn indie,indie pop,indie rock,small roomgarage rock,modern rock,permanent wave,rock,sheffield indiebedroom pop,indie pop,norwegian indie,popalbum rock,blues rock,classic rock,country rock,hard rock,mellow gold,rock,southern rockbrooklyn indie,chillwave,dreamo,indie garage rock,indie rock,indie surf,popgaze,shoegazealternative metal,nu metal,rap metalphoenix indiepermanent wave,popgarage rock,modern rock,permanent wave,rock,sheffield indiebedroom pop,indie pop,norwegian indie,popart pop,indie folk,indie pop,indie rock,sydney indieindie pop,indie rock,modern alternative rock,modern rock,rockart pop,popgarage rock,modern rock,permanent wave,rock,sheffield indieglam rock,modern alternative rock,modern rockmodern rock,punk blues,rockart pop,brooklyn indie,indie pop,indie rock,small roomgarage rock,modern rock,permanent wave,rock,sheffield indieart pop,indie rock,uk alternative popgarage rock,modern rock,permanent wave,rock,sheffield indiealbum rock,art rock,classic rock,progressive rock,psychedelic rock,rock,symphonic rockbaroque pop,canadian indie,indie rock,modern rock,new rave,permanent wave,quebec indie,rockalternative dance,alternative rock,austindie,indie rock,modern rock,pop rock,rockindie rock,modern folk rock,neo-psychedelic,philly indiefolk-pop,popart pop,bubblegrunge,indie pop,indie rock,small roomgarage rock,modern rock,permanent wave,rock,sheffield indieindie pop,indie rock,indietronica,modern rock,seattle indieart pop,indie rock,uk alternative popdreamo,indie pop,indie rock,shoegaze,toronto indiedance pop,pop,uk popbaroque pop,indie rock,modern rock,rock,sheffield indie,garage rockalternative dance,experimental pop,indie rock,modern alternative rock,modern rock,new ravegarage rock,modern rock,permanent wave,rock,sheffield indiegarage rock,modern rock,permanent wave,rock,sheffield indiealternative dance,alternative rock,dance-punk,garage rock,indie rock,modern rock,new rave,rockpermanent wave,popanti-folk,comic,geek rock,permanent wave,zoloambient pop,dream pop,el paso indie,pop,shoegazebeatlesque,british invasion,classic rock,merseybeat,psychedelic rock,rockbergen indie,melancholia,norwegian indieindie popalternative rock,grunge,permanent wave,rockalternative rock,garage rock,modern rock,permanent wave,rockmodern rock,rock,sheffield indiedreamo,indie pop,indie rock,shoegaze,toronto indiebelgian indie,belgian rock,dutch indie,ghent indieart pop,brooklyn indie,indie pop,indie rock,small roomeau claire indie,indie folk,melancholiapermanent wave,popindie pop,south african alternativeart pop,indie rock,uk alternative popindie pop,indie rock,modern alternative rock,modern rock,rockcandy pop,new wave,new wave pop,permanent wave,power pop,rockalternative dance,alternative rock,art pop,baltimore indie,chillwave,dream pop,experimental pop,freak folk,indie rock,modern rock,new rave,noise popirish indiehard rock,metal,old school thrash,rock,thrash metalmodern alternative rock,modern rock,pop,rockafropop,griot,guinean pop,mande pop,west african jazz,worldpop,eau claire indie,indie folk,melancholiaalternative rock,modern rock,rockart pop,brooklyn indie,indie pop,indie rock,small roomart pop,chamber pop,indie folk,indie pop,indie rock,small roomalbum rock,beatlesque,classic rock,folk rock,mellow gold,rock,soft rockbelgian indie,belgian rock,dutch indie,ghent indiealternative rock,funk metal,funk rock,permanent waveneo mellow,piano rock,pop rockpopauckland indie,bubblegrunge,indie pop,indie punk,indie rock,kiwi rock,modern power pop,nz indiealternative dance,british indie rock,indie rock,indietronica,modern rock,new rave,rock,stomp and hollermodern rock,punk blues,rockacoustic pop,chamber pop,indie folk,indie pop,neo mellow,stomp and hollermodern rock,neo mellow,pop punk,pop rockart pop,metropopolis,nz pop,popalternative rock,garage rock,modern rock,permanent wave,rockindie pop,la indieindie rock,modern rockelectropop,indie poptimism,indie rock,indietronica,la indie,modern alternative rock,modern rock,vapor soulauckland indie,bubblegrunge,indie pop,indie punk,indie rock,kiwi rock,modern power pop,nz indieart pop,indie rock,uk alternative popalternative rock,indie rock,modern rock,rockmodern rockindie pop,la indieart pop,metropopolis,nz pop,popmodern rock,permanent wave,rockalternative rock,art rock,melancholia,oxford indie,permanent wave,rockgarage rock,modern rock,permanent wave,rock,sheffield indienanbaltimore indie,dream pop,dreamo,modern dream popindie pop,modern rock,popgarage rock,modern rock,permanent wave,rock,sheffield indiealternative rock,art rock,melancholia,oxford indie,permanent wave,rockchillwave,indie rock,kiwi rock,neo-psychedelic,portland hip hop,psychedelic popalternative rock,boston rock,modern rock,permanent wave,rockalternative rock,art rock,madchester,new wave,post-punk,rock,uk post-punkindie garage rock,indie pop,liverpool indiedeep new americana,indie pop,modern rockart pop,baltimore indie,bubblegrunge,indie pop,indie rockalternative rock,garage rock,modern rock,permanent wave,rockalternative rock,art pop,art rock,dream pop,ethereal wave,melancholia,new wave,rock,scottish indie,shoegazealternative dance,indietronica,modern rock,rockalternative rock,indie pop,indie rock,rockmodern dream popalternative rock,anti-folk,art rock,dream pop,indie rock,lo-fi,modern rock,pop rock,rockalternative dance,alternative rock,dance-punk,garage rock,indie rock,modern rock,new rave,rock,art pop,chamber pop,chamber psych,chillwave,electropop,experimental pop,indie pop,seattle indieindie pop,modern alternative rock,modern rock,rockmodern dream popalternative rock,indie pop,indie rock,rockmadchester,new wave,permanent wave,rock,uk post-punkalternative rock,art pop,art rock,dream pop,ethereal wave,melancholia,new wave,rock,scottish indie,shoegazealternative dance,alternative rock,dance rock,dance-punk,electronic rock,electronica,indie rock,indietronica,modern rock,new rave,rockart pop,baltimore indie,bubblegrunge,indie pop,indie rockart pop,chamber pop,dark pop,indie pop,lilith,permanent wave,piano rock,singer-songwriteralternative rock,garage rock,modern rock,permanent wave,rockcrank wave,indie rock,london indie,uk post-punk revivalindie popindie pop,modern rock,popart pop,experimental folk,indie popalternative rock,indie rock,modern rock,rockart pop,metropopolis,nz pop,popart pop,metropopolis,nz pop,pop\n",
            "['garage rock', 'modern rock', 'permanent wave', 'rock', 'sheffield indiealternative rock', 'garage rock', 'modern rock', 'permanent wave', 'rockart pop', 'metropopolis', 'nz pop', 'popindie pop', 'la indieart pop', 'brooklyn indie', 'indie pop', 'indie rock', 'small roomgarage rock', 'modern rock', 'permanent wave', 'rock', 'sheffield indiecrank wave', 'indie rockalternative rock', 'art rock', 'melancholia', 'oxford indie', 'permanent wave', 'rockindie pop', 'philly indiestomp and hollerart pop', 'indie rock', 'uk alternative popalternative dance', 'experimental pop', 'indie rock', 'modern alternative rock', 'modern rock', 'new ravegarage rock', 'modern rock', 'permanent wave', 'rock', 'sheffield indiealternative rock', 'blues rock', 'garage rock', 'modern blues rock', 'modern rock', 'punk blues', 'rock', 'roots rockart pop', 'metropopolis', 'nz pop', 'popneo-progressive', 'progressive metal', 'progressive rock', 'symphonic rockindie pop', 'la pop', 'modern rockgarage rock', 'modern rock', 'permanent wave', 'rock', 'sheffield indieart pop', 'metropopolis', 'nz pop', 'popbedroom pop', 'indie pop', 'norwegian indie', 'popaustindie', 'indie rock', 'modern rockbritish singer-songwriter', 'folk-pop', 'indie folk', 'neo mellow', 'stomp and hollerirish rockindie rock', 'modern alternative rock', 'modern rock', 'rockbritpop revival', 'english indie rock', 'indie rock', 'indie surf', 'liverpool indie', 'modern alternative rock', 'modern rock', 'rockart pop', 'bubblegrunge', 'indie pop', 'indie rock', 'small roomalbum rock', 'classic rock', 'rock', 'soft rock', 'yacht rockindie pop', 'indie rock', 'modern alternative rock', 'modern rock', 'rockalternative dance', 'experimental pop', 'indie rock', 'modern alternative rock', 'modern rock', 'new ravealternative rock', 'blues rock', 'garage rock', 'modern blues rock', 'modern rock', 'punk blues', 'rock', 'roots rockart pop', 'indie rock', 'uk alternative popbeatlesque', 'british invasion', 'classic rock', 'merseybeat', 'psychedelic rock', 'rockalternative rock', 'indie pop', 'indie rock', 'rockmodern rock', 'permanent wave', 'rockalternative dance', 'indietronica', 'modern rock', 'rockalbum rock', 'art rock', 'beatlesque', 'classic rock', 'glam rock', 'mellow gold', 'rock', 'soft rock', 'symphonic rockbeatlesque', 'britpop', 'madchester', 'permanent wave', 'pop rock', 'rockindie pop', 'philly indieart pop', 'chamber psych', 'crank wave', 'escape room', 'experimental pop', 'indie rock', 'london indiegarage rock', 'modern rock', 'permanent wave', 'rock', 'sheffield indiealternative dance', 'art pop', 'brooklyn indie', 'chillwave', 'electropop', 'escape room', 'experimental pop', 'indie rock', 'indie surf', 'indietronica', 'modern rock', 'new rave', 'noise popalt z', 'indie pop', 'modern alternative rock', 'modern rockalternative rock', 'garage rock', 'modern rock', 'permanent wave', 'rockmadchester', 'new wave', 'permanent wave', 'rock', 'uk post-punkart rock', 'classic rock', 'glam rock', 'permanent wave', 'rockmodern rock', 'punk blues', 'rockmodern rock', 'punk blues', 'rockcrank wave', 'indie rockalternative rock', 'garage rock', 'modern rock', 'permanent wave', 'rockart punk', 'art rock', 'dance rock', 'funk rock', 'new wave', 'permanent wave', 'post-punk', 'rock', 'zoloindie pop', 'indie rock', 'modern alternative rock', 'modern rock', 'rockmodern alternative rock', 'modern rock', 'rock', 'stomp pop', 'welsh rockalternative rock', 'garage rock', 'modern rock', 'permanent wave', 'rockalternative rock', 'indie pop', 'indie rock', 'rockbossbeatart pop', 'british folk', 'british singer-songwriter', 'chamber pop', 'indie folk', 'indie pop', 'singer-songwriter', 'stomp and hollerbedroom pop', 'indie popalternative dance', 'electronica', 'french indie pop', 'indie rock', 'indietronica', 'modern rock', 'new rave', 'socal pop punk', 'alternative r&b', 'indie r&b', 'indie soul', 'modern alternative popdance pop', 'pop', 'uk popindie pop', 'indie rock', 'modern alternative rock', 'modern rock', 'rockart pop', 'indie rock', 'uk alternative popgarage rock', 'modern rock', 'permanent wave', 'rock', 'sheffield indieglam metal', 'hard rock', 'rockalbum rock', 'classic rock', 'hard rock', 'rockalternative rock', 'dance rock', 'indie rock', 'modern rock', 'rock', 'scottish rockmodern folk rock', 'stomp and holler', 'uk americanaalternative rock', 'dance rock', 'modern rock', 'permanent wave', 'rockart pop', 'experimental folk', 'indie popchamber pop', 'folk', 'indie folk', 'indie pop', 'indie rock', 'seattle indie', 'stomp and holleracoustic rock', 'alternative rock', 'rockart pop', 'chamber pop', 'chamber psych', 'chillwave', 'electropop', 'experimental pop', 'indie pop', 'indie rock', 'seattle indieart pop', 'indie rock', 'uk alternative popmetalcore', 'pop punk', 'screamoalternative rock', 'indie rock', 'modern rock', 'rockindie rock', 'ok indie', 'stomp and holleranti-folk', 'comic', 'geek rock', 'permanent wave', 'zologarage rock', 'modern rock', 'permanent wave', 'rock', 'sheffield indiealternative rock', 'brooklyn indie', 'crank wave', 'denton tx indie', 'indie rock', 'modern rock', 'neo-psychedelic', 'noise popmodern rock', 'neo mellow', 'pop punk', 'pop rockfolktronica', 'art pop', 'british folk', 'british singer-songwriter', 'chamber pop', 'indie folk', 'indie pop', 'singer-songwriter', 'stomp and holleralbuquerque indie', 'alternative rock', 'indie pop', 'indie rock', 'modern rock', 'portland indie', 'stomp and hollerart pop', 'metropopolis', 'nz pop', 'popmodern alternative rock', 'modern rock', 'rockalternative rock', 'dream pop', 'indie rock', 'melancholia', 'pop rock', 'rock', 'singer-songwriterindie pop', 'indie rock', 'modern alternative rock', 'modern rock', 'rockindie rock', 'modern alternative rock', 'modern rock', 'rockbedroom pop', 'indie pop', 'norwegian indie', 'popmadchester', 'new wave', 'permanent wave', 'rock', 'uk post-punkbaroque pop', 'indie rock', 'modern rock', 'rock', 'sheffield indiealternative dance', 'alternative rock', 'austindie', 'indie rock', 'modern rock', 'pop rock', 'rockalternative rock', 'grunge', 'permanent wave', 'rockpermanent wave', 'popindie pop', 'indie rock', 'modern alternative rock', 'modern rock', 'rockindie rock', 'modern rockart pop', 'chamber psych', 'crank wave', 'english indie rock', 'indie rock', 'uk post-punk revivalalternative dance', 'edm', 'indie poptimism', 'indietronica', 'nu disco', 'pop', 'tropical house', 'modern rock', 'rockmodern indie popalternative rock', 'funk metal', 'funk rock', 'permanent waveindie pop', 'modern rock', 'psychedelic popbaroque pop', 'canadian indie', 'indie rock', 'modern rock', 'new rave', 'permanent wave', 'quebec indie', 'rockalbum rock', 'classic rock', 'mellow gold', 'rock', 'soft rockcrank wave', 'indie rock', 'london indie', 'uk post-punk revivalenglish indie rockbaroque pop', 'indie rock', 'modern rock', 'rock', 'sheffield indie', 'garage rockalbum rock', 'classic rock', 'mellow gold', 'rock', 'soft rockmodern dream popgarage rock', 'modern rock', 'permanent wave', 'rock', 'sheffield indiemodern rock', 'nottingham indie', 'rockmodern rock', 'rockart pop', 'indie rock', 'uk alternative popalbum rock', 'classic rock', 'mellow gold', 'rock', 'soft rock', 'yacht rockart pop', 'bubblegrunge', 'indie pop', 'indie rock', 'small roombedroom pop', 'indie pop', 'norwegian indie', 'popart pop', 'bubblegrunge', 'indie pop', 'indie rock', 'small roomaustindiebrooklyn indie', 'indie popbelgian indie', 'belgian rock', 'dutch indiealbum rock', 'classic rock', 'mellow gold', 'permanent wave', 'rockchillwave', 'indie rock', 'kiwi rock', 'neo-psychedelic', 'portland hip hop', 'psychedelic popalternative rock', 'garage rock', 'modern rock', 'permanent wave', 'rockalternative dance', 'british indie rock', 'indie rock', 'indietronica', 'modern rock', 'new rave', 'rock', 'stomp and hollermodern alternative rock', 'modern rock', 'pop', 'rockart pop', 'bubblegrunge', 'indie pop', 'indie rock', 'small roomart pop', 'metropopolis', 'nz pop', 'popalternative rock', 'brighton indie', 'garage rock', 'modern alternative rock', 'modern blues rock', 'modern hard rock', 'modern rock', 'rockalt z', 'popgarage rock', 'modern rock', 'permanent wave', 'rock', 'sheffield indiegarage rock', 'modern rock', 'permanent wave', 'rock', 'sheffield indieart pop', 'metropopolis', 'nz pop', 'popart pop', 'electropop', 'popmodern rock', 'neo mellow', 'pop punk', 'pop rockalternative rock', 'grunge', 'permanent wave', 'rockaustralian psych', 'neo-psychedelicmodern rock', 'punk blues', 'rockart pop', 'eugene indie', 'indie pop', 'philly indiealternative metal', 'alternative rock', 'grunge', 'permanent wave', 'pop rock', 'rock', 'spacegrungefolk-pop', 'metropopolis', 'modern rock', 'pop rock', 'stomp and hollerdublin indie', 'modern alternative rock', 'modern rock', 'rockbedroom pop', 'indie pop', 'popart pop', 'brooklyn indie', 'indie pop', 'indie rock', 'small roommodern rock', 'rockindie pop', 'indie rock', 'modern alternative rock', 'modern rock', 'rockcrank wave', 'indie rock', 'irish indie rock', 'modern alternative rock', 'modern rockalternative r&b', 'indie r&b', 'indie soul', 'modern alternative popbedroom pop', 'indie pop', 'norwegian indie', 'popart pop', 'electropop', 'popalternative rock', 'garage rock', 'modern rock', 'permanent wave', 'rockindie pop', 'philly indieindie rock', 'modern rockdreamo', 'indie pop', 'indie surf', 'surf punk', 'vegas indieart pop', 'electropop', 'escape room', 'indie pop', 'indietronica', 'popgarage rock', 'modern rock', 'permanent wave', 'rock', 'sheffield indieart pop', 'indie pop', 'indie rock', 'indie surf', 'vermont indienanaustindie', 'indie rock', 'modern rockalternative rock', 'boston rock', 'modern rock', 'permanent wave', 'rockbelgian indie', 'belgian rock', 'dutch indie', 'ghent indienanart pop', 'indie rock', 'uk alternative popart pop', 'brooklyn indie', 'indie pop', 'indie rock', 'small roomdance pop', 'pop', 'uk popart pop', 'indie rock', 'uk alternative popbeatlesque', 'britpop', 'madchester', 'permanent wave', 'pop rock', 'rockglam metal', 'hard rock', 'rockdowntempo', 'electronica', 'trip hopalternative dance', 'alternative rock', 'austindie', 'indie rock', 'modern rock', 'pop rock', 'rockgarage rock', 'modern rock', 'permanent wave', 'rock', 'sheffield indieart pop', 'indie pop', 'indie rock', 'indie surf', 'vermont indiealternative rock', 'garage rock', 'modern rock', 'permanent wave', 'rockalternative dance', 'art pop', 'chamber psych', 'chillwave', 'dream pop', 'electronica', 'indie rock', 'la indie', 'modern alternative rock', 'modern dream pop', 'modern rock', 'new raveacoustic pop', 'indie folk', 'neo mellowmodern rock', 'rockalternative emo', 'anti-folk', 'bubblegrunge', 'emo', 'indie pop', 'indie rock', 'lo-fi emo', 'small roomgothic metal', 'progressive doom', 'progressive metalfolk-popindie pop', 'indie poptimism', 'indie rock', 'indietronica', 'la indie', 'modern alternative rock', 'modern rock', 'rock', 'stomp and hollercrank wave', 'indie rockalbum rock', 'art rock', 'classic rock', 'progressive rock', 'psychedelic rock', 'rock', 'symphonic rockindie pop', 'indie rock', 'modern alternative rock', 'modern rock', 'rockneo-progressive', 'progressive metal', 'progressive rock', 'symphonic rockmodern alternative rock', 'modern rock', 'pop', 'rockbedroom pop', 'indie pop', 'norwegian indie', 'popaussietronica', 'indie soulart pop', 'brooklyn indie', 'indie pop', 'indie rock', 'small roomindie rock', 'modern rock', 'stomp and hollerart pop', 'electropop', 'popbrooklyn indie', 'indie popalternative dance', 'alternative rock', 'austindie', 'indie rock', 'modern rock', 'pop rock', 'rockgarage rock', 'modern rock', 'permanent wave', 'rock', 'sheffield indieart pop', 'experimental folk', 'indie pophard rock', 'metal', 'old school thrash', 'rock', 'thrash metalcrank wave', 'indie rock', 'london indie', 'uk post-punk revivalindie rock', 'modern rockindie pop', 'la indiealternative rock', 'funk metal', 'funk rock', 'permanent wavealternative rock', 'art rock', 'melancholia', 'oxford indie', 'permanent wave', 'rockalternative dance', 'alternative rock', 'austindie', 'indie rock', 'modern rock', 'pop rock', 'rockpopmodern alternative rock', 'modern rock', 'post-grunge', 'rockmodern rock', 'rock', 'sheffield indieindie pop', 'indie rock', 'modern alternative rock', 'modern rock', 'rockmodern alternative rock', 'modern rock', 'rock', 'stomp pop', 'welsh rockalbum rock', 'art rock', 'classic rock', 'progressive rock', 'psychedelic rock', 'rock', 'symphonic rockalternative dance', 'british indie rock', 'indie rock', 'indietronica', 'modern rock', 'new rave', 'rock', 'stomp and hollerbedroom pop', 'indie pop', 'norwegian indie', 'popindie pop', 'la indiecrank wave', 'indie rock', 'irish indie rock', 'modern alternative rock', 'modern rockart pop', 'indie folk', 'indie pop', 'indie rock', 'sydney indiebaroque pop', 'pop', 'uk alternative popbaroque pop', 'pop', 'uk alternative popindie pop', 'indie rock', 'modern alternative rock', 'modern rock', 'rockbaroque pop', 'canadian indie', 'indie rock', 'modern rock', 'new rave', 'permanent wave', 'quebec indie', 'rockmodern rock', 'rock', 'sheffield indiealbum rock', 'classic rock', 'hard rock', 'rockalternative rock', 'dance rock', 'modern rock', 'permanent wave', 'rockalternative rock', 'britpop', 'madchester', 'modern rock', 'permanent wave', 'pop rock', 'rockchillwave', 'indie rock', 'kiwi rock', 'neo-psychedelic', 'portland hip hop', 'psychedelic popalternative metal', 'alternative rock', 'grunge', 'hard rock', 'nu metal', 'rockgarage rock', 'modern rock', 'permanent wave', 'rock', 'sheffield indiecrank wave', 'indie rockindie pop', 'indie rock', 'modern alternative rock', 'modern rock', 'rockgarage rock', 'modern rock', 'permanent wave', 'rock', 'sheffield indiealternative rock', 'art pop', 'dream pop', 'nu gaze', 'reading indie', 'rock', 'shoegazeindietronica', 'modern rock', 'rockaustralian psych', 'neo-psychedelicindie rock', 'modern rockbaroque pop', 'indie rock', 'modern rock', 'rock', 'sheffield indiealternative rock', 'art pop', 'dream pop', 'melancholia', 'rock', 'shoegaze', 'slowcoreart pop', 'baltimore indie', 'bubblegrunge', 'indie pop', 'indie rockbergen indie', 'melancholia', 'norwegian indieart pop', 'indie folk', 'indie pop', 'indie rock', 'sydney indieart pop', 'experimental folk', 'indie popbaroque pop', 'canadian indie', 'indie rock', 'modern rock', 'new rave', 'permanent wave', 'quebec indie', 'rockart pop', 'bubblegrunge', 'indie pop', 'indie rock', 'small roomcrank wave', 'indie rock', 'noise rock', 'uk noise rock', 'uk post-punk revivalalternative hip hopindie pop', 'la indieauckland indie', 'bubblegrunge', 'indie pop', 'indie punk', 'indie rock', 'kiwi rock', 'modern power pop', 'nz indieelectropop', 'indie poptimism', 'indie rock', 'indietronica', 'la indie', 'modern alternative rock', 'modern rock', 'vapor soulart pop', 'baltimore indie', 'bubblegrunge', 'indie pop', 'indie rockchill pop', 'popcrank wave', 'indie rockmodern psychedelic folkcrank wave', 'indie rockgarage rock', 'modern rock', 'permanent wave', 'rock', 'sheffield indieindie pop', 'indie rock', 'modern rock', 'vancouver indiemodern alternative rock', 'modern rock', 'post-grunge', 'rockauckland indie', 'bubblegrunge', 'indie pop', 'indie punk', 'indie rock', 'kiwi rock', 'modern power pop', 'nz indiemodern rock', 'rockglam metal', 'hard rock', 'rockalternative dance', 'experimental pop', 'indie rock', 'modern alternative rock', 'modern rock', 'new ravemodern dream popnandreamo', 'indie pop', 'indie rock', 'shoegaze', 'toronto indiemodern folk rock', 'stomp and holler', 'uk americanaalternative rockindie pop', 'indie rock', 'modern rock', 'washington indieindie rock', 'modern rock', 'stomp and hollerart pop', 'indie rock', 'uk alternative popgarage rock', 'modern rock', 'permanent wave', 'rock', 'sheffield indieart pop', 'metropopolis', 'nz pop', 'popdreamo', 'indie pop', 'indie rock', 'shoegaze', 'toronto indiebeatlesque', 'britpop', 'madchester', 'permanent wave', 'pop rock', 'rockalternative rock', 'modern power pop', 'modern rock', 'permanent wave', 'rockchamber pop', 'folk', 'indie folk', 'indie pop', 'indie rock', 'seattle indie', 'stomp and hollerbedroom pop', 'indie pop', 'norwegian indie', 'popart pop', 'indie folk', 'indie pop', 'indie rock', 'sydney indieindie pop', 'la indiebritpop revival', 'english indie rock', 'indie rock', 'indie surf', 'liverpool indie', 'modern alternative rock', 'modern rock', 'rockdreamo', 'indie pop', 'indie rock', 'shoegaze', 'toronto indieart pop', 'metropopolis', 'nz pop', 'popalternative rock', 'art pop', 'dream pop', 'nu gaze', 'reading indie', 'rock', 'shoegazegarage rock', 'modern rock', 'permanent wave', 'rock', 'sheffield indiealternative metal', 'alternative rock', 'modern rock', 'permanent wave', 'post-grunge', 'rockalternative dance', 'alternative rock', 'austindie', 'indie rock', 'modern rock', 'pop rock', 'rocksmall roomart pop', 'metropopolis', 'nz pop', 'popbedroom pop', 'indie pop', 'norwegian indie', 'popfolk-pop', 'metropopolis', 'modern rock', 'pop rock', 'stomp and hollerbeatlesque', 'british invasion', 'classic rock', 'merseybeat', 'psychedelic rock', 'rockindie pop', 'indie rock', 'modern alternative rock', 'modern rock', 'rockindie rock', 'modern rockdance pop', 'electropop', 'etherpop', 'indie poptimism', 'popfolk-pop', 'neo-singer-songwriterart pop', 'baltimore indie', 'bubblegrunge', 'indie pop', 'indie rockdreamo', 'indie pop', 'indie rock', 'shoegaze', 'toronto indiechamber popnew romantic', 'new wave', 'new wave pop', 'permanent wave', 'pop rock', 'soft rock', 'synthpopgarage rock', 'modern rock', 'permanent wave', 'rock', 'sheffield indieart pop', 'electropop', 'popbaroque pop', 'indie rock', 'modern rock', 'rock', 'sheffield indiedreamo', 'indie pop', 'indie rock', 'shoegaze', 'toronto indieart pop', 'brooklyn indie', 'indie pop', 'indie rock', 'small roomalternative rock', 'garage rock', 'garage rock revival', 'indie rock', 'modern alternative rock', 'modern blues rock', 'modern rock', 'rock', 'supergroupgarage rock', 'modern rock', 'permanent wave', 'rock', 'sheffield indieindie pop', 'la indiealternative dance', 'experimental pop', 'indie rock', 'modern alternative rock', 'modern rock', 'new ravegarage rock', 'modern rock', 'permanent wave', 'rock', 'sheffield indiemodern rock', 'permanent wave', 'rockmodern alternative rock', 'modern rock', 'rock', 'stomp and hollerbaroque pop', 'indie rock', 'modern rock', 'rock', 'sheffield indie', 'garage rockindie anthem-folk', 'indie folkpermanent wave', 'popart pop', 'indie rock', 'uk alternative popart pop', 'bubblegrunge', 'indie pop', 'indie rock', 'small roommodern blues rock', 'modern hard rock', 'rockalternative rock', 'garage rock', 'modern rock', 'permanent wave', 'rockindie rock', 'modern rock', 'stomp and holler', 'eau claire indie', 'indie folk', 'melancholiabaroque pop', 'chamber pop', 'chicago indie', 'indie folk', 'indie pop', 'indie rock', 'melancholia', 'stomp and hollerbelgian indie', 'belgian rock', 'dutch indie', 'ghent indieart pop', 'experimental folk', 'indie popart pop', 'candy pop', 'dance pop', 'electropop', 'escape room', 'indie pop', 'la indie', 'metropopolis', 'neo-synthpop', 'popturkish alternative', 'turkish alternative rock', 'turkish rockalternative metal', 'nu metal', 'post-grunge', 'rap metalgarage rock', 'modern rock', 'permanent wave', 'rock', 'sheffield indieart pop', 'bubblegrunge', 'indie pop', 'indie rock', 'small roomalternative rock', 'funk metal', 'funk rock', 'permanent waveart pop', 'electropop', 'popbaroque pop', 'canadian indie', 'indie rock', 'modern rock', 'new rave', 'permanent wave', 'quebec indie', 'rockindie rock', 'modern rockchamber pop', 'folk', 'indie folk', 'indie pop', 'indie rock', 'seattle indie', 'stomp and hollerindie pop', 'indie rock', 'modern alternative rock', 'modern rock', 'rockart pop', 'experimental folk', 'indie popalternative rock', 'britpop', 'madchester', 'modern rock', 'permanent wave', 'pop rock', 'rockelectropop', 'etherpop', 'indie pop', 'indie rockindie rock', 'ok indie', 'stomp and holleralternative rock', 'funk metal', 'funk rock', 'permanent wavecrank wave', 'indie rockcrank wave', 'indie rock', 'london indie', 'uk post-punk revivalindie pop', 'la indiecrank wave', 'indie rockindie pop', 'la indiegarage rock', 'modern rock', 'permanent wave', 'rock', 'sheffield indiecanadian garage rock', 'garage rock', 'garage rock revival', 'modern alternative rock', 'modern blues rock', 'punk blues', 'vancouver indieindie pop', 'lilith', 'piano rockbritpop', 'modern rock', 'pop rock', 'rockbritpop', 'modern rock', 'pop rock', 'rockmodern rock', 'permanent wave', 'rockanti-folk', 'comic', 'geek rock', 'permanent wave', 'zolomodern alternative rock', 'modern rock', 'post-grunge', 'rockindie rock', 'modern rockart pop', 'popindie pop', 'modern rock', 'popgarage rock', 'modern rock', 'permanent wave', 'rock', 'sheffield indieart pop', 'electropop', 'escape room', 'indie pop', 'indietronica', 'popindie rock', 'modern rockart pop', 'popuk alternative popdance pop', 'electropop', 'etherpop', 'indie poptimism', 'popindie pop', 'la indiefolk-pop', 'neo-singer-songwritergarage rock', 'modern rock', 'permanent wave', 'rock', 'sheffield indieart pop', 'indie rock', 'uk alternative popbedroom pop', 'indie pop', 'norwegian indie', 'popbaroque pop', 'indie rock', 'modern rock', 'rock', 'sheffield indie', 'garage rockart pop', 'indie rock', 'uk alternative popgarage rock', 'modern rock', 'permanent wave', 'rock', 'sheffield indiemodern rock', 'rockindie popalternative dance', 'experimental pop', 'indie rock', 'modern alternative rock', 'modern rock', 'new raveart pop', 'chamber psych', 'crank wave', 'escape room', 'experimental pop', 'indie rock', 'london indiecrank wave', 'indie rock', 'london indie', 'uk post-punk revivalalternative metal', 'nu metal', 'rap metalbaroque pop', 'indie rock', 'modern rock', 'rock', 'sheffield indiecrank wave', 'indie rock', 'london indie', 'uk post-punk revivalchamber popart pop', 'metropopolis', 'nz pop', 'popindie pop', 'indie rock', 'modern alternative rock', 'modern rock', 'rocknz indieelectro', 'filter house', 'indie rockcrank wave', 'indie rock', 'london indie', 'uk post-punk revivalgrunge', 'permanent wave', 'rockbaroque pop', 'indie rock', 'modern rock', 'rockindie pop', 'indie rock', 'modern alternative rock', 'modern rock', 'rockindie garage rock', 'neo-psychedelicindie rock', 'modern rockgarage rock', 'modern rock', 'permanent wave', 'rock', 'sheffield indieauckland indie', 'indie soul', 'vapor soulindie rock', 'modern rock', 'stomp and hollergarage rock', 'modern rock', 'permanent wave', 'rock', 'sheffield indiegarage rock', 'modern rock', 'permanent wave', 'rock', 'sheffield indiegarage rock', 'modern rock', 'permanent wave', 'rock', 'sheffield indiechamber popnew romantic', 'new wave', 'new wave pop', 'permanent wave', 'pop rock', 'soft rock', 'synthpopcrank wave', 'indie rock', 'london indie', 'uk post-punk revivaldreamo', 'indie pop', 'indie rock', 'shoegaze', 'toronto indieart pop', 'indie pop', 'indie rock', 'indie surf', 'vermont indiefolk-pop', 'pop', 'stomp and hollerart pop', 'metropopolis', 'nz pop', 'popcrank wave', 'indie rockbedroom pop', 'indie pop', 'norwegian indie', 'popmodern folk rock', 'stomp and holler', 'uk americanaart pop', 'indie folk', 'indie pop', 'indie rock', 'sydney indiealbum rock', 'blues rock', 'classic rock', 'country rock', 'hard rock', 'mellow gold', 'rock', 'southern rockalternative metal', 'nu metal', 'post-grunge', 'rap metalindie pop', 'indie rock', 'modern alternative rock', 'modern rock', 'rockgarage rock', 'modern rock', 'permanent wave', 'rock', 'sheffield indiemodern rock', 'rock', 'scottish rockindie rock', 'modern rockalternative rock', 'britpop', 'dance rock', 'madchester', 'modern rock', 'rockalbum rock', 'art rock', 'classic rock', 'progressive rock', 'psychedelic rock', 'rock', 'symphonic rockart pop', 'indie pop', 'modern dream pop', 'popalternative rock', 'indie pop', 'indie rock', 'rockgarage rock', 'modern rock', 'permanent wave', 'rock', 'sheffield indiebelgian indie', 'belgian rock', 'dutch indie', 'ghent indieart pop', 'indie rock', 'uk alternative popart pop', 'brooklyn indie', 'indie pop', 'indie rock', 'small roombaroque pop', 'indie rock', 'modern rock', 'rock', 'sheffield indie', 'garage rockgarage rock', 'modern rock', 'permanent wave', 'rock', 'sheffield indiealternative dance', 'art pop', 'baroque pop', 'brooklyn indie', 'chillwave', 'dream pop', 'indie rock', 'modern rock', 'new weird america', 'stomp and holleralternative rock', 'garage rock', 'modern rock', 'permanent wave', 'rockart pop', 'metropopolis', 'nz pop', 'popart pop', 'indie rock', 'uk alternative popalternative rock', 'indie rock', 'modern rock', 'rockalternative dance', 'british indie rock', 'indie rock', 'indietronica', 'modern rock', 'new rave', 'rock', 'stomp and hollerart pop', 'eugene indie', 'indie pop', 'philly indieindie popart pop', 'metropopolis', 'nz pop', 'popchamber popdance pop', 'pop', 'uk popdreamo', 'indie pop', 'indie rock', 'shoegaze', 'toronto indieart pop', 'popindie pop', 'la indieart pop', 'indie rock', 'uk alternative popgarage rock', 'modern rock', 'permanent wave', 'rock', 'sheffield indiegarage rock', 'modern rock', 'permanent wave', 'rock', 'sheffield indiealternative rock', 'art pop', 'art rock', 'chamber psych', 'dream pop', 'duluth indie', 'indie rock', 'melancholia', 'slowcorealternative rock', 'indie pop', 'indie rock', 'rockalternative dance', 'alternative rock', 'austindie', 'indie rock', 'modern rock', 'pop rock', 'rockart pop', 'art rock', 'baroque pop', 'new wave pop', 'permanent wave', 'piano rock', 'singer-songwriterdreamo', 'indie pop', 'indie rock', 'shoegaze', 'toronto indiemodern blues rock', 'modern hard rock', 'rockart pop', 'eugene indie', 'indie pop', 'philly indieart pop', 'metropopolis', 'nz pop', 'popalternative dance', 'experimental pop', 'indie rock', 'modern alternative rock', 'modern rock', 'new ravealternative rock', 'blues rock', 'garage rock', 'modern blues rock', 'modern rock', 'punk blues', 'rock', 'roots rockindie pop', 'indie rock', 'modern alternative rock', 'modern rock', 'rockalternative rock', 'grunge', 'permanent wave', 'rockbaroque pop', 'indie rock', 'modern rock', 'rock', 'sheffield indieart pop', 'baltimore indie', 'bubblegrunge', 'indie pop', 'indie rockindie pop', 'pop', 'ambient folk', 'bubblegrunge', 'indie rock', 'la indie', 'art popambient folk', 'indie folkpermanent wave', 'popart pop', 'baltimore indie', 'bubblegrunge', 'indie pop', 'indie rockbritish invasion', 'classic rock', 'rockart pop', 'metropopolis', 'nz pop', 'popmodern dream popart pop', 'indie rock', 'uk alternative popgarage rock', 'modern rock', 'permanent wave', 'rock', 'sheffield indiebaroque pop', 'canadian indie', 'indie rock', 'modern rock', 'new rave', 'permanent wave', 'quebec indie', 'rockindie garage rock', 'neo-psychedelicdance pop', 'pop', 'post-teen pop', 'talent showalternative rock', 'funk metal', 'funk rock', 'permanent wavedreamo', 'indie pop', 'indie rock', 'shoegaze', 'toronto indiealternative dance', 'art pop', 'chamber psych', 'chillwave', 'dream pop', 'electronica', 'indie rock', 'la indie', 'modern alternative rock', 'modern dream pop', 'modern rock', 'new raveart pop', 'popindie rock', 'modern rockart pop', 'brooklyn indie', 'indie pop', 'indie rock', 'small roompermanent wave', 'popfolk-pop', 'neo-singer-songwritercandy pop', 'new wave', 'new wave pop', 'permanent wave', 'power pop', 'rockart pop', 'indie rock', 'uk alternative popart pop', 'metropopolis', 'nz pop', 'popart pop', 'metropopolis', 'nz pop', 'popalbum rock', 'classic rock', 'rock', 'soft rock', 'yacht rockbubblegrunge', 'chicago indie', 'indie pop', 'indie rockindie pop', 'la indiedreamo', 'indie pop', 'indie rock', 'shoegaze', 'toronto indiegarage rock', 'modern rock', 'permanent wave', 'rock', 'sheffield indieart pop', 'brooklyn indie', 'indie pop', 'indie rock', 'small roomalternative rock', 'australian garage punk', 'bay area indie', 'garage pop', 'garage rock', 'indie garage rock', 'indie rock', 'neo-psychedelic', 'noise pop', 'oc indie', 'punk bluesgarage rock', 'modern rock', 'permanent wave', 'rock', 'sheffield indiefolk', 'lilith', 'singer-songwriter', \"women's musicart pop\", 'brooklyn indie', 'indie pop', 'indie rock', 'small roomgarage rock', 'modern rock', 'permanent wave', 'rock', 'sheffield indiebedroom pop', 'indie pop', 'norwegian indie', 'popalbum rock', 'blues rock', 'classic rock', 'country rock', 'hard rock', 'mellow gold', 'rock', 'southern rockbrooklyn indie', 'chillwave', 'dreamo', 'indie garage rock', 'indie rock', 'indie surf', 'popgaze', 'shoegazealternative metal', 'nu metal', 'rap metalphoenix indiepermanent wave', 'popgarage rock', 'modern rock', 'permanent wave', 'rock', 'sheffield indiebedroom pop', 'indie pop', 'norwegian indie', 'popart pop', 'indie folk', 'indie pop', 'indie rock', 'sydney indieindie pop', 'indie rock', 'modern alternative rock', 'modern rock', 'rockart pop', 'popgarage rock', 'modern rock', 'permanent wave', 'rock', 'sheffield indieglam rock', 'modern alternative rock', 'modern rockmodern rock', 'punk blues', 'rockart pop', 'brooklyn indie', 'indie pop', 'indie rock', 'small roomgarage rock', 'modern rock', 'permanent wave', 'rock', 'sheffield indieart pop', 'indie rock', 'uk alternative popgarage rock', 'modern rock', 'permanent wave', 'rock', 'sheffield indiealbum rock', 'art rock', 'classic rock', 'progressive rock', 'psychedelic rock', 'rock', 'symphonic rockbaroque pop', 'canadian indie', 'indie rock', 'modern rock', 'new rave', 'permanent wave', 'quebec indie', 'rockalternative dance', 'alternative rock', 'austindie', 'indie rock', 'modern rock', 'pop rock', 'rockindie rock', 'modern folk rock', 'neo-psychedelic', 'philly indiefolk-pop', 'popart pop', 'bubblegrunge', 'indie pop', 'indie rock', 'small roomgarage rock', 'modern rock', 'permanent wave', 'rock', 'sheffield indieindie pop', 'indie rock', 'indietronica', 'modern rock', 'seattle indieart pop', 'indie rock', 'uk alternative popdreamo', 'indie pop', 'indie rock', 'shoegaze', 'toronto indiedance pop', 'pop', 'uk popbaroque pop', 'indie rock', 'modern rock', 'rock', 'sheffield indie', 'garage rockalternative dance', 'experimental pop', 'indie rock', 'modern alternative rock', 'modern rock', 'new ravegarage rock', 'modern rock', 'permanent wave', 'rock', 'sheffield indiegarage rock', 'modern rock', 'permanent wave', 'rock', 'sheffield indiealternative dance', 'alternative rock', 'dance-punk', 'garage rock', 'indie rock', 'modern rock', 'new rave', 'rockpermanent wave', 'popanti-folk', 'comic', 'geek rock', 'permanent wave', 'zoloambient pop', 'dream pop', 'el paso indie', 'pop', 'shoegazebeatlesque', 'british invasion', 'classic rock', 'merseybeat', 'psychedelic rock', 'rockbergen indie', 'melancholia', 'norwegian indieindie popalternative rock', 'grunge', 'permanent wave', 'rockalternative rock', 'garage rock', 'modern rock', 'permanent wave', 'rockmodern rock', 'rock', 'sheffield indiedreamo', 'indie pop', 'indie rock', 'shoegaze', 'toronto indiebelgian indie', 'belgian rock', 'dutch indie', 'ghent indieart pop', 'brooklyn indie', 'indie pop', 'indie rock', 'small roomeau claire indie', 'indie folk', 'melancholiapermanent wave', 'popindie pop', 'south african alternativeart pop', 'indie rock', 'uk alternative popindie pop', 'indie rock', 'modern alternative rock', 'modern rock', 'rockcandy pop', 'new wave', 'new wave pop', 'permanent wave', 'power pop', 'rockalternative dance', 'alternative rock', 'art pop', 'baltimore indie', 'chillwave', 'dream pop', 'experimental pop', 'freak folk', 'indie rock', 'modern rock', 'new rave', 'noise popirish indiehard rock', 'metal', 'old school thrash', 'rock', 'thrash metalmodern alternative rock', 'modern rock', 'pop', 'rockafropop', 'griot', 'guinean pop', 'mande pop', 'west african jazz', 'worldpop', 'eau claire indie', 'indie folk', 'melancholiaalternative rock', 'modern rock', 'rockart pop', 'brooklyn indie', 'indie pop', 'indie rock', 'small roomart pop', 'chamber pop', 'indie folk', 'indie pop', 'indie rock', 'small roomalbum rock', 'beatlesque', 'classic rock', 'folk rock', 'mellow gold', 'rock', 'soft rockbelgian indie', 'belgian rock', 'dutch indie', 'ghent indiealternative rock', 'funk metal', 'funk rock', 'permanent waveneo mellow', 'piano rock', 'pop rockpopauckland indie', 'bubblegrunge', 'indie pop', 'indie punk', 'indie rock', 'kiwi rock', 'modern power pop', 'nz indiealternative dance', 'british indie rock', 'indie rock', 'indietronica', 'modern rock', 'new rave', 'rock', 'stomp and hollermodern rock', 'punk blues', 'rockacoustic pop', 'chamber pop', 'indie folk', 'indie pop', 'neo mellow', 'stomp and hollermodern rock', 'neo mellow', 'pop punk', 'pop rockart pop', 'metropopolis', 'nz pop', 'popalternative rock', 'garage rock', 'modern rock', 'permanent wave', 'rockindie pop', 'la indieindie rock', 'modern rockelectropop', 'indie poptimism', 'indie rock', 'indietronica', 'la indie', 'modern alternative rock', 'modern rock', 'vapor soulauckland indie', 'bubblegrunge', 'indie pop', 'indie punk', 'indie rock', 'kiwi rock', 'modern power pop', 'nz indieart pop', 'indie rock', 'uk alternative popalternative rock', 'indie rock', 'modern rock', 'rockmodern rockindie pop', 'la indieart pop', 'metropopolis', 'nz pop', 'popmodern rock', 'permanent wave', 'rockalternative rock', 'art rock', 'melancholia', 'oxford indie', 'permanent wave', 'rockgarage rock', 'modern rock', 'permanent wave', 'rock', 'sheffield indienanbaltimore indie', 'dream pop', 'dreamo', 'modern dream popindie pop', 'modern rock', 'popgarage rock', 'modern rock', 'permanent wave', 'rock', 'sheffield indiealternative rock', 'art rock', 'melancholia', 'oxford indie', 'permanent wave', 'rockchillwave', 'indie rock', 'kiwi rock', 'neo-psychedelic', 'portland hip hop', 'psychedelic popalternative rock', 'boston rock', 'modern rock', 'permanent wave', 'rockalternative rock', 'art rock', 'madchester', 'new wave', 'post-punk', 'rock', 'uk post-punkindie garage rock', 'indie pop', 'liverpool indiedeep new americana', 'indie pop', 'modern rockart pop', 'baltimore indie', 'bubblegrunge', 'indie pop', 'indie rockalternative rock', 'garage rock', 'modern rock', 'permanent wave', 'rockalternative rock', 'art pop', 'art rock', 'dream pop', 'ethereal wave', 'melancholia', 'new wave', 'rock', 'scottish indie', 'shoegazealternative dance', 'indietronica', 'modern rock', 'rockalternative rock', 'indie pop', 'indie rock', 'rockmodern dream popalternative rock', 'anti-folk', 'art rock', 'dream pop', 'indie rock', 'lo-fi', 'modern rock', 'pop rock', 'rockalternative dance', 'alternative rock', 'dance-punk', 'garage rock', 'indie rock', 'modern rock', 'new rave', 'rock', 'art pop', 'chamber pop', 'chamber psych', 'chillwave', 'electropop', 'experimental pop', 'indie pop', 'seattle indieindie pop', 'modern alternative rock', 'modern rock', 'rockmodern dream popalternative rock', 'indie pop', 'indie rock', 'rockmadchester', 'new wave', 'permanent wave', 'rock', 'uk post-punkalternative rock', 'art pop', 'art rock', 'dream pop', 'ethereal wave', 'melancholia', 'new wave', 'rock', 'scottish indie', 'shoegazealternative dance', 'alternative rock', 'dance rock', 'dance-punk', 'electronic rock', 'electronica', 'indie rock', 'indietronica', 'modern rock', 'new rave', 'rockart pop', 'baltimore indie', 'bubblegrunge', 'indie pop', 'indie rockart pop', 'chamber pop', 'dark pop', 'indie pop', 'lilith', 'permanent wave', 'piano rock', 'singer-songwriteralternative rock', 'garage rock', 'modern rock', 'permanent wave', 'rockcrank wave', 'indie rock', 'london indie', 'uk post-punk revivalindie popindie pop', 'modern rock', 'popart pop', 'experimental folk', 'indie popalternative rock', 'indie rock', 'modern rock', 'rockart pop', 'metropopolis', 'nz pop', 'popart pop', 'metropopolis', 'nz pop', 'pop']\n",
            "--------------------------------------\n",
            "modern rock\n",
            "184\n",
            "--------------------------------------\n",
            "The most common genre is  modern rock  with  184 times.\n"
          ]
        }
      ],
      "source": [
        "#10pts\n",
        "#find the most frequent genre in the playlist.\n",
        "Genrelist = df3.Genres.values.tolist()\n",
        "print(Genrelist)\n",
        "print(\"//////////////////////////////////////////////////////////////\")\n",
        "\n",
        "\n",
        "allGenresString = \"\"\n",
        "for i in Genrelist:\n",
        "  #if type(i) == str:\n",
        "  allGenresString = allGenresString + str(i)\n",
        "print(allGenresString)\n",
        "genreSplit = allGenresString.split(\",\")\n",
        "genreCounts = []\n",
        "print(genreSplit)\n",
        "for l in genreSplit:\n",
        "    Count = genreSplit.count(l)\n",
        "    genreCounts.append(Count)\n",
        "maxindex = genreCounts.index(max(genreCounts))\n",
        "mostGenre = genreSplit[maxindex]\n",
        "\n",
        "\n",
        "def most_frequent(List):\n",
        "    return max(set(List), key = List.count)\n",
        "\n",
        "print(\"--------------------------------------\")\n",
        "\n",
        "print(most_frequent(genreSplit))\n",
        "count1 = genreSplit.count(most_frequent(genreSplit))\n",
        "print(count1)\n",
        "print(\"--------------------------------------\")\n",
        "\n",
        "#print the most frequent genre name, and how many time it occurs.\n",
        "print(\"The most common genre is \", mostGenre  ,\" with \", genreCounts[maxindex] , \"times.\")\n"
      ]
    },
    {
      "cell_type": "markdown",
      "id": "093c9660",
      "metadata": {
        "id": "093c9660"
      },
      "source": [
        "The most common genre is not surprising since Arctic Monkeys was at the top by far in our most frequent artist list. Our dataset contains lots of technical information about the music. Still, we can create different columns for better information source. In this question, we will apply a pretty basic feature engineering approach. Danceability, Energy and Valence are good indicators for the emotion that conveyed by the track. Create a new column called \"Positivity\" in our dataframe by taking the mean of three columns (Danceability, Energy, Valence) and show the statistical properties with describe again."
      ]
    },
    {
      "cell_type": "code",
      "execution_count": null,
      "id": "fb716630",
      "metadata": {
        "id": "fb716630",
        "colab": {
          "base_uri": "https://localhost:8080/"
        },
        "outputId": "9fe5c12a-9126-47b1-9f24-ed8623d5cff7"
      },
      "outputs": [
        {
          "output_type": "stream",
          "name": "stdout",
          "text": [
            "<class 'pandas.core.frame.DataFrame'>\n",
            "Int64Index: 594 entries, 0 to 606\n",
            "Data columns (total 19 columns):\n",
            " #   Column            Non-Null Count  Dtype  \n",
            "---  ------            --------------  -----  \n",
            " 0   Track Name        594 non-null    object \n",
            " 1   Album Name        594 non-null    object \n",
            " 2   Artist Name(s)    594 non-null    object \n",
            " 3   Release Date      594 non-null    object \n",
            " 4   Duration (ms)     594 non-null    int64  \n",
            " 5   Popularity        594 non-null    int64  \n",
            " 6   Genres            590 non-null    object \n",
            " 7   Danceability      594 non-null    float64\n",
            " 8   Energy            594 non-null    float64\n",
            " 9   Key               594 non-null    int64  \n",
            " 10  Loudness          594 non-null    float64\n",
            " 11  Mode              594 non-null    int64  \n",
            " 12  Speechiness       594 non-null    float64\n",
            " 13  Acousticness      594 non-null    float64\n",
            " 14  Instrumentalness  594 non-null    float64\n",
            " 15  Liveness          594 non-null    float64\n",
            " 16  Valence           594 non-null    float64\n",
            " 17  Tempo             594 non-null    float64\n",
            " 18  Positivity        594 non-null    float64\n",
            "dtypes: float64(10), int64(4), object(5)\n",
            "memory usage: 92.8+ KB\n"
          ]
        },
        {
          "output_type": "stream",
          "name": "stderr",
          "text": [
            "<ipython-input-12-439dcf28b0d4>:2: SettingWithCopyWarning: \n",
            "A value is trying to be set on a copy of a slice from a DataFrame.\n",
            "Try using .loc[row_indexer,col_indexer] = value instead\n",
            "\n",
            "See the caveats in the documentation: https://pandas.pydata.org/pandas-docs/stable/user_guide/indexing.html#returning-a-view-versus-a-copy\n",
            "  df3[\"Positivity\"] = (df3[\"Danceability\"] + df3[\"Energy\"] + df3[\"Valence\"])/3\n"
          ]
        }
      ],
      "source": [
        "#5pts\n",
        "df3[\"Positivity\"] = (df3[\"Danceability\"] + df3[\"Energy\"] + df3[\"Valence\"])/3\n",
        "#create a new column\n",
        "#show the statistical properties\n",
        "df3.describe()\n",
        "df3.info()"
      ]
    },
    {
      "cell_type": "markdown",
      "id": "2fdea9ca",
      "metadata": {
        "id": "2fdea9ca"
      },
      "source": [
        "We are in a good shape now. Let's test our filtering skills. Filtering is a significant skill in data science because in many cases you will only need some part of the dataset.  In this question, we will filter a song called Crying Lightning by Arctic Monkeys. It's not a song that is arbitrarily chosen by the assistant, you can also take it as a recommendation. :)"
      ]
    },
    {
      "cell_type": "code",
      "execution_count": null,
      "id": "3f45b5e7",
      "metadata": {
        "id": "3f45b5e7",
        "colab": {
          "base_uri": "https://localhost:8080/",
          "height": 214
        },
        "outputId": "ab8c39c4-1578-4981-9fa9-ddbc3c4b7b6d"
      },
      "outputs": [
        {
          "output_type": "execute_result",
          "data": {
            "text/plain": [
              "         Track Name Album Name  Artist Name(s) Release Date  Duration (ms)  \\\n",
              "0  Crying Lightning     Humbug  Arctic Monkeys   2009-08-20         224826   \n",
              "\n",
              "   Popularity                                             Genres  \\\n",
              "0          67  garage rock,modern rock,permanent wave,rock,sh...   \n",
              "\n",
              "   Danceability  Energy  Key  Loudness  Mode  Speechiness  Acousticness  \\\n",
              "0         0.498   0.885    4    -4.423     0       0.0461        0.0148   \n",
              "\n",
              "   Instrumentalness  Liveness  Valence    Tempo  \n",
              "0           0.00041     0.239     0.67  106.719  "
            ],
            "text/html": [
              "\n",
              "  <div id=\"df-c3445e33-a8ac-493f-9ff8-c1f9284f664d\">\n",
              "    <div class=\"colab-df-container\">\n",
              "      <div>\n",
              "<style scoped>\n",
              "    .dataframe tbody tr th:only-of-type {\n",
              "        vertical-align: middle;\n",
              "    }\n",
              "\n",
              "    .dataframe tbody tr th {\n",
              "        vertical-align: top;\n",
              "    }\n",
              "\n",
              "    .dataframe thead th {\n",
              "        text-align: right;\n",
              "    }\n",
              "</style>\n",
              "<table border=\"1\" class=\"dataframe\">\n",
              "  <thead>\n",
              "    <tr style=\"text-align: right;\">\n",
              "      <th></th>\n",
              "      <th>Track Name</th>\n",
              "      <th>Album Name</th>\n",
              "      <th>Artist Name(s)</th>\n",
              "      <th>Release Date</th>\n",
              "      <th>Duration (ms)</th>\n",
              "      <th>Popularity</th>\n",
              "      <th>Genres</th>\n",
              "      <th>Danceability</th>\n",
              "      <th>Energy</th>\n",
              "      <th>Key</th>\n",
              "      <th>Loudness</th>\n",
              "      <th>Mode</th>\n",
              "      <th>Speechiness</th>\n",
              "      <th>Acousticness</th>\n",
              "      <th>Instrumentalness</th>\n",
              "      <th>Liveness</th>\n",
              "      <th>Valence</th>\n",
              "      <th>Tempo</th>\n",
              "    </tr>\n",
              "  </thead>\n",
              "  <tbody>\n",
              "    <tr>\n",
              "      <th>0</th>\n",
              "      <td>Crying Lightning</td>\n",
              "      <td>Humbug</td>\n",
              "      <td>Arctic Monkeys</td>\n",
              "      <td>2009-08-20</td>\n",
              "      <td>224826</td>\n",
              "      <td>67</td>\n",
              "      <td>garage rock,modern rock,permanent wave,rock,sh...</td>\n",
              "      <td>0.498</td>\n",
              "      <td>0.885</td>\n",
              "      <td>4</td>\n",
              "      <td>-4.423</td>\n",
              "      <td>0</td>\n",
              "      <td>0.0461</td>\n",
              "      <td>0.0148</td>\n",
              "      <td>0.00041</td>\n",
              "      <td>0.239</td>\n",
              "      <td>0.67</td>\n",
              "      <td>106.719</td>\n",
              "    </tr>\n",
              "  </tbody>\n",
              "</table>\n",
              "</div>\n",
              "      <button class=\"colab-df-convert\" onclick=\"convertToInteractive('df-c3445e33-a8ac-493f-9ff8-c1f9284f664d')\"\n",
              "              title=\"Convert this dataframe to an interactive table.\"\n",
              "              style=\"display:none;\">\n",
              "        \n",
              "  <svg xmlns=\"http://www.w3.org/2000/svg\" height=\"24px\"viewBox=\"0 0 24 24\"\n",
              "       width=\"24px\">\n",
              "    <path d=\"M0 0h24v24H0V0z\" fill=\"none\"/>\n",
              "    <path d=\"M18.56 5.44l.94 2.06.94-2.06 2.06-.94-2.06-.94-.94-2.06-.94 2.06-2.06.94zm-11 1L8.5 8.5l.94-2.06 2.06-.94-2.06-.94L8.5 2.5l-.94 2.06-2.06.94zm10 10l.94 2.06.94-2.06 2.06-.94-2.06-.94-.94-2.06-.94 2.06-2.06.94z\"/><path d=\"M17.41 7.96l-1.37-1.37c-.4-.4-.92-.59-1.43-.59-.52 0-1.04.2-1.43.59L10.3 9.45l-7.72 7.72c-.78.78-.78 2.05 0 2.83L4 21.41c.39.39.9.59 1.41.59.51 0 1.02-.2 1.41-.59l7.78-7.78 2.81-2.81c.8-.78.8-2.07 0-2.86zM5.41 20L4 18.59l7.72-7.72 1.47 1.35L5.41 20z\"/>\n",
              "  </svg>\n",
              "      </button>\n",
              "      \n",
              "  <style>\n",
              "    .colab-df-container {\n",
              "      display:flex;\n",
              "      flex-wrap:wrap;\n",
              "      gap: 12px;\n",
              "    }\n",
              "\n",
              "    .colab-df-convert {\n",
              "      background-color: #E8F0FE;\n",
              "      border: none;\n",
              "      border-radius: 50%;\n",
              "      cursor: pointer;\n",
              "      display: none;\n",
              "      fill: #1967D2;\n",
              "      height: 32px;\n",
              "      padding: 0 0 0 0;\n",
              "      width: 32px;\n",
              "    }\n",
              "\n",
              "    .colab-df-convert:hover {\n",
              "      background-color: #E2EBFA;\n",
              "      box-shadow: 0px 1px 2px rgba(60, 64, 67, 0.3), 0px 1px 3px 1px rgba(60, 64, 67, 0.15);\n",
              "      fill: #174EA6;\n",
              "    }\n",
              "\n",
              "    [theme=dark] .colab-df-convert {\n",
              "      background-color: #3B4455;\n",
              "      fill: #D2E3FC;\n",
              "    }\n",
              "\n",
              "    [theme=dark] .colab-df-convert:hover {\n",
              "      background-color: #434B5C;\n",
              "      box-shadow: 0px 1px 3px 1px rgba(0, 0, 0, 0.15);\n",
              "      filter: drop-shadow(0px 1px 2px rgba(0, 0, 0, 0.3));\n",
              "      fill: #FFFFFF;\n",
              "    }\n",
              "  </style>\n",
              "\n",
              "      <script>\n",
              "        const buttonEl =\n",
              "          document.querySelector('#df-c3445e33-a8ac-493f-9ff8-c1f9284f664d button.colab-df-convert');\n",
              "        buttonEl.style.display =\n",
              "          google.colab.kernel.accessAllowed ? 'block' : 'none';\n",
              "\n",
              "        async function convertToInteractive(key) {\n",
              "          const element = document.querySelector('#df-c3445e33-a8ac-493f-9ff8-c1f9284f664d');\n",
              "          const dataTable =\n",
              "            await google.colab.kernel.invokeFunction('convertToInteractive',\n",
              "                                                     [key], {});\n",
              "          if (!dataTable) return;\n",
              "\n",
              "          const docLinkHtml = 'Like what you see? Visit the ' +\n",
              "            '<a target=\"_blank\" href=https://colab.research.google.com/notebooks/data_table.ipynb>data table notebook</a>'\n",
              "            + ' to learn more about interactive tables.';\n",
              "          element.innerHTML = '';\n",
              "          dataTable['output_type'] = 'display_data';\n",
              "          await google.colab.output.renderOutput(dataTable, element);\n",
              "          const docLink = document.createElement('div');\n",
              "          docLink.innerHTML = docLinkHtml;\n",
              "          element.appendChild(docLink);\n",
              "        }\n",
              "      </script>\n",
              "    </div>\n",
              "  </div>\n",
              "  "
            ]
          },
          "metadata": {},
          "execution_count": 13
        }
      ],
      "source": [
        "#3pts\n",
        "df4 = df[df[\"Track Name\"] == 'Crying Lightning']\n",
        "#filter the crying lightning\n",
        "df4.head()"
      ]
    },
    {
      "cell_type": "markdown",
      "id": "1a542ee3",
      "metadata": {
        "id": "1a542ee3"
      },
      "source": [
        "After we filtered Crying Lightning, let's learn more about some columns of the dataset. In this question, create a new dataframe called \"energetic_df\" by sorting the energy column of \"playlist_df\". Sorting must be descending. Then show the most energetic three songs in the playlist with their information."
      ]
    },
    {
      "cell_type": "code",
      "execution_count": null,
      "id": "3b461870",
      "metadata": {
        "id": "3b461870",
        "colab": {
          "base_uri": "https://localhost:8080/",
          "height": 399
        },
        "outputId": "50bca897-6ea0-4009-b728-3eba4a1f25a0"
      },
      "outputs": [
        {
          "output_type": "stream",
          "name": "stdout",
          "text": [
            "The most energetic three songs in the playlist is:\n"
          ]
        },
        {
          "output_type": "execute_result",
          "data": {
            "text/plain": [
              "     Track Name                   Album Name         Artist Name(s)  \\\n",
              "234   Sugar/Tzu                     Hellfire             black midi   \n",
              "188  Brianstorm    Favourite Worst Nightmare         Arctic Monkeys   \n",
              "326  By the Way  By the Way (Deluxe Edition)  Red Hot Chili Peppers   \n",
              "\n",
              "    Release Date  Duration (ms)  Popularity  \\\n",
              "234   2022-07-15         230687          48   \n",
              "188   2007-04-22         172866          68   \n",
              "326   2002-07-09         216933          72   \n",
              "\n",
              "                                                Genres  Danceability  Energy  \\\n",
              "234  crank wave,indie rock,noise rock,uk noise rock...         0.275   0.977   \n",
              "188  garage rock,modern rock,permanent wave,rock,sh...         0.420   0.974   \n",
              "326  alternative rock,funk metal,funk rock,permanen...         0.451   0.970   \n",
              "\n",
              "     Key  Loudness  Mode  Speechiness  Acousticness  Instrumentalness  \\\n",
              "234    0    -4.418     1        0.378      0.105000          0.000011   \n",
              "188    1    -4.706     1        0.191      0.000082          0.001550   \n",
              "326    0    -4.938     1        0.107      0.026400          0.003550   \n",
              "\n",
              "     Liveness  Valence    Tempo  Positivity  \n",
              "234    0.4720    0.101   87.678    0.451000  \n",
              "188    0.0871    0.463  165.182    0.619000  \n",
              "326    0.1020    0.198  122.444    0.539667  "
            ],
            "text/html": [
              "\n",
              "  <div id=\"df-c1e0e4ea-b972-4258-aa19-f03e6f5ce7ab\">\n",
              "    <div class=\"colab-df-container\">\n",
              "      <div>\n",
              "<style scoped>\n",
              "    .dataframe tbody tr th:only-of-type {\n",
              "        vertical-align: middle;\n",
              "    }\n",
              "\n",
              "    .dataframe tbody tr th {\n",
              "        vertical-align: top;\n",
              "    }\n",
              "\n",
              "    .dataframe thead th {\n",
              "        text-align: right;\n",
              "    }\n",
              "</style>\n",
              "<table border=\"1\" class=\"dataframe\">\n",
              "  <thead>\n",
              "    <tr style=\"text-align: right;\">\n",
              "      <th></th>\n",
              "      <th>Track Name</th>\n",
              "      <th>Album Name</th>\n",
              "      <th>Artist Name(s)</th>\n",
              "      <th>Release Date</th>\n",
              "      <th>Duration (ms)</th>\n",
              "      <th>Popularity</th>\n",
              "      <th>Genres</th>\n",
              "      <th>Danceability</th>\n",
              "      <th>Energy</th>\n",
              "      <th>Key</th>\n",
              "      <th>Loudness</th>\n",
              "      <th>Mode</th>\n",
              "      <th>Speechiness</th>\n",
              "      <th>Acousticness</th>\n",
              "      <th>Instrumentalness</th>\n",
              "      <th>Liveness</th>\n",
              "      <th>Valence</th>\n",
              "      <th>Tempo</th>\n",
              "      <th>Positivity</th>\n",
              "    </tr>\n",
              "  </thead>\n",
              "  <tbody>\n",
              "    <tr>\n",
              "      <th>234</th>\n",
              "      <td>Sugar/Tzu</td>\n",
              "      <td>Hellfire</td>\n",
              "      <td>black midi</td>\n",
              "      <td>2022-07-15</td>\n",
              "      <td>230687</td>\n",
              "      <td>48</td>\n",
              "      <td>crank wave,indie rock,noise rock,uk noise rock...</td>\n",
              "      <td>0.275</td>\n",
              "      <td>0.977</td>\n",
              "      <td>0</td>\n",
              "      <td>-4.418</td>\n",
              "      <td>1</td>\n",
              "      <td>0.378</td>\n",
              "      <td>0.105000</td>\n",
              "      <td>0.000011</td>\n",
              "      <td>0.4720</td>\n",
              "      <td>0.101</td>\n",
              "      <td>87.678</td>\n",
              "      <td>0.451000</td>\n",
              "    </tr>\n",
              "    <tr>\n",
              "      <th>188</th>\n",
              "      <td>Brianstorm</td>\n",
              "      <td>Favourite Worst Nightmare</td>\n",
              "      <td>Arctic Monkeys</td>\n",
              "      <td>2007-04-22</td>\n",
              "      <td>172866</td>\n",
              "      <td>68</td>\n",
              "      <td>garage rock,modern rock,permanent wave,rock,sh...</td>\n",
              "      <td>0.420</td>\n",
              "      <td>0.974</td>\n",
              "      <td>1</td>\n",
              "      <td>-4.706</td>\n",
              "      <td>1</td>\n",
              "      <td>0.191</td>\n",
              "      <td>0.000082</td>\n",
              "      <td>0.001550</td>\n",
              "      <td>0.0871</td>\n",
              "      <td>0.463</td>\n",
              "      <td>165.182</td>\n",
              "      <td>0.619000</td>\n",
              "    </tr>\n",
              "    <tr>\n",
              "      <th>326</th>\n",
              "      <td>By the Way</td>\n",
              "      <td>By the Way (Deluxe Edition)</td>\n",
              "      <td>Red Hot Chili Peppers</td>\n",
              "      <td>2002-07-09</td>\n",
              "      <td>216933</td>\n",
              "      <td>72</td>\n",
              "      <td>alternative rock,funk metal,funk rock,permanen...</td>\n",
              "      <td>0.451</td>\n",
              "      <td>0.970</td>\n",
              "      <td>0</td>\n",
              "      <td>-4.938</td>\n",
              "      <td>1</td>\n",
              "      <td>0.107</td>\n",
              "      <td>0.026400</td>\n",
              "      <td>0.003550</td>\n",
              "      <td>0.1020</td>\n",
              "      <td>0.198</td>\n",
              "      <td>122.444</td>\n",
              "      <td>0.539667</td>\n",
              "    </tr>\n",
              "  </tbody>\n",
              "</table>\n",
              "</div>\n",
              "      <button class=\"colab-df-convert\" onclick=\"convertToInteractive('df-c1e0e4ea-b972-4258-aa19-f03e6f5ce7ab')\"\n",
              "              title=\"Convert this dataframe to an interactive table.\"\n",
              "              style=\"display:none;\">\n",
              "        \n",
              "  <svg xmlns=\"http://www.w3.org/2000/svg\" height=\"24px\"viewBox=\"0 0 24 24\"\n",
              "       width=\"24px\">\n",
              "    <path d=\"M0 0h24v24H0V0z\" fill=\"none\"/>\n",
              "    <path d=\"M18.56 5.44l.94 2.06.94-2.06 2.06-.94-2.06-.94-.94-2.06-.94 2.06-2.06.94zm-11 1L8.5 8.5l.94-2.06 2.06-.94-2.06-.94L8.5 2.5l-.94 2.06-2.06.94zm10 10l.94 2.06.94-2.06 2.06-.94-2.06-.94-.94-2.06-.94 2.06-2.06.94z\"/><path d=\"M17.41 7.96l-1.37-1.37c-.4-.4-.92-.59-1.43-.59-.52 0-1.04.2-1.43.59L10.3 9.45l-7.72 7.72c-.78.78-.78 2.05 0 2.83L4 21.41c.39.39.9.59 1.41.59.51 0 1.02-.2 1.41-.59l7.78-7.78 2.81-2.81c.8-.78.8-2.07 0-2.86zM5.41 20L4 18.59l7.72-7.72 1.47 1.35L5.41 20z\"/>\n",
              "  </svg>\n",
              "      </button>\n",
              "      \n",
              "  <style>\n",
              "    .colab-df-container {\n",
              "      display:flex;\n",
              "      flex-wrap:wrap;\n",
              "      gap: 12px;\n",
              "    }\n",
              "\n",
              "    .colab-df-convert {\n",
              "      background-color: #E8F0FE;\n",
              "      border: none;\n",
              "      border-radius: 50%;\n",
              "      cursor: pointer;\n",
              "      display: none;\n",
              "      fill: #1967D2;\n",
              "      height: 32px;\n",
              "      padding: 0 0 0 0;\n",
              "      width: 32px;\n",
              "    }\n",
              "\n",
              "    .colab-df-convert:hover {\n",
              "      background-color: #E2EBFA;\n",
              "      box-shadow: 0px 1px 2px rgba(60, 64, 67, 0.3), 0px 1px 3px 1px rgba(60, 64, 67, 0.15);\n",
              "      fill: #174EA6;\n",
              "    }\n",
              "\n",
              "    [theme=dark] .colab-df-convert {\n",
              "      background-color: #3B4455;\n",
              "      fill: #D2E3FC;\n",
              "    }\n",
              "\n",
              "    [theme=dark] .colab-df-convert:hover {\n",
              "      background-color: #434B5C;\n",
              "      box-shadow: 0px 1px 3px 1px rgba(0, 0, 0, 0.15);\n",
              "      filter: drop-shadow(0px 1px 2px rgba(0, 0, 0, 0.3));\n",
              "      fill: #FFFFFF;\n",
              "    }\n",
              "  </style>\n",
              "\n",
              "      <script>\n",
              "        const buttonEl =\n",
              "          document.querySelector('#df-c1e0e4ea-b972-4258-aa19-f03e6f5ce7ab button.colab-df-convert');\n",
              "        buttonEl.style.display =\n",
              "          google.colab.kernel.accessAllowed ? 'block' : 'none';\n",
              "\n",
              "        async function convertToInteractive(key) {\n",
              "          const element = document.querySelector('#df-c1e0e4ea-b972-4258-aa19-f03e6f5ce7ab');\n",
              "          const dataTable =\n",
              "            await google.colab.kernel.invokeFunction('convertToInteractive',\n",
              "                                                     [key], {});\n",
              "          if (!dataTable) return;\n",
              "\n",
              "          const docLinkHtml = 'Like what you see? Visit the ' +\n",
              "            '<a target=\"_blank\" href=https://colab.research.google.com/notebooks/data_table.ipynb>data table notebook</a>'\n",
              "            + ' to learn more about interactive tables.';\n",
              "          element.innerHTML = '';\n",
              "          dataTable['output_type'] = 'display_data';\n",
              "          await google.colab.output.renderOutput(dataTable, element);\n",
              "          const docLink = document.createElement('div');\n",
              "          docLink.innerHTML = docLinkHtml;\n",
              "          element.appendChild(docLink);\n",
              "        }\n",
              "      </script>\n",
              "    </div>\n",
              "  </div>\n",
              "  "
            ]
          },
          "metadata": {},
          "execution_count": 14
        }
      ],
      "source": [
        "#6pts\n",
        "energetic_df = df3.sort_values(by=['Energy'], ascending=False)\n",
        "#create energetic df\n",
        "print(\"The most energetic three songs in the playlist is:\")\n",
        "energetic_df.head(3)\n",
        "#your code"
      ]
    },
    {
      "cell_type": "markdown",
      "id": "4616cf25",
      "metadata": {
        "id": "4616cf25"
      },
      "source": [
        "Let's apply the same method to an another column. In this question, create a new dataframe called \"positivity_df\" by sorting the positivity column of \"playlist_df\". Sorting must be descending. Then show the most positive three songs in the playlist with their information."
      ]
    },
    {
      "cell_type": "code",
      "execution_count": null,
      "id": "9fc8d2b9",
      "metadata": {
        "scrolled": false,
        "id": "9fc8d2b9",
        "colab": {
          "base_uri": "https://localhost:8080/",
          "height": 399
        },
        "outputId": "67ad1a40-326a-4aaf-eef4-5893b2a65e39"
      },
      "outputs": [
        {
          "output_type": "stream",
          "name": "stdout",
          "text": [
            "The most positive three songs in the playlist is:\n"
          ]
        },
        {
          "output_type": "execute_result",
          "data": {
            "text/plain": [
              "                                   Track Name  \\\n",
              "559                                  chase me   \n",
              "255                                 Ocean Man   \n",
              "536  Got My Mind Set On You - Remastered 2004   \n",
              "\n",
              "                                            Album Name   Artist Name(s)  \\\n",
              "559                                           PAINLESS    Nilüfer Yanya   \n",
              "255  The SpongeBob SquarePants Movie-Music From The...             Ween   \n",
              "536                                         Cloud Nine  George Harrison   \n",
              "\n",
              "    Release Date  Duration (ms)  Popularity  \\\n",
              "559   2022-03-04         210373          31   \n",
              "255   2004-11-09         126946          38   \n",
              "536   1987-11-02         234653          63   \n",
              "\n",
              "                                                Genres  Danceability  Energy  \\\n",
              "559              art pop,indie rock,uk alternative pop         0.867   0.832   \n",
              "255                                   alternative rock         0.720   0.912   \n",
              "536  album rock,beatlesque,classic rock,folk rock,m...         0.767   0.854   \n",
              "\n",
              "     Key  Loudness  Mode  Speechiness  Acousticness  Instrumentalness  \\\n",
              "559   11    -8.383     0       0.0453         0.113          0.000000   \n",
              "255    4    -6.130     1       0.0363         0.551          0.001220   \n",
              "536    4    -6.947     1       0.0426         0.465          0.000002   \n",
              "\n",
              "     Liveness  Valence    Tempo  Positivity  \n",
              "559    0.0745    0.979  119.993    0.892667  \n",
              "255    0.0982    0.973  122.782    0.868333  \n",
              "536    0.4850    0.963  149.206    0.861333  "
            ],
            "text/html": [
              "\n",
              "  <div id=\"df-1fa60a97-e429-46af-877e-42e65fca44fc\">\n",
              "    <div class=\"colab-df-container\">\n",
              "      <div>\n",
              "<style scoped>\n",
              "    .dataframe tbody tr th:only-of-type {\n",
              "        vertical-align: middle;\n",
              "    }\n",
              "\n",
              "    .dataframe tbody tr th {\n",
              "        vertical-align: top;\n",
              "    }\n",
              "\n",
              "    .dataframe thead th {\n",
              "        text-align: right;\n",
              "    }\n",
              "</style>\n",
              "<table border=\"1\" class=\"dataframe\">\n",
              "  <thead>\n",
              "    <tr style=\"text-align: right;\">\n",
              "      <th></th>\n",
              "      <th>Track Name</th>\n",
              "      <th>Album Name</th>\n",
              "      <th>Artist Name(s)</th>\n",
              "      <th>Release Date</th>\n",
              "      <th>Duration (ms)</th>\n",
              "      <th>Popularity</th>\n",
              "      <th>Genres</th>\n",
              "      <th>Danceability</th>\n",
              "      <th>Energy</th>\n",
              "      <th>Key</th>\n",
              "      <th>Loudness</th>\n",
              "      <th>Mode</th>\n",
              "      <th>Speechiness</th>\n",
              "      <th>Acousticness</th>\n",
              "      <th>Instrumentalness</th>\n",
              "      <th>Liveness</th>\n",
              "      <th>Valence</th>\n",
              "      <th>Tempo</th>\n",
              "      <th>Positivity</th>\n",
              "    </tr>\n",
              "  </thead>\n",
              "  <tbody>\n",
              "    <tr>\n",
              "      <th>559</th>\n",
              "      <td>chase me</td>\n",
              "      <td>PAINLESS</td>\n",
              "      <td>Nilüfer Yanya</td>\n",
              "      <td>2022-03-04</td>\n",
              "      <td>210373</td>\n",
              "      <td>31</td>\n",
              "      <td>art pop,indie rock,uk alternative pop</td>\n",
              "      <td>0.867</td>\n",
              "      <td>0.832</td>\n",
              "      <td>11</td>\n",
              "      <td>-8.383</td>\n",
              "      <td>0</td>\n",
              "      <td>0.0453</td>\n",
              "      <td>0.113</td>\n",
              "      <td>0.000000</td>\n",
              "      <td>0.0745</td>\n",
              "      <td>0.979</td>\n",
              "      <td>119.993</td>\n",
              "      <td>0.892667</td>\n",
              "    </tr>\n",
              "    <tr>\n",
              "      <th>255</th>\n",
              "      <td>Ocean Man</td>\n",
              "      <td>The SpongeBob SquarePants Movie-Music From The...</td>\n",
              "      <td>Ween</td>\n",
              "      <td>2004-11-09</td>\n",
              "      <td>126946</td>\n",
              "      <td>38</td>\n",
              "      <td>alternative rock</td>\n",
              "      <td>0.720</td>\n",
              "      <td>0.912</td>\n",
              "      <td>4</td>\n",
              "      <td>-6.130</td>\n",
              "      <td>1</td>\n",
              "      <td>0.0363</td>\n",
              "      <td>0.551</td>\n",
              "      <td>0.001220</td>\n",
              "      <td>0.0982</td>\n",
              "      <td>0.973</td>\n",
              "      <td>122.782</td>\n",
              "      <td>0.868333</td>\n",
              "    </tr>\n",
              "    <tr>\n",
              "      <th>536</th>\n",
              "      <td>Got My Mind Set On You - Remastered 2004</td>\n",
              "      <td>Cloud Nine</td>\n",
              "      <td>George Harrison</td>\n",
              "      <td>1987-11-02</td>\n",
              "      <td>234653</td>\n",
              "      <td>63</td>\n",
              "      <td>album rock,beatlesque,classic rock,folk rock,m...</td>\n",
              "      <td>0.767</td>\n",
              "      <td>0.854</td>\n",
              "      <td>4</td>\n",
              "      <td>-6.947</td>\n",
              "      <td>1</td>\n",
              "      <td>0.0426</td>\n",
              "      <td>0.465</td>\n",
              "      <td>0.000002</td>\n",
              "      <td>0.4850</td>\n",
              "      <td>0.963</td>\n",
              "      <td>149.206</td>\n",
              "      <td>0.861333</td>\n",
              "    </tr>\n",
              "  </tbody>\n",
              "</table>\n",
              "</div>\n",
              "      <button class=\"colab-df-convert\" onclick=\"convertToInteractive('df-1fa60a97-e429-46af-877e-42e65fca44fc')\"\n",
              "              title=\"Convert this dataframe to an interactive table.\"\n",
              "              style=\"display:none;\">\n",
              "        \n",
              "  <svg xmlns=\"http://www.w3.org/2000/svg\" height=\"24px\"viewBox=\"0 0 24 24\"\n",
              "       width=\"24px\">\n",
              "    <path d=\"M0 0h24v24H0V0z\" fill=\"none\"/>\n",
              "    <path d=\"M18.56 5.44l.94 2.06.94-2.06 2.06-.94-2.06-.94-.94-2.06-.94 2.06-2.06.94zm-11 1L8.5 8.5l.94-2.06 2.06-.94-2.06-.94L8.5 2.5l-.94 2.06-2.06.94zm10 10l.94 2.06.94-2.06 2.06-.94-2.06-.94-.94-2.06-.94 2.06-2.06.94z\"/><path d=\"M17.41 7.96l-1.37-1.37c-.4-.4-.92-.59-1.43-.59-.52 0-1.04.2-1.43.59L10.3 9.45l-7.72 7.72c-.78.78-.78 2.05 0 2.83L4 21.41c.39.39.9.59 1.41.59.51 0 1.02-.2 1.41-.59l7.78-7.78 2.81-2.81c.8-.78.8-2.07 0-2.86zM5.41 20L4 18.59l7.72-7.72 1.47 1.35L5.41 20z\"/>\n",
              "  </svg>\n",
              "      </button>\n",
              "      \n",
              "  <style>\n",
              "    .colab-df-container {\n",
              "      display:flex;\n",
              "      flex-wrap:wrap;\n",
              "      gap: 12px;\n",
              "    }\n",
              "\n",
              "    .colab-df-convert {\n",
              "      background-color: #E8F0FE;\n",
              "      border: none;\n",
              "      border-radius: 50%;\n",
              "      cursor: pointer;\n",
              "      display: none;\n",
              "      fill: #1967D2;\n",
              "      height: 32px;\n",
              "      padding: 0 0 0 0;\n",
              "      width: 32px;\n",
              "    }\n",
              "\n",
              "    .colab-df-convert:hover {\n",
              "      background-color: #E2EBFA;\n",
              "      box-shadow: 0px 1px 2px rgba(60, 64, 67, 0.3), 0px 1px 3px 1px rgba(60, 64, 67, 0.15);\n",
              "      fill: #174EA6;\n",
              "    }\n",
              "\n",
              "    [theme=dark] .colab-df-convert {\n",
              "      background-color: #3B4455;\n",
              "      fill: #D2E3FC;\n",
              "    }\n",
              "\n",
              "    [theme=dark] .colab-df-convert:hover {\n",
              "      background-color: #434B5C;\n",
              "      box-shadow: 0px 1px 3px 1px rgba(0, 0, 0, 0.15);\n",
              "      filter: drop-shadow(0px 1px 2px rgba(0, 0, 0, 0.3));\n",
              "      fill: #FFFFFF;\n",
              "    }\n",
              "  </style>\n",
              "\n",
              "      <script>\n",
              "        const buttonEl =\n",
              "          document.querySelector('#df-1fa60a97-e429-46af-877e-42e65fca44fc button.colab-df-convert');\n",
              "        buttonEl.style.display =\n",
              "          google.colab.kernel.accessAllowed ? 'block' : 'none';\n",
              "\n",
              "        async function convertToInteractive(key) {\n",
              "          const element = document.querySelector('#df-1fa60a97-e429-46af-877e-42e65fca44fc');\n",
              "          const dataTable =\n",
              "            await google.colab.kernel.invokeFunction('convertToInteractive',\n",
              "                                                     [key], {});\n",
              "          if (!dataTable) return;\n",
              "\n",
              "          const docLinkHtml = 'Like what you see? Visit the ' +\n",
              "            '<a target=\"_blank\" href=https://colab.research.google.com/notebooks/data_table.ipynb>data table notebook</a>'\n",
              "            + ' to learn more about interactive tables.';\n",
              "          element.innerHTML = '';\n",
              "          dataTable['output_type'] = 'display_data';\n",
              "          await google.colab.output.renderOutput(dataTable, element);\n",
              "          const docLink = document.createElement('div');\n",
              "          docLink.innerHTML = docLinkHtml;\n",
              "          element.appendChild(docLink);\n",
              "        }\n",
              "      </script>\n",
              "    </div>\n",
              "  </div>\n",
              "  "
            ]
          },
          "metadata": {},
          "execution_count": 15
        }
      ],
      "source": [
        "#6pts\n",
        "positivity_df = df3.sort_values(by=['Positivity'], ascending=False)\n",
        "#create positivity df\n",
        "print(\"The most positive three songs in the playlist is:\")\n",
        "positivity_df.head(3)\n",
        "#your code"
      ]
    },
    {
      "cell_type": "markdown",
      "id": "76803b5a",
      "metadata": {
        "id": "76803b5a"
      },
      "source": [
        "## Q3: Visualization and Analysis (45 points)"
      ]
    },
    {
      "cell_type": "markdown",
      "id": "a443861f",
      "metadata": {
        "id": "a443861f"
      },
      "source": [
        "We learned many things about our dataset. Now let's create some visualizations using tools like Matplotlib, Seaborn etc. To warm up let's start with some univariate analysis.\n",
        "\n",
        "For the first question:\n",
        "\n",
        "- Create a histogram for Danceability, with bin size 15.\n",
        "- Set title as 'Danceability'\n",
        "- Set label for y as 'Frequencies'\n",
        "- Set label for x as 'Danceability'\n",
        "- Set boundaries for y axis as 0 to 100.\n",
        "- Set boundaries for x axis as 0 to 1.\n",
        "- After visualization, show the statistical properties of Danceability with describe."
      ]
    },
    {
      "cell_type": "code",
      "execution_count": null,
      "id": "105d881d",
      "metadata": {
        "id": "105d881d",
        "colab": {
          "base_uri": "https://localhost:8080/",
          "height": 513
        },
        "outputId": "4e4459a5-f99d-48d3-cd3f-7d42f94668a5"
      },
      "outputs": [
        {
          "output_type": "display_data",
          "data": {
            "text/plain": [
              "<Figure size 720x576 with 1 Axes>"
            ],
            "image/png": "[encoded data removed]"
          },
          "metadata": {
            "needs_background": "light"
          }
        }
      ],
      "source": [
        "# create a histogram with the information above (3pts)\n",
        "histogram = df3[\"Danceability\"].plot.hist(bins=15,figsize=(10,8), alpha=1, edgecolor='red', linewidth=1)\n",
        "histogram.set_title(\"Danceability\")\n",
        "histogram.set_xlabel(\"Danceability\")\n",
        "histogram.set_ylabel(\"Frequencies\")\n",
        "plt.xlim([0, 1])\n",
        "plt.ylim([0, 100])\n",
        "plt.show()\n"
      ]
    },
    {
      "cell_type": "code",
      "execution_count": null,
      "id": "8cabae26",
      "metadata": {
        "id": "8cabae26",
        "colab": {
          "base_uri": "https://localhost:8080/"
        },
        "outputId": "c778c22f-96ab-4435-e17d-a2e1f8fe1bb9"
      },
      "outputs": [
        {
          "output_type": "execute_result",
          "data": {
            "text/plain": [
              "count    594.000000\n",
              "mean       0.532816\n",
              "std        0.147752\n",
              "min        0.112000\n",
              "25%        0.429000\n",
              "50%        0.535500\n",
              "75%        0.644000\n",
              "max        0.888000\n",
              "Name: Danceability, dtype: float64"
            ]
          },
          "metadata": {},
          "execution_count": 17
        }
      ],
      "source": [
        "#show the statistical properties (2pts)\n",
        "df3[\"Danceability\"].describe()"
      ]
    },
    {
      "cell_type": "markdown",
      "id": "563c17f8",
      "metadata": {
        "id": "563c17f8"
      },
      "source": [
        "If we analyze the results, we see that the distribution of the 'Danceability' of the tracks in our data set is close to normal distribution. The mean is 0.532816 with a standard deviation 0.147752. The danceability level vary from 0.112000 to 0.888000 (both inclusive). The median is 0.535500.\n",
        "\n",
        "For the second question:\n",
        "\n",
        "- Create a histogram for Valence, with bin size 15.\n",
        "- Set title as 'Valence Level'\n",
        "- Set label for y as 'Frequencies'\n",
        "- Set label for x as 'Valence'\n",
        "- Set boundaries for y axis as 0 to 100.\n",
        "- Set boundaries for x axis as 0 to 1.\n",
        "- After visualization, show the statistical properties of Valence with describe.\n"
      ]
    },
    {
      "cell_type": "code",
      "execution_count": null,
      "id": "834c778c",
      "metadata": {
        "id": "834c778c",
        "colab": {
          "base_uri": "https://localhost:8080/",
          "height": 513
        },
        "outputId": "0e653d50-4094-4e45-a63a-489ca06162fe"
      },
      "outputs": [
        {
          "output_type": "display_data",
          "data": {
            "text/plain": [
              "<Figure size 720x576 with 1 Axes>"
            ],
            "image/png": "[encoded data removed]"
          },
          "metadata": {
            "needs_background": "light"
          }
        }
      ],
      "source": [
        "# create a histogram with the information above (3pts)\n",
        "histogram2 = df3[\"Valence\"].plot.hist(bins=15,figsize=(10,8), alpha=1, edgecolor='black', linewidth=1, color = 'red')\n",
        "histogram2.set_title(\"Valence Level\")\n",
        "histogram2.set_xlabel(\"Valence\")\n",
        "histogram2.set_ylabel(\"Frequencies\")\n",
        "plt.xlim([0, 1])\n",
        "plt.ylim([0, 100])\n",
        "plt.show()"
      ]
    },
    {
      "cell_type": "code",
      "execution_count": null,
      "id": "b245626e",
      "metadata": {
        "id": "b245626e",
        "colab": {
          "base_uri": "https://localhost:8080/"
        },
        "outputId": "a85179a2-1b2b-4f9b-b102-8662c8295939"
      },
      "outputs": [
        {
          "output_type": "execute_result",
          "data": {
            "text/plain": [
              "count    594.000000\n",
              "mean       0.439241\n",
              "std        0.228532\n",
              "min        0.039400\n",
              "25%        0.253500\n",
              "50%        0.416000\n",
              "75%        0.594000\n",
              "max        0.979000\n",
              "Name: Valence, dtype: float64"
            ]
          },
          "metadata": {},
          "execution_count": 19
        }
      ],
      "source": [
        "#show the statistical properties (2pts)\n",
        "df3[\"Valence\"].describe()"
      ]
    },
    {
      "cell_type": "markdown",
      "id": "bc0226e2",
      "metadata": {
        "id": "bc0226e2"
      },
      "source": [
        "If we analyze the results, we see that the distribution of the 'Valence' of the tracks in our data set is right-skewed. The mean is 0.439241 with a standard deviation 0.0.228532. The valence level vary from 0.039400 to 0.979000 (both inclusive). The median is 0.416000.\n",
        "\n",
        "Now let's do some bi-variate analysis. If we want to plot the relationship between Energy and Loudness, which plot would be the appropriate choice?\n",
        "\n",
        "*Question*: Which plot would be the appropriate choice?\n",
        "\n",
        "*Answer* : ***Scatter point graph because when comparing two datas, we would like to observe the relationship between two values and scatter point graph can show us the correlation between them, if there any***.  **(3pts)**\n",
        "\n",
        "Then;\n",
        "\n",
        "- Create the plot you chose for Energy and Loudness.\n",
        "- Set title as 'Loudness vs. Energy'\n",
        "- Set label for y as 'Loudness (dB)'\n",
        "- Set label for x as 'Energy'\n",
        "- Set boundaries for y axis as -25 to 0.\n",
        "- Set boundaries for x axis as 0 to 1.\n",
        "\n"
      ]
    },
    {
      "cell_type": "code",
      "execution_count": null,
      "id": "14615a0d",
      "metadata": {
        "id": "14615a0d",
        "colab": {
          "base_uri": "https://localhost:8080/",
          "height": 570
        },
        "outputId": "b5d16237-cb32-4757-b3ff-ba36800861bf"
      },
      "outputs": [
        {
          "output_type": "stream",
          "name": "stderr",
          "text": [
            "/usr/local/lib/python3.9/dist-packages/pandas/plotting/_matplotlib/core.py:1114: UserWarning: No data for colormapping provided via 'c'. Parameters 'cmap' will be ignored\n",
            "  scatter = ax.scatter(\n"
          ]
        },
        {
          "output_type": "display_data",
          "data": {
            "text/plain": [
              "<Figure size 720x576 with 1 Axes>"
            ],
            "image/png": "[encoded data removed]"
          },
          "metadata": {
            "needs_background": "light"
          }
        }
      ],
      "source": [
        " # create the plot (7pts)\n",
        " #plt.scatter(df3[\"Loudness\"], df3[\"Energy\"])\n",
        "df3.plot.scatter(x='Energy', y='Loudness', figsize=(10,8))\n",
        "plt.title(\"Loudness vs. Energy\")\n",
        "plt.xlabel(\"Energy\")\n",
        "plt.ylabel(\"Loudness (dB)\")\n",
        "plt.xlim([0, 1])\n",
        "plt.ylim([-25, 0])\n",
        "plt.show()"
      ]
    },
    {
      "cell_type": "markdown",
      "id": "513f333b",
      "metadata": {
        "id": "513f333b"
      },
      "source": [
        "#### Question : Interpretation of the graph above (5pts)\n",
        "\n",
        "What can we understand from the graph above? Shortly write your comments about the graph. You can edit this cell.\n",
        "\n",
        "***Altough there are some rare exceptions, we can see that that there is a positive relationship between energy and loudness because if one increases the other one (usually) also increases. So we may conclude that if a song is louder, it is tend to be more energetic.***"
      ]
    },
    {
      "cell_type": "markdown",
      "id": "d78afda9",
      "metadata": {
        "id": "d78afda9"
      },
      "source": [
        "Let's create more sophisticated plot. In this question you will also make some operations on the dataset again.\n",
        "\n",
        "**Objectives**\n",
        "\n",
        "- Create a new column called `Emotion` that contains positivity information in groups as string.\n",
        "- The emotions will be: Sad (if positivity value is smaller or equal than 0.45), Neutral (if positivity value is between 0.45 and 0.57 (inclusive)), and Happy (if positivity value is bigger than 0.57)\n",
        "- Then create the new dataframe called 'new_artist_df'.\n",
        "- Filter the songs of 'Phoebe Bridgers', 'The Strokes', 'alt-J' and 'girl in red'.\n",
        "- Sort 'new_artist_df' by positivity in ascending order.\n",
        "- Show the first 5 rows.\n",
        "\n",
        "\n"
      ]
    },
    {
      "cell_type": "code",
      "execution_count": null,
      "id": "daa97eaa",
      "metadata": {
        "id": "daa97eaa",
        "colab": {
          "base_uri": "https://localhost:8080/",
          "height": 572
        },
        "outputId": "c46e7f0f-1d51-487c-e30e-8edc46b63d8c"
      },
      "outputs": [
        {
          "output_type": "stream",
          "name": "stderr",
          "text": [
            "<ipython-input-21-bedc67113f5c>:7: SettingWithCopyWarning: \n",
            "A value is trying to be set on a copy of a slice from a DataFrame.\n",
            "Try using .loc[row_indexer,col_indexer] = value instead\n",
            "\n",
            "See the caveats in the documentation: https://pandas.pydata.org/pandas-docs/stable/user_guide/indexing.html#returning-a-view-versus-a-copy\n",
            "  df3['Emotion'] = np.select(conditions,values)\n"
          ]
        },
        {
          "output_type": "execute_result",
          "data": {
            "text/plain": [
              "         Track Name            Album Name   Artist Name(s) Release Date  \\\n",
              "193   Smoke Signals  Stranger in the Alps  Phoebe Bridgers   2017-09-22   \n",
              "267         Funeral  Stranger in the Alps  Phoebe Bridgers   2017-09-22   \n",
              "349       Moon Song              Punisher  Phoebe Bridgers   2020-06-18   \n",
              "329        Punisher              Punisher  Phoebe Bridgers   2020-06-18   \n",
              "295  I Know The End              Punisher  Phoebe Bridgers   2020-06-18   \n",
              "\n",
              "     Duration (ms)  Popularity              Genres  Danceability  Energy  Key  \\\n",
              "193         324773          61  indie pop,la indie         0.265   0.237   10   \n",
              "267         232373          65  indie pop,la indie         0.218   0.263   11   \n",
              "349         277676           0  indie pop,la indie         0.380   0.240    1   \n",
              "329         189622           0  indie pop,la indie         0.428   0.226    1   \n",
              "295         344692          70  indie pop,la indie         0.323   0.323    1   \n",
              "\n",
              "     Loudness  Mode  Speechiness  Acousticness  Instrumentalness  Liveness  \\\n",
              "193   -14.599     1       0.0351         0.945          0.000267    0.1120   \n",
              "267   -14.416     1       0.0376         0.947          0.000280    0.0919   \n",
              "349   -12.544     1       0.0514         0.871          0.002870    0.1070   \n",
              "329   -12.820     1       0.0409         0.986          0.000402    0.1080   \n",
              "295   -10.268     1       0.0351         0.330          0.022900    0.2330   \n",
              "\n",
              "     Valence    Tempo  Positivity Emotion  \n",
              "193    0.190   87.912    0.230667     Sad  \n",
              "267    0.307  170.724    0.262667     Sad  \n",
              "349    0.172  103.818    0.264000     Sad  \n",
              "329    0.212  129.163    0.288667     Sad  \n",
              "295    0.256  111.826    0.300667     Sad  "
            ],
            "text/html": [
              "\n",
              "  <div id=\"df-f2eb823f-2c5f-4951-b2ae-3c51524e32f3\">\n",
              "    <div class=\"colab-df-container\">\n",
              "      <div>\n",
              "<style scoped>\n",
              "    .dataframe tbody tr th:only-of-type {\n",
              "        vertical-align: middle;\n",
              "    }\n",
              "\n",
              "    .dataframe tbody tr th {\n",
              "        vertical-align: top;\n",
              "    }\n",
              "\n",
              "    .dataframe thead th {\n",
              "        text-align: right;\n",
              "    }\n",
              "</style>\n",
              "<table border=\"1\" class=\"dataframe\">\n",
              "  <thead>\n",
              "    <tr style=\"text-align: right;\">\n",
              "      <th></th>\n",
              "      <th>Track Name</th>\n",
              "      <th>Album Name</th>\n",
              "      <th>Artist Name(s)</th>\n",
              "      <th>Release Date</th>\n",
              "      <th>Duration (ms)</th>\n",
              "      <th>Popularity</th>\n",
              "      <th>Genres</th>\n",
              "      <th>Danceability</th>\n",
              "      <th>Energy</th>\n",
              "      <th>Key</th>\n",
              "      <th>Loudness</th>\n",
              "      <th>Mode</th>\n",
              "      <th>Speechiness</th>\n",
              "      <th>Acousticness</th>\n",
              "      <th>Instrumentalness</th>\n",
              "      <th>Liveness</th>\n",
              "      <th>Valence</th>\n",
              "      <th>Tempo</th>\n",
              "      <th>Positivity</th>\n",
              "      <th>Emotion</th>\n",
              "    </tr>\n",
              "  </thead>\n",
              "  <tbody>\n",
              "    <tr>\n",
              "      <th>193</th>\n",
              "      <td>Smoke Signals</td>\n",
              "      <td>Stranger in the Alps</td>\n",
              "      <td>Phoebe Bridgers</td>\n",
              "      <td>2017-09-22</td>\n",
              "      <td>324773</td>\n",
              "      <td>61</td>\n",
              "      <td>indie pop,la indie</td>\n",
              "      <td>0.265</td>\n",
              "      <td>0.237</td>\n",
              "      <td>10</td>\n",
              "      <td>-14.599</td>\n",
              "      <td>1</td>\n",
              "      <td>0.0351</td>\n",
              "      <td>0.945</td>\n",
              "      <td>0.000267</td>\n",
              "      <td>0.1120</td>\n",
              "      <td>0.190</td>\n",
              "      <td>87.912</td>\n",
              "      <td>0.230667</td>\n",
              "      <td>Sad</td>\n",
              "    </tr>\n",
              "    <tr>\n",
              "      <th>267</th>\n",
              "      <td>Funeral</td>\n",
              "      <td>Stranger in the Alps</td>\n",
              "      <td>Phoebe Bridgers</td>\n",
              "      <td>2017-09-22</td>\n",
              "      <td>232373</td>\n",
              "      <td>65</td>\n",
              "      <td>indie pop,la indie</td>\n",
              "      <td>0.218</td>\n",
              "      <td>0.263</td>\n",
              "      <td>11</td>\n",
              "      <td>-14.416</td>\n",
              "      <td>1</td>\n",
              "      <td>0.0376</td>\n",
              "      <td>0.947</td>\n",
              "      <td>0.000280</td>\n",
              "      <td>0.0919</td>\n",
              "      <td>0.307</td>\n",
              "      <td>170.724</td>\n",
              "      <td>0.262667</td>\n",
              "      <td>Sad</td>\n",
              "    </tr>\n",
              "    <tr>\n",
              "      <th>349</th>\n",
              "      <td>Moon Song</td>\n",
              "      <td>Punisher</td>\n",
              "      <td>Phoebe Bridgers</td>\n",
              "      <td>2020-06-18</td>\n",
              "      <td>277676</td>\n",
              "      <td>0</td>\n",
              "      <td>indie pop,la indie</td>\n",
              "      <td>0.380</td>\n",
              "      <td>0.240</td>\n",
              "      <td>1</td>\n",
              "      <td>-12.544</td>\n",
              "      <td>1</td>\n",
              "      <td>0.0514</td>\n",
              "      <td>0.871</td>\n",
              "      <td>0.002870</td>\n",
              "      <td>0.1070</td>\n",
              "      <td>0.172</td>\n",
              "      <td>103.818</td>\n",
              "      <td>0.264000</td>\n",
              "      <td>Sad</td>\n",
              "    </tr>\n",
              "    <tr>\n",
              "      <th>329</th>\n",
              "      <td>Punisher</td>\n",
              "      <td>Punisher</td>\n",
              "      <td>Phoebe Bridgers</td>\n",
              "      <td>2020-06-18</td>\n",
              "      <td>189622</td>\n",
              "      <td>0</td>\n",
              "      <td>indie pop,la indie</td>\n",
              "      <td>0.428</td>\n",
              "      <td>0.226</td>\n",
              "      <td>1</td>\n",
              "      <td>-12.820</td>\n",
              "      <td>1</td>\n",
              "      <td>0.0409</td>\n",
              "      <td>0.986</td>\n",
              "      <td>0.000402</td>\n",
              "      <td>0.1080</td>\n",
              "      <td>0.212</td>\n",
              "      <td>129.163</td>\n",
              "      <td>0.288667</td>\n",
              "      <td>Sad</td>\n",
              "    </tr>\n",
              "    <tr>\n",
              "      <th>295</th>\n",
              "      <td>I Know The End</td>\n",
              "      <td>Punisher</td>\n",
              "      <td>Phoebe Bridgers</td>\n",
              "      <td>2020-06-18</td>\n",
              "      <td>344692</td>\n",
              "      <td>70</td>\n",
              "      <td>indie pop,la indie</td>\n",
              "      <td>0.323</td>\n",
              "      <td>0.323</td>\n",
              "      <td>1</td>\n",
              "      <td>-10.268</td>\n",
              "      <td>1</td>\n",
              "      <td>0.0351</td>\n",
              "      <td>0.330</td>\n",
              "      <td>0.022900</td>\n",
              "      <td>0.2330</td>\n",
              "      <td>0.256</td>\n",
              "      <td>111.826</td>\n",
              "      <td>0.300667</td>\n",
              "      <td>Sad</td>\n",
              "    </tr>\n",
              "  </tbody>\n",
              "</table>\n",
              "</div>\n",
              "      <button class=\"colab-df-convert\" onclick=\"convertToInteractive('df-f2eb823f-2c5f-4951-b2ae-3c51524e32f3')\"\n",
              "              title=\"Convert this dataframe to an interactive table.\"\n",
              "              style=\"display:none;\">\n",
              "        \n",
              "  <svg xmlns=\"http://www.w3.org/2000/svg\" height=\"24px\"viewBox=\"0 0 24 24\"\n",
              "       width=\"24px\">\n",
              "    <path d=\"M0 0h24v24H0V0z\" fill=\"none\"/>\n",
              "    <path d=\"M18.56 5.44l.94 2.06.94-2.06 2.06-.94-2.06-.94-.94-2.06-.94 2.06-2.06.94zm-11 1L8.5 8.5l.94-2.06 2.06-.94-2.06-.94L8.5 2.5l-.94 2.06-2.06.94zm10 10l.94 2.06.94-2.06 2.06-.94-2.06-.94-.94-2.06-.94 2.06-2.06.94z\"/><path d=\"M17.41 7.96l-1.37-1.37c-.4-.4-.92-.59-1.43-.59-.52 0-1.04.2-1.43.59L10.3 9.45l-7.72 7.72c-.78.78-.78 2.05 0 2.83L4 21.41c.39.39.9.59 1.41.59.51 0 1.02-.2 1.41-.59l7.78-7.78 2.81-2.81c.8-.78.8-2.07 0-2.86zM5.41 20L4 18.59l7.72-7.72 1.47 1.35L5.41 20z\"/>\n",
              "  </svg>\n",
              "      </button>\n",
              "      \n",
              "  <style>\n",
              "    .colab-df-container {\n",
              "      display:flex;\n",
              "      flex-wrap:wrap;\n",
              "      gap: 12px;\n",
              "    }\n",
              "\n",
              "    .colab-df-convert {\n",
              "      background-color: #E8F0FE;\n",
              "      border: none;\n",
              "      border-radius: 50%;\n",
              "      cursor: pointer;\n",
              "      display: none;\n",
              "      fill: #1967D2;\n",
              "      height: 32px;\n",
              "      padding: 0 0 0 0;\n",
              "      width: 32px;\n",
              "    }\n",
              "\n",
              "    .colab-df-convert:hover {\n",
              "      background-color: #E2EBFA;\n",
              "      box-shadow: 0px 1px 2px rgba(60, 64, 67, 0.3), 0px 1px 3px 1px rgba(60, 64, 67, 0.15);\n",
              "      fill: #174EA6;\n",
              "    }\n",
              "\n",
              "    [theme=dark] .colab-df-convert {\n",
              "      background-color: #3B4455;\n",
              "      fill: #D2E3FC;\n",
              "    }\n",
              "\n",
              "    [theme=dark] .colab-df-convert:hover {\n",
              "      background-color: #434B5C;\n",
              "      box-shadow: 0px 1px 3px 1px rgba(0, 0, 0, 0.15);\n",
              "      filter: drop-shadow(0px 1px 2px rgba(0, 0, 0, 0.3));\n",
              "      fill: #FFFFFF;\n",
              "    }\n",
              "  </style>\n",
              "\n",
              "      <script>\n",
              "        const buttonEl =\n",
              "          document.querySelector('#df-f2eb823f-2c5f-4951-b2ae-3c51524e32f3 button.colab-df-convert');\n",
              "        buttonEl.style.display =\n",
              "          google.colab.kernel.accessAllowed ? 'block' : 'none';\n",
              "\n",
              "        async function convertToInteractive(key) {\n",
              "          const element = document.querySelector('#df-f2eb823f-2c5f-4951-b2ae-3c51524e32f3');\n",
              "          const dataTable =\n",
              "            await google.colab.kernel.invokeFunction('convertToInteractive',\n",
              "                                                     [key], {});\n",
              "          if (!dataTable) return;\n",
              "\n",
              "          const docLinkHtml = 'Like what you see? Visit the ' +\n",
              "            '<a target=\"_blank\" href=https://colab.research.google.com/notebooks/data_table.ipynb>data table notebook</a>'\n",
              "            + ' to learn more about interactive tables.';\n",
              "          element.innerHTML = '';\n",
              "          dataTable['output_type'] = 'display_data';\n",
              "          await google.colab.output.renderOutput(dataTable, element);\n",
              "          const docLink = document.createElement('div');\n",
              "          docLink.innerHTML = docLinkHtml;\n",
              "          element.appendChild(docLink);\n",
              "        }\n",
              "      </script>\n",
              "    </div>\n",
              "  </div>\n",
              "  "
            ]
          },
          "metadata": {},
          "execution_count": 21
        }
      ],
      "source": [
        "#10pts - tasks above\n",
        "\n",
        "conditions = [(df3['Positivity'] <= 0.45),\n",
        "              (0.45 < df3['Positivity']) & (df3['Positivity'] <= 0.57),\n",
        "              (0.57 < df3['Positivity'])]\n",
        "values = ['Sad','Neutral','Happy']\n",
        "df3['Emotion'] = np.select(conditions,values)\n",
        "\n",
        "#conditions2 = [((df3['Track Name'] == \"Phoebe Bridgers\"),\n",
        " #             (df3[\"Track Name\"] == \"The Strokes\"), (df3[\"Track Name\"] == \"alt-J\"),\n",
        "  #            (df3[\"Track Name\"] == \"girl in red\"))]\n",
        "\n",
        "#df.loc[(df3[\"Track Name\"] == \"Phoebe Bridgers\"), (df3[\"Track Name\"] == \"The Strokes\"), (df3[\"Track Name\"] == \"alt-J\"), (df3[\"Track Name\"] == \"girl in red\")]\n",
        "#np.where((df['Track Name']== \"Phoebe Bridgers\"))\n",
        "\n",
        "#new_artist_df = df3[df3[\"Artist Name(s)\"] == 'Phoebe Bridgers']\n",
        "\n",
        "\n",
        "#df4 = df[df[\"Track Name\"] == 'Crying Lightning']\n",
        "\n",
        "\n",
        "\n",
        "#filterList = [\"Phoebe Bridgers\",\"The Strokes\",\"alt-J\",\"girl in red\"]\n",
        "new_artist_df = df3[((df3[\"Artist Name(s)\"] == \"Phoebe Bridgers\") | (df3[\"Artist Name(s)\"] == \"The Strokes\") | (df3[\"Artist Name(s)\"] == \"alt-J\") | (df3[\"Artist Name(s)\"] == \"girl in red\"))]\n",
        "#new_artist_df = df3[df3.[\"Track\"].isin(filterList)]\n",
        "\n",
        "new_artist_df_sorted = new_artist_df.sort_values(by=['Positivity'], ascending=True)\n",
        "new_artist_df_sorted.head(5)\n",
        "#your code\n"
      ]
    },
    {
      "cell_type": "markdown",
      "id": "4a6487f5",
      "metadata": {
        "id": "4a6487f5"
      },
      "source": [
        "Now it's time to create a visualization:\n",
        "\n",
        "- Plot the frequencies of each emotion by the artist. Use 'new_artist_df' as the data source.\n",
        "- Set the figure size as (8,6)\n",
        "- Set title as 'Artists' Emotional State'\n",
        "- Set x-tick label as 'Sad', 'Neutral' and 'Happy'.\n",
        "- Set y axis boundaries as (0,10)\n",
        "- Set x label as 'Emotions'.\n",
        "- Set y label as 'Frequencies'.\n",
        "- Set legend as ['Phoebe Bridgers', 'girl in red', 'alt-J', 'The Strokes']. Title should be artists.\n",
        "\n",
        "The result should be same as the figure below. (Colors may change, ignore them.)\n",
        "\n",
        "<img src=\"https://i.hizliresim.com/2sjj3hd.jpg\" alt=\"barplot-210\" border=\"0\" width=\"500\">"
      ]
    },
    {
      "cell_type": "code",
      "execution_count": null,
      "id": "131e33ba",
      "metadata": {
        "id": "131e33ba",
        "colab": {
          "base_uri": "https://localhost:8080/",
          "height": 505
        },
        "outputId": "6e7cb8c6-4fb7-4f5a-82cd-d4f0f528694d"
      },
      "outputs": [
        {
          "output_type": "execute_result",
          "data": {
            "text/plain": [
              "'\\nhistogram3 = new_artist_df[\"Positivity\"].plot.hist(bins=50,figsize=(8,6), alpha=1, edgecolor=\\'red\\', linewidth=1)\\nhistogram3.set_title(\"Artists\\' Emotional State\")\\nhistogram3.set_xlabel(\"Emotions\")\\nhistogram3.set_ylabel(\"Frequencies\")\\nplt.ylim([0, 10])\\n#plt.set_xticks([\\'Sad\\'],[\\'Neutral\\'],[\\'Happy\\'])\\nhistogram3.set_xticklabels([\\'Phoebe Bridgers\\', \\'girl in red\\', \\'alt-J\\', \\'The Strokes\\'])\\nplt.legend([\\'Phoebe Bridgers\\', \\'girl in red\\', \\'alt-J\\', \\'The Strokes\\'])\\nplt.show()\\n\\nplt.style.use(\\'ggplot\\')\\n'"
            ],
            "application/vnd.google.colaboratory.intrinsic+json": {
              "type": "string"
            }
          },
          "metadata": {},
          "execution_count": 36
        },
        {
          "output_type": "display_data",
          "data": {
            "text/plain": [
              "<Figure size 576x432 with 1 Axes>"
            ],
            "image/png": "[encoded data removed]"
          },
          "metadata": {
            "needs_background": "light"
          }
        }
      ],
      "source": [
        "# 10pts - tasks above\n",
        "#your code\n",
        "\n",
        "\n",
        "\n",
        "\"\"\"\n",
        "new_artist_df.plot.bar(x=\"Energy\", y=[\"Danceability\",\"Artist Name(s)\"], figsize=(8,6), title=\"Artists' Emotional State\")\n",
        "new_artist_df.plot(x=\"Emotion\", y=[\"Artist Name(s)\", \"Danceability\"], kind=\"bar\")\n",
        "\"\"\"\n",
        "\n",
        "\n",
        "\"\"\"\n",
        "new_artist_df2 = pd.DataFrame({\"Phoebe Bridgers\":[316.3, 321.3, 117.2 ],\n",
        "                   \"girl in red\":[200.1, 127.2, 60.1],\n",
        "                   \"alt-J\":[20.1, 34.1, 12.1],\n",
        "                   \"The Strokes\":[20.1, 34.1, 12.1]},\n",
        "                  index = [\"Sad\", \"Neutral\", \"Happy\"])\n",
        "\"\"\"\n",
        "df14 = new_artist_df[new_artist_df[\"Artist Name(s)\"] == 'Phoebe Bridgers']\n",
        "df15 = new_artist_df[new_artist_df[\"Artist Name(s)\"] == 'girl in red']\n",
        "df16 = new_artist_df[new_artist_df[\"Artist Name(s)\"] == 'alt-J']\n",
        "df17 = new_artist_df[new_artist_df[\"Artist Name(s)\"] == 'The Strokes']\n",
        "\n",
        "PhSad = df14['Emotion'].value_counts()['Sad']\n",
        "PhNeut = df14['Emotion'].value_counts()['Neutral']\n",
        "PhHap = df14['Emotion'].value_counts()['Happy']\n",
        "\n",
        "GirSad = df15['Emotion'].value_counts()['Sad']\n",
        "GirNeut = df15['Emotion'].value_counts()['Neutral']\n",
        "GirHap = df15['Emotion'].value_counts()['Happy']\n",
        "\n",
        "AltSad = df16['Emotion'].value_counts()['Sad']\n",
        "AltNeut = df16['Emotion'].value_counts()['Neutral']\n",
        "AltHap = df16['Emotion'].value_counts()['Happy']\n",
        "\n",
        "StSad = df17['Emotion'].value_counts()['Sad']\n",
        "StNeut = df17['Emotion'].value_counts()['Neutral']\n",
        "StHap = df17['Emotion'].value_counts()['Happy']\n",
        "\n",
        "new_artist_df2 = pd.DataFrame({\"Phoebe Bridgers\":[PhSad, PhNeut, PhHap ],\n",
        "                   \"girl in red\":[GirSad, GirNeut, GirHap],\n",
        "                   \"alt-J\":[AltSad, AltNeut, AltHap],\n",
        "                   \"The Strokes\":[StSad, StNeut, StHap]},\n",
        "                  index = [\"Sad\", \"Neutral\", \"Happy\"])\n",
        "\n",
        "\n",
        "\n",
        "new_artist_df2.plot(ylim=(0 , 10), kind=\"bar\", figsize = (8, 6), title=\"Artists' Emotional State\")\n",
        "plt.title(\"Artists' Emotional State\")\n",
        "plt.xlabel(\"Emotions\")\n",
        "plt.ylabel(\"Frequencies\")\n",
        "\n",
        "\n",
        "\n",
        "\"\"\"\n",
        "histogram3 = new_artist_df[\"Positivity\"].plot.hist(bins=50,figsize=(8,6), alpha=1, edgecolor='red', linewidth=1)\n",
        "histogram3.set_title(\"Artists' Emotional State\")\n",
        "histogram3.set_xlabel(\"Emotions\")\n",
        "histogram3.set_ylabel(\"Frequencies\")\n",
        "plt.ylim([0, 10])\n",
        "#plt.set_xticks(['Sad'],['Neutral'],['Happy'])\n",
        "histogram3.set_xticklabels(['Phoebe Bridgers', 'girl in red', 'alt-J', 'The Strokes'])\n",
        "plt.legend(['Phoebe Bridgers', 'girl in red', 'alt-J', 'The Strokes'])\n",
        "plt.show()\n",
        "\n",
        "plt.style.use('ggplot')\n",
        "\"\"\"\n",
        "\n",
        "\n",
        "\n",
        "\n",
        "\n",
        "\n",
        "\n"
      ]
    },
    {
      "cell_type": "markdown",
      "id": "84b32c14",
      "metadata": {
        "id": "84b32c14"
      },
      "source": [
        "Congratulations! You've reached the end of your assignment. In this assignment, we dealt with data questions about albums, artists, and many music related data over Spotify data. I hope it has been a fun process.\n",
        "\n",
        "**If you want to listen to the playlist we analyzed:**\n",
        "https://open.spotify.com/playlist/5TPzjEydJcgbNj7xLwKQVG?si=669fdd7512c44d96\n",
        "\n",
        "See you later!\n",
        "    \n",
        "<img src=\"https://i.imgur.com/KAoQCQg.png\" alt=\"barplot-210\" border=\"0\" width=\"300\">\n",
        "\n",
        "***dall-e prompt***: an oil painting of data science student does homework in pain\n",
        "\n"
      ]
    }
  ],
  "metadata": {
    "kernelspec": {
      "display_name": "Python 3 (ipykernel)",
      "language": "python",
      "name": "python3"
    },
    "language_info": {
      "codemirror_mode": {
        "name": "ipython",
        "version": 3
      },
      "file_extension": ".py",
      "mimetype": "text/x-python",
      "name": "python",
      "nbconvert_exporter": "python",
      "pygments_lexer": "ipython3",
      "version": "3.9.13"
    },
    "colab": {
      "provenance": [],
      "toc_visible": true
    }
  },
  "nbformat": 4,
  "nbformat_minor": 5
}